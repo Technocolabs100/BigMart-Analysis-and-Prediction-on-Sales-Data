{
 "cells": [
  {
   "cell_type": "code",
   "execution_count": 1,
   "id": "532c5214",
   "metadata": {},
   "outputs": [],
   "source": [
    "import numpy as np \n",
    "import pandas as pd \n",
    "import seaborn as sns \n",
    "import matplotlib.pyplot as plt "
   ]
  },
  {
   "cell_type": "code",
   "execution_count": 2,
   "id": "5bc79dfd",
   "metadata": {},
   "outputs": [],
   "source": [
    "data = pd.read_csv(\"Train.csv\") ; "
   ]
  },
  {
   "cell_type": "code",
   "execution_count": 3,
   "id": "f84f8818",
   "metadata": {},
   "outputs": [
    {
     "data": {
      "text/html": [
       "<div>\n",
       "<style scoped>\n",
       "    .dataframe tbody tr th:only-of-type {\n",
       "        vertical-align: middle;\n",
       "    }\n",
       "\n",
       "    .dataframe tbody tr th {\n",
       "        vertical-align: top;\n",
       "    }\n",
       "\n",
       "    .dataframe thead th {\n",
       "        text-align: right;\n",
       "    }\n",
       "</style>\n",
       "<table border=\"1\" class=\"dataframe\">\n",
       "  <thead>\n",
       "    <tr style=\"text-align: right;\">\n",
       "      <th></th>\n",
       "      <th>Item_Identifier</th>\n",
       "      <th>Item_Weight</th>\n",
       "      <th>Item_Fat_Content</th>\n",
       "      <th>Item_Visibility</th>\n",
       "      <th>Item_Type</th>\n",
       "      <th>Item_MRP</th>\n",
       "      <th>Outlet_Identifier</th>\n",
       "      <th>Outlet_Establishment_Year</th>\n",
       "      <th>Outlet_Size</th>\n",
       "      <th>Outlet_Location_Type</th>\n",
       "      <th>Outlet_Type</th>\n",
       "      <th>Item_Outlet_Sales</th>\n",
       "    </tr>\n",
       "  </thead>\n",
       "  <tbody>\n",
       "    <tr>\n",
       "      <th>0</th>\n",
       "      <td>FDA15</td>\n",
       "      <td>9.30</td>\n",
       "      <td>Low Fat</td>\n",
       "      <td>0.016047</td>\n",
       "      <td>Dairy</td>\n",
       "      <td>249.8092</td>\n",
       "      <td>OUT049</td>\n",
       "      <td>1999</td>\n",
       "      <td>Medium</td>\n",
       "      <td>Tier 1</td>\n",
       "      <td>Supermarket Type1</td>\n",
       "      <td>3735.1380</td>\n",
       "    </tr>\n",
       "    <tr>\n",
       "      <th>1</th>\n",
       "      <td>DRC01</td>\n",
       "      <td>5.92</td>\n",
       "      <td>Regular</td>\n",
       "      <td>0.019278</td>\n",
       "      <td>Soft Drinks</td>\n",
       "      <td>48.2692</td>\n",
       "      <td>OUT018</td>\n",
       "      <td>2009</td>\n",
       "      <td>Medium</td>\n",
       "      <td>Tier 3</td>\n",
       "      <td>Supermarket Type2</td>\n",
       "      <td>443.4228</td>\n",
       "    </tr>\n",
       "    <tr>\n",
       "      <th>2</th>\n",
       "      <td>FDN15</td>\n",
       "      <td>17.50</td>\n",
       "      <td>Low Fat</td>\n",
       "      <td>0.016760</td>\n",
       "      <td>Meat</td>\n",
       "      <td>141.6180</td>\n",
       "      <td>OUT049</td>\n",
       "      <td>1999</td>\n",
       "      <td>Medium</td>\n",
       "      <td>Tier 1</td>\n",
       "      <td>Supermarket Type1</td>\n",
       "      <td>2097.2700</td>\n",
       "    </tr>\n",
       "    <tr>\n",
       "      <th>3</th>\n",
       "      <td>FDX07</td>\n",
       "      <td>19.20</td>\n",
       "      <td>Regular</td>\n",
       "      <td>0.000000</td>\n",
       "      <td>Fruits and Vegetables</td>\n",
       "      <td>182.0950</td>\n",
       "      <td>OUT010</td>\n",
       "      <td>1998</td>\n",
       "      <td>NaN</td>\n",
       "      <td>Tier 3</td>\n",
       "      <td>Grocery Store</td>\n",
       "      <td>732.3800</td>\n",
       "    </tr>\n",
       "    <tr>\n",
       "      <th>4</th>\n",
       "      <td>NCD19</td>\n",
       "      <td>8.93</td>\n",
       "      <td>Low Fat</td>\n",
       "      <td>0.000000</td>\n",
       "      <td>Household</td>\n",
       "      <td>53.8614</td>\n",
       "      <td>OUT013</td>\n",
       "      <td>1987</td>\n",
       "      <td>High</td>\n",
       "      <td>Tier 3</td>\n",
       "      <td>Supermarket Type1</td>\n",
       "      <td>994.7052</td>\n",
       "    </tr>\n",
       "  </tbody>\n",
       "</table>\n",
       "</div>"
      ],
      "text/plain": [
       "  Item_Identifier  Item_Weight Item_Fat_Content  Item_Visibility  \\\n",
       "0           FDA15         9.30          Low Fat         0.016047   \n",
       "1           DRC01         5.92          Regular         0.019278   \n",
       "2           FDN15        17.50          Low Fat         0.016760   \n",
       "3           FDX07        19.20          Regular         0.000000   \n",
       "4           NCD19         8.93          Low Fat         0.000000   \n",
       "\n",
       "               Item_Type  Item_MRP Outlet_Identifier  \\\n",
       "0                  Dairy  249.8092            OUT049   \n",
       "1            Soft Drinks   48.2692            OUT018   \n",
       "2                   Meat  141.6180            OUT049   \n",
       "3  Fruits and Vegetables  182.0950            OUT010   \n",
       "4              Household   53.8614            OUT013   \n",
       "\n",
       "   Outlet_Establishment_Year Outlet_Size Outlet_Location_Type  \\\n",
       "0                       1999      Medium               Tier 1   \n",
       "1                       2009      Medium               Tier 3   \n",
       "2                       1999      Medium               Tier 1   \n",
       "3                       1998         NaN               Tier 3   \n",
       "4                       1987        High               Tier 3   \n",
       "\n",
       "         Outlet_Type  Item_Outlet_Sales  \n",
       "0  Supermarket Type1          3735.1380  \n",
       "1  Supermarket Type2           443.4228  \n",
       "2  Supermarket Type1          2097.2700  \n",
       "3      Grocery Store           732.3800  \n",
       "4  Supermarket Type1           994.7052  "
      ]
     },
     "execution_count": 3,
     "metadata": {},
     "output_type": "execute_result"
    }
   ],
   "source": [
    "data.head() "
   ]
  },
  {
   "cell_type": "code",
   "execution_count": 4,
   "id": "4ee1fcd3",
   "metadata": {},
   "outputs": [
    {
     "data": {
      "text/plain": [
       "Index(['Item_Identifier', 'Item_Weight', 'Item_Fat_Content', 'Item_Visibility',\n",
       "       'Item_Type', 'Item_MRP', 'Outlet_Identifier',\n",
       "       'Outlet_Establishment_Year', 'Outlet_Size', 'Outlet_Location_Type',\n",
       "       'Outlet_Type', 'Item_Outlet_Sales'],\n",
       "      dtype='object')"
      ]
     },
     "execution_count": 4,
     "metadata": {},
     "output_type": "execute_result"
    }
   ],
   "source": [
    "data.columns "
   ]
  },
  {
   "cell_type": "code",
   "execution_count": 5,
   "id": "183f537e",
   "metadata": {},
   "outputs": [
    {
     "data": {
      "text/plain": [
       "16"
      ]
     },
     "execution_count": 5,
     "metadata": {},
     "output_type": "execute_result"
    }
   ],
   "source": [
    "data['Item_Type'].unique().size"
   ]
  },
  {
   "cell_type": "code",
   "execution_count": 6,
   "id": "2c32cfcc",
   "metadata": {},
   "outputs": [
    {
     "data": {
      "text/plain": [
       "array(['Dairy', 'Soft Drinks', 'Meat', 'Fruits and Vegetables',\n",
       "       'Household', 'Baking Goods', 'Snack Foods', 'Frozen Foods',\n",
       "       'Breakfast', 'Health and Hygiene', 'Hard Drinks', 'Canned',\n",
       "       'Breads', 'Starchy Foods', 'Others', 'Seafood'], dtype=object)"
      ]
     },
     "execution_count": 6,
     "metadata": {},
     "output_type": "execute_result"
    }
   ],
   "source": [
    "data['Item_Type'].unique()"
   ]
  },
  {
   "cell_type": "code",
   "execution_count": 7,
   "id": "dfa3f2b4",
   "metadata": {},
   "outputs": [
    {
     "data": {
      "text/plain": [
       "10"
      ]
     },
     "execution_count": 7,
     "metadata": {},
     "output_type": "execute_result"
    }
   ],
   "source": [
    "data['Outlet_Identifier'].unique().size"
   ]
  },
  {
   "cell_type": "code",
   "execution_count": 8,
   "id": "04c854b7",
   "metadata": {},
   "outputs": [
    {
     "data": {
      "text/plain": [
       "8523"
      ]
     },
     "execution_count": 8,
     "metadata": {},
     "output_type": "execute_result"
    }
   ],
   "source": [
    "len(data) "
   ]
  },
  {
   "cell_type": "code",
   "execution_count": 9,
   "id": "f984221b",
   "metadata": {},
   "outputs": [
    {
     "data": {
      "text/html": [
       "<div>\n",
       "<style scoped>\n",
       "    .dataframe tbody tr th:only-of-type {\n",
       "        vertical-align: middle;\n",
       "    }\n",
       "\n",
       "    .dataframe tbody tr th {\n",
       "        vertical-align: top;\n",
       "    }\n",
       "\n",
       "    .dataframe thead th {\n",
       "        text-align: right;\n",
       "    }\n",
       "</style>\n",
       "<table border=\"1\" class=\"dataframe\">\n",
       "  <thead>\n",
       "    <tr style=\"text-align: right;\">\n",
       "      <th></th>\n",
       "      <th>Item_Weight</th>\n",
       "      <th>Item_Visibility</th>\n",
       "      <th>Item_MRP</th>\n",
       "      <th>Outlet_Establishment_Year</th>\n",
       "      <th>Item_Outlet_Sales</th>\n",
       "    </tr>\n",
       "  </thead>\n",
       "  <tbody>\n",
       "    <tr>\n",
       "      <th>count</th>\n",
       "      <td>7060.000000</td>\n",
       "      <td>8523.000000</td>\n",
       "      <td>8523.000000</td>\n",
       "      <td>8523.000000</td>\n",
       "      <td>8523.000000</td>\n",
       "    </tr>\n",
       "    <tr>\n",
       "      <th>mean</th>\n",
       "      <td>12.857645</td>\n",
       "      <td>0.066132</td>\n",
       "      <td>140.992782</td>\n",
       "      <td>1997.831867</td>\n",
       "      <td>2181.288914</td>\n",
       "    </tr>\n",
       "    <tr>\n",
       "      <th>std</th>\n",
       "      <td>4.643456</td>\n",
       "      <td>0.051598</td>\n",
       "      <td>62.275067</td>\n",
       "      <td>8.371760</td>\n",
       "      <td>1706.499616</td>\n",
       "    </tr>\n",
       "    <tr>\n",
       "      <th>min</th>\n",
       "      <td>4.555000</td>\n",
       "      <td>0.000000</td>\n",
       "      <td>31.290000</td>\n",
       "      <td>1985.000000</td>\n",
       "      <td>33.290000</td>\n",
       "    </tr>\n",
       "    <tr>\n",
       "      <th>25%</th>\n",
       "      <td>8.773750</td>\n",
       "      <td>0.026989</td>\n",
       "      <td>93.826500</td>\n",
       "      <td>1987.000000</td>\n",
       "      <td>834.247400</td>\n",
       "    </tr>\n",
       "    <tr>\n",
       "      <th>50%</th>\n",
       "      <td>12.600000</td>\n",
       "      <td>0.053931</td>\n",
       "      <td>143.012800</td>\n",
       "      <td>1999.000000</td>\n",
       "      <td>1794.331000</td>\n",
       "    </tr>\n",
       "    <tr>\n",
       "      <th>75%</th>\n",
       "      <td>16.850000</td>\n",
       "      <td>0.094585</td>\n",
       "      <td>185.643700</td>\n",
       "      <td>2004.000000</td>\n",
       "      <td>3101.296400</td>\n",
       "    </tr>\n",
       "    <tr>\n",
       "      <th>max</th>\n",
       "      <td>21.350000</td>\n",
       "      <td>0.328391</td>\n",
       "      <td>266.888400</td>\n",
       "      <td>2009.000000</td>\n",
       "      <td>13086.964800</td>\n",
       "    </tr>\n",
       "  </tbody>\n",
       "</table>\n",
       "</div>"
      ],
      "text/plain": [
       "       Item_Weight  Item_Visibility     Item_MRP  Outlet_Establishment_Year  \\\n",
       "count  7060.000000      8523.000000  8523.000000                8523.000000   \n",
       "mean     12.857645         0.066132   140.992782                1997.831867   \n",
       "std       4.643456         0.051598    62.275067                   8.371760   \n",
       "min       4.555000         0.000000    31.290000                1985.000000   \n",
       "25%       8.773750         0.026989    93.826500                1987.000000   \n",
       "50%      12.600000         0.053931   143.012800                1999.000000   \n",
       "75%      16.850000         0.094585   185.643700                2004.000000   \n",
       "max      21.350000         0.328391   266.888400                2009.000000   \n",
       "\n",
       "       Item_Outlet_Sales  \n",
       "count        8523.000000  \n",
       "mean         2181.288914  \n",
       "std          1706.499616  \n",
       "min            33.290000  \n",
       "25%           834.247400  \n",
       "50%          1794.331000  \n",
       "75%          3101.296400  \n",
       "max         13086.964800  "
      ]
     },
     "execution_count": 9,
     "metadata": {},
     "output_type": "execute_result"
    }
   ],
   "source": [
    "data.describe() "
   ]
  },
  {
   "cell_type": "code",
   "execution_count": 10,
   "id": "cd87c2ee",
   "metadata": {},
   "outputs": [
    {
     "data": {
      "text/plain": [
       "<bound method Series.info of 0                       Dairy\n",
       "1                 Soft Drinks\n",
       "2                        Meat\n",
       "3       Fruits and Vegetables\n",
       "4                   Household\n",
       "                ...          \n",
       "8518              Snack Foods\n",
       "8519             Baking Goods\n",
       "8520       Health and Hygiene\n",
       "8521              Snack Foods\n",
       "8522              Soft Drinks\n",
       "Name: Item_Type, Length: 8523, dtype: object>"
      ]
     },
     "execution_count": 10,
     "metadata": {},
     "output_type": "execute_result"
    }
   ],
   "source": [
    "data['Item_Type'].info"
   ]
  },
  {
   "cell_type": "code",
   "execution_count": 11,
   "id": "5953dd30",
   "metadata": {},
   "outputs": [
    {
     "data": {
      "text/plain": [
       "Item_Identifier                 0\n",
       "Item_Weight                  1463\n",
       "Item_Fat_Content                0\n",
       "Item_Visibility                 0\n",
       "Item_Type                       0\n",
       "Item_MRP                        0\n",
       "Outlet_Identifier               0\n",
       "Outlet_Establishment_Year       0\n",
       "Outlet_Size                  2410\n",
       "Outlet_Location_Type            0\n",
       "Outlet_Type                     0\n",
       "Item_Outlet_Sales               0\n",
       "dtype: int64"
      ]
     },
     "execution_count": 11,
     "metadata": {},
     "output_type": "execute_result"
    }
   ],
   "source": [
    "data.isnull().sum() "
   ]
  },
  {
   "cell_type": "code",
   "execution_count": 12,
   "id": "05812839",
   "metadata": {},
   "outputs": [
    {
     "data": {
      "text/plain": [
       "7060"
      ]
     },
     "execution_count": 12,
     "metadata": {},
     "output_type": "execute_result"
    }
   ],
   "source": [
    "len(data) -  data['Item_Weight'].isna().sum() "
   ]
  },
  {
   "cell_type": "code",
   "execution_count": 13,
   "id": "6df78289",
   "metadata": {},
   "outputs": [
    {
     "data": {
      "text/plain": [
       "8523"
      ]
     },
     "execution_count": 13,
     "metadata": {},
     "output_type": "execute_result"
    }
   ],
   "source": [
    "len(data) "
   ]
  },
  {
   "cell_type": "code",
   "execution_count": 14,
   "id": "25cccf62",
   "metadata": {},
   "outputs": [
    {
     "data": {
      "text/plain": [
       "2410"
      ]
     },
     "execution_count": 14,
     "metadata": {},
     "output_type": "execute_result"
    }
   ],
   "source": [
    "data['Outlet_Size'].isna().sum() "
   ]
  },
  {
   "cell_type": "code",
   "execution_count": 15,
   "id": "8d7bf10a",
   "metadata": {},
   "outputs": [
    {
     "data": {
      "text/plain": [
       "array(['Medium', nan, 'High', 'Small'], dtype=object)"
      ]
     },
     "execution_count": 15,
     "metadata": {},
     "output_type": "execute_result"
    }
   ],
   "source": [
    "data['Outlet_Size'].unique()  "
   ]
  },
  {
   "cell_type": "code",
   "execution_count": 16,
   "id": "6a7a164f",
   "metadata": {},
   "outputs": [
    {
     "data": {
      "text/plain": [
       "12"
      ]
     },
     "execution_count": 16,
     "metadata": {},
     "output_type": "execute_result"
    }
   ],
   "source": [
    "data.columns.size"
   ]
  },
  {
   "cell_type": "code",
   "execution_count": 17,
   "id": "fb5c860a",
   "metadata": {},
   "outputs": [
    {
     "data": {
      "text/html": [
       "<div>\n",
       "<style scoped>\n",
       "    .dataframe tbody tr th:only-of-type {\n",
       "        vertical-align: middle;\n",
       "    }\n",
       "\n",
       "    .dataframe tbody tr th {\n",
       "        vertical-align: top;\n",
       "    }\n",
       "\n",
       "    .dataframe thead th {\n",
       "        text-align: right;\n",
       "    }\n",
       "</style>\n",
       "<table border=\"1\" class=\"dataframe\">\n",
       "  <thead>\n",
       "    <tr style=\"text-align: right;\">\n",
       "      <th></th>\n",
       "      <th>Item_Weight</th>\n",
       "      <th>Item_Visibility</th>\n",
       "      <th>Item_MRP</th>\n",
       "      <th>Outlet_Establishment_Year</th>\n",
       "      <th>Item_Outlet_Sales</th>\n",
       "    </tr>\n",
       "  </thead>\n",
       "  <tbody>\n",
       "    <tr>\n",
       "      <th>count</th>\n",
       "      <td>7060.000000</td>\n",
       "      <td>8523.000000</td>\n",
       "      <td>8523.000000</td>\n",
       "      <td>8523.000000</td>\n",
       "      <td>8523.000000</td>\n",
       "    </tr>\n",
       "    <tr>\n",
       "      <th>mean</th>\n",
       "      <td>12.857645</td>\n",
       "      <td>0.066132</td>\n",
       "      <td>140.992782</td>\n",
       "      <td>1997.831867</td>\n",
       "      <td>2181.288914</td>\n",
       "    </tr>\n",
       "    <tr>\n",
       "      <th>std</th>\n",
       "      <td>4.643456</td>\n",
       "      <td>0.051598</td>\n",
       "      <td>62.275067</td>\n",
       "      <td>8.371760</td>\n",
       "      <td>1706.499616</td>\n",
       "    </tr>\n",
       "    <tr>\n",
       "      <th>min</th>\n",
       "      <td>4.555000</td>\n",
       "      <td>0.000000</td>\n",
       "      <td>31.290000</td>\n",
       "      <td>1985.000000</td>\n",
       "      <td>33.290000</td>\n",
       "    </tr>\n",
       "    <tr>\n",
       "      <th>25%</th>\n",
       "      <td>8.773750</td>\n",
       "      <td>0.026989</td>\n",
       "      <td>93.826500</td>\n",
       "      <td>1987.000000</td>\n",
       "      <td>834.247400</td>\n",
       "    </tr>\n",
       "    <tr>\n",
       "      <th>50%</th>\n",
       "      <td>12.600000</td>\n",
       "      <td>0.053931</td>\n",
       "      <td>143.012800</td>\n",
       "      <td>1999.000000</td>\n",
       "      <td>1794.331000</td>\n",
       "    </tr>\n",
       "    <tr>\n",
       "      <th>75%</th>\n",
       "      <td>16.850000</td>\n",
       "      <td>0.094585</td>\n",
       "      <td>185.643700</td>\n",
       "      <td>2004.000000</td>\n",
       "      <td>3101.296400</td>\n",
       "    </tr>\n",
       "    <tr>\n",
       "      <th>max</th>\n",
       "      <td>21.350000</td>\n",
       "      <td>0.328391</td>\n",
       "      <td>266.888400</td>\n",
       "      <td>2009.000000</td>\n",
       "      <td>13086.964800</td>\n",
       "    </tr>\n",
       "  </tbody>\n",
       "</table>\n",
       "</div>"
      ],
      "text/plain": [
       "       Item_Weight  Item_Visibility     Item_MRP  Outlet_Establishment_Year  \\\n",
       "count  7060.000000      8523.000000  8523.000000                8523.000000   \n",
       "mean     12.857645         0.066132   140.992782                1997.831867   \n",
       "std       4.643456         0.051598    62.275067                   8.371760   \n",
       "min       4.555000         0.000000    31.290000                1985.000000   \n",
       "25%       8.773750         0.026989    93.826500                1987.000000   \n",
       "50%      12.600000         0.053931   143.012800                1999.000000   \n",
       "75%      16.850000         0.094585   185.643700                2004.000000   \n",
       "max      21.350000         0.328391   266.888400                2009.000000   \n",
       "\n",
       "       Item_Outlet_Sales  \n",
       "count        8523.000000  \n",
       "mean         2181.288914  \n",
       "std          1706.499616  \n",
       "min            33.290000  \n",
       "25%           834.247400  \n",
       "50%          1794.331000  \n",
       "75%          3101.296400  \n",
       "max         13086.964800  "
      ]
     },
     "execution_count": 17,
     "metadata": {},
     "output_type": "execute_result"
    }
   ],
   "source": [
    "data.describe() "
   ]
  },
  {
   "cell_type": "code",
   "execution_count": 18,
   "id": "302f9455",
   "metadata": {},
   "outputs": [
    {
     "name": "stdout",
     "output_type": "stream",
     "text": [
      "<class 'pandas.core.frame.DataFrame'>\n",
      "RangeIndex: 8523 entries, 0 to 8522\n",
      "Data columns (total 12 columns):\n",
      " #   Column                     Non-Null Count  Dtype  \n",
      "---  ------                     --------------  -----  \n",
      " 0   Item_Identifier            8523 non-null   object \n",
      " 1   Item_Weight                7060 non-null   float64\n",
      " 2   Item_Fat_Content           8523 non-null   object \n",
      " 3   Item_Visibility            8523 non-null   float64\n",
      " 4   Item_Type                  8523 non-null   object \n",
      " 5   Item_MRP                   8523 non-null   float64\n",
      " 6   Outlet_Identifier          8523 non-null   object \n",
      " 7   Outlet_Establishment_Year  8523 non-null   int64  \n",
      " 8   Outlet_Size                6113 non-null   object \n",
      " 9   Outlet_Location_Type       8523 non-null   object \n",
      " 10  Outlet_Type                8523 non-null   object \n",
      " 11  Item_Outlet_Sales          8523 non-null   float64\n",
      "dtypes: float64(4), int64(1), object(7)\n",
      "memory usage: 799.2+ KB\n"
     ]
    }
   ],
   "source": [
    "data.info() "
   ]
  },
  {
   "cell_type": "code",
   "execution_count": 19,
   "id": "1860fef5",
   "metadata": {},
   "outputs": [
    {
     "data": {
      "text/plain": [
       "8523"
      ]
     },
     "execution_count": 19,
     "metadata": {},
     "output_type": "execute_result"
    }
   ],
   "source": [
    "data['Item_Identifier'].size"
   ]
  },
  {
   "cell_type": "code",
   "execution_count": 20,
   "id": "db22f214",
   "metadata": {},
   "outputs": [
    {
     "data": {
      "text/plain": [
       "8523"
      ]
     },
     "execution_count": 20,
     "metadata": {},
     "output_type": "execute_result"
    }
   ],
   "source": [
    "len(data) "
   ]
  },
  {
   "cell_type": "code",
   "execution_count": 21,
   "id": "b1a76def",
   "metadata": {},
   "outputs": [
    {
     "data": {
      "text/plain": [
       "8523"
      ]
     },
     "execution_count": 21,
     "metadata": {},
     "output_type": "execute_result"
    }
   ],
   "source": [
    "data['Item_Fat_Content'].size"
   ]
  },
  {
   "cell_type": "code",
   "execution_count": 22,
   "id": "335701ee",
   "metadata": {},
   "outputs": [
    {
     "data": {
      "text/plain": [
       "array(['Low Fat', 'Regular', 'low fat', 'LF', 'reg'], dtype=object)"
      ]
     },
     "execution_count": 22,
     "metadata": {},
     "output_type": "execute_result"
    }
   ],
   "source": [
    "data['Item_Fat_Content'].unique()  "
   ]
  },
  {
   "cell_type": "code",
   "execution_count": 23,
   "id": "271e384c",
   "metadata": {},
   "outputs": [
    {
     "data": {
      "text/plain": [
       "(0.328390948, 0.0)"
      ]
     },
     "execution_count": 23,
     "metadata": {},
     "output_type": "execute_result"
    }
   ],
   "source": [
    "data['Item_Visibility'].max()  , data['Item_Visibility'].min() \n"
   ]
  },
  {
   "cell_type": "code",
   "execution_count": 24,
   "id": "45f28315",
   "metadata": {},
   "outputs": [
    {
     "data": {
      "text/plain": [
       "16"
      ]
     },
     "execution_count": 24,
     "metadata": {},
     "output_type": "execute_result"
    }
   ],
   "source": [
    "len(data['Item_Type'].unique())"
   ]
  },
  {
   "cell_type": "code",
   "execution_count": 25,
   "id": "31e3e563",
   "metadata": {},
   "outputs": [
    {
     "data": {
      "text/plain": [
       "array(['OUT049', 'OUT018', 'OUT010', 'OUT013', 'OUT027', 'OUT045',\n",
       "       'OUT017', 'OUT046', 'OUT035', 'OUT019'], dtype=object)"
      ]
     },
     "execution_count": 25,
     "metadata": {},
     "output_type": "execute_result"
    }
   ],
   "source": [
    "data['Outlet_Identifier'].unique()"
   ]
  },
  {
   "cell_type": "code",
   "execution_count": 26,
   "id": "4e5cc64d",
   "metadata": {},
   "outputs": [
    {
     "data": {
      "text/plain": [
       "array([1999, 2009, 1998, 1987, 1985, 2002, 2007, 1997, 2004], dtype=int64)"
      ]
     },
     "execution_count": 26,
     "metadata": {},
     "output_type": "execute_result"
    }
   ],
   "source": [
    "data['Outlet_Establishment_Year'].unique()"
   ]
  },
  {
   "cell_type": "code",
   "execution_count": 27,
   "id": "84c77c59",
   "metadata": {},
   "outputs": [
    {
     "data": {
      "text/plain": [
       "array(['Medium', nan, 'High', 'Small'], dtype=object)"
      ]
     },
     "execution_count": 27,
     "metadata": {},
     "output_type": "execute_result"
    }
   ],
   "source": [
    "data['Outlet_Size'].unique()"
   ]
  },
  {
   "cell_type": "code",
   "execution_count": 28,
   "id": "ba61758c",
   "metadata": {},
   "outputs": [
    {
     "data": {
      "text/plain": [
       "array(['Tier 1', 'Tier 3', 'Tier 2'], dtype=object)"
      ]
     },
     "execution_count": 28,
     "metadata": {},
     "output_type": "execute_result"
    }
   ],
   "source": [
    "data['Outlet_Location_Type'].unique() "
   ]
  },
  {
   "cell_type": "code",
   "execution_count": 29,
   "id": "ddc4bc79",
   "metadata": {},
   "outputs": [
    {
     "data": {
      "text/plain": [
       "array(['Supermarket Type1', 'Supermarket Type2', 'Grocery Store',\n",
       "       'Supermarket Type3'], dtype=object)"
      ]
     },
     "execution_count": 29,
     "metadata": {},
     "output_type": "execute_result"
    }
   ],
   "source": [
    "data['Outlet_Type'].unique() \n"
   ]
  },
  {
   "cell_type": "code",
   "execution_count": 30,
   "id": "5743b695",
   "metadata": {},
   "outputs": [
    {
     "data": {
      "text/plain": [
       "(13086.9648, 33.29)"
      ]
     },
     "execution_count": 30,
     "metadata": {},
     "output_type": "execute_result"
    }
   ],
   "source": [
    "\n",
    "data[\"Item_Outlet_Sales\"].max()  , data['Item_Outlet_Sales'].min() "
   ]
  },
  {
   "cell_type": "code",
   "execution_count": 31,
   "id": "adbeeab3",
   "metadata": {},
   "outputs": [
    {
     "data": {
      "text/plain": [
       "1463"
      ]
     },
     "execution_count": 31,
     "metadata": {},
     "output_type": "execute_result"
    }
   ],
   "source": [
    "data['Item_Weight'].isna().sum()"
   ]
  },
  {
   "cell_type": "code",
   "execution_count": 32,
   "id": "a3971cde",
   "metadata": {},
   "outputs": [
    {
     "data": {
      "text/plain": [
       "Index(['Item_Identifier', 'Item_Weight', 'Item_Fat_Content', 'Item_Visibility',\n",
       "       'Item_Type', 'Item_MRP', 'Outlet_Identifier',\n",
       "       'Outlet_Establishment_Year', 'Outlet_Size', 'Outlet_Location_Type',\n",
       "       'Outlet_Type', 'Item_Outlet_Sales'],\n",
       "      dtype='object')"
      ]
     },
     "execution_count": 32,
     "metadata": {},
     "output_type": "execute_result"
    }
   ],
   "source": [
    "data.columns \n"
   ]
  },
  {
   "cell_type": "code",
   "execution_count": 33,
   "id": "82968102",
   "metadata": {},
   "outputs": [],
   "source": [
    "\n",
    "data = data.drop('Item_Identifier'  , axis = 'columns') "
   ]
  },
  {
   "cell_type": "code",
   "execution_count": null,
   "id": "6a3499cc",
   "metadata": {},
   "outputs": [],
   "source": []
  },
  {
   "cell_type": "code",
   "execution_count": 34,
   "id": "e3395af8",
   "metadata": {},
   "outputs": [
    {
     "data": {
      "text/plain": [
       "Index(['Item_Weight', 'Item_Fat_Content', 'Item_Visibility', 'Item_Type',\n",
       "       'Item_MRP', 'Outlet_Identifier', 'Outlet_Establishment_Year',\n",
       "       'Outlet_Size', 'Outlet_Location_Type', 'Outlet_Type',\n",
       "       'Item_Outlet_Sales'],\n",
       "      dtype='object')"
      ]
     },
     "execution_count": 34,
     "metadata": {},
     "output_type": "execute_result"
    }
   ],
   "source": [
    "data.columns "
   ]
  },
  {
   "cell_type": "code",
   "execution_count": 35,
   "id": "a5122405",
   "metadata": {},
   "outputs": [
    {
     "data": {
      "text/html": [
       "<div>\n",
       "<style scoped>\n",
       "    .dataframe tbody tr th:only-of-type {\n",
       "        vertical-align: middle;\n",
       "    }\n",
       "\n",
       "    .dataframe tbody tr th {\n",
       "        vertical-align: top;\n",
       "    }\n",
       "\n",
       "    .dataframe thead th {\n",
       "        text-align: right;\n",
       "    }\n",
       "</style>\n",
       "<table border=\"1\" class=\"dataframe\">\n",
       "  <thead>\n",
       "    <tr style=\"text-align: right;\">\n",
       "      <th></th>\n",
       "      <th>Item_Weight</th>\n",
       "      <th>Item_Fat_Content</th>\n",
       "      <th>Item_Visibility</th>\n",
       "      <th>Item_Type</th>\n",
       "      <th>Item_MRP</th>\n",
       "      <th>Outlet_Identifier</th>\n",
       "      <th>Outlet_Establishment_Year</th>\n",
       "      <th>Outlet_Size</th>\n",
       "      <th>Outlet_Location_Type</th>\n",
       "      <th>Outlet_Type</th>\n",
       "      <th>Item_Outlet_Sales</th>\n",
       "    </tr>\n",
       "  </thead>\n",
       "  <tbody>\n",
       "    <tr>\n",
       "      <th>0</th>\n",
       "      <td>9.30</td>\n",
       "      <td>Low Fat</td>\n",
       "      <td>0.016047</td>\n",
       "      <td>Dairy</td>\n",
       "      <td>249.8092</td>\n",
       "      <td>OUT049</td>\n",
       "      <td>1999</td>\n",
       "      <td>Medium</td>\n",
       "      <td>Tier 1</td>\n",
       "      <td>Supermarket Type1</td>\n",
       "      <td>3735.1380</td>\n",
       "    </tr>\n",
       "    <tr>\n",
       "      <th>1</th>\n",
       "      <td>5.92</td>\n",
       "      <td>Regular</td>\n",
       "      <td>0.019278</td>\n",
       "      <td>Soft Drinks</td>\n",
       "      <td>48.2692</td>\n",
       "      <td>OUT018</td>\n",
       "      <td>2009</td>\n",
       "      <td>Medium</td>\n",
       "      <td>Tier 3</td>\n",
       "      <td>Supermarket Type2</td>\n",
       "      <td>443.4228</td>\n",
       "    </tr>\n",
       "    <tr>\n",
       "      <th>2</th>\n",
       "      <td>17.50</td>\n",
       "      <td>Low Fat</td>\n",
       "      <td>0.016760</td>\n",
       "      <td>Meat</td>\n",
       "      <td>141.6180</td>\n",
       "      <td>OUT049</td>\n",
       "      <td>1999</td>\n",
       "      <td>Medium</td>\n",
       "      <td>Tier 1</td>\n",
       "      <td>Supermarket Type1</td>\n",
       "      <td>2097.2700</td>\n",
       "    </tr>\n",
       "    <tr>\n",
       "      <th>3</th>\n",
       "      <td>19.20</td>\n",
       "      <td>Regular</td>\n",
       "      <td>0.000000</td>\n",
       "      <td>Fruits and Vegetables</td>\n",
       "      <td>182.0950</td>\n",
       "      <td>OUT010</td>\n",
       "      <td>1998</td>\n",
       "      <td>NaN</td>\n",
       "      <td>Tier 3</td>\n",
       "      <td>Grocery Store</td>\n",
       "      <td>732.3800</td>\n",
       "    </tr>\n",
       "    <tr>\n",
       "      <th>4</th>\n",
       "      <td>8.93</td>\n",
       "      <td>Low Fat</td>\n",
       "      <td>0.000000</td>\n",
       "      <td>Household</td>\n",
       "      <td>53.8614</td>\n",
       "      <td>OUT013</td>\n",
       "      <td>1987</td>\n",
       "      <td>High</td>\n",
       "      <td>Tier 3</td>\n",
       "      <td>Supermarket Type1</td>\n",
       "      <td>994.7052</td>\n",
       "    </tr>\n",
       "  </tbody>\n",
       "</table>\n",
       "</div>"
      ],
      "text/plain": [
       "   Item_Weight Item_Fat_Content  Item_Visibility              Item_Type  \\\n",
       "0         9.30          Low Fat         0.016047                  Dairy   \n",
       "1         5.92          Regular         0.019278            Soft Drinks   \n",
       "2        17.50          Low Fat         0.016760                   Meat   \n",
       "3        19.20          Regular         0.000000  Fruits and Vegetables   \n",
       "4         8.93          Low Fat         0.000000              Household   \n",
       "\n",
       "   Item_MRP Outlet_Identifier  Outlet_Establishment_Year Outlet_Size  \\\n",
       "0  249.8092            OUT049                       1999      Medium   \n",
       "1   48.2692            OUT018                       2009      Medium   \n",
       "2  141.6180            OUT049                       1999      Medium   \n",
       "3  182.0950            OUT010                       1998         NaN   \n",
       "4   53.8614            OUT013                       1987        High   \n",
       "\n",
       "  Outlet_Location_Type        Outlet_Type  Item_Outlet_Sales  \n",
       "0               Tier 1  Supermarket Type1          3735.1380  \n",
       "1               Tier 3  Supermarket Type2           443.4228  \n",
       "2               Tier 1  Supermarket Type1          2097.2700  \n",
       "3               Tier 3      Grocery Store           732.3800  \n",
       "4               Tier 3  Supermarket Type1           994.7052  "
      ]
     },
     "execution_count": 35,
     "metadata": {},
     "output_type": "execute_result"
    }
   ],
   "source": [
    "data.head()"
   ]
  },
  {
   "cell_type": "code",
   "execution_count": 36,
   "id": "8489055d",
   "metadata": {},
   "outputs": [
    {
     "data": {
      "text/plain": [
       "{'Dairy': 682,\n",
       " 'Soft Drinks': 445,\n",
       " 'Meat': 425,\n",
       " 'Fruits and Vegetables': 1232,\n",
       " 'Household': 910,\n",
       " 'Baking Goods': 648,\n",
       " 'Snack Foods': 1200,\n",
       " 'Frozen Foods': 856,\n",
       " 'Breakfast': 110,\n",
       " 'Health and Hygiene': 520,\n",
       " 'Hard Drinks': 214,\n",
       " 'Canned': 649,\n",
       " 'Breads': 251,\n",
       " 'Starchy Foods': 148,\n",
       " 'Others': 169,\n",
       " 'Seafood': 64}"
      ]
     },
     "execution_count": 36,
     "metadata": {},
     "output_type": "execute_result"
    }
   ],
   "source": [
    "count_frequency = {} \n",
    "for item in data['Item_Type']:\n",
    "    if item not in count_frequency :\n",
    "        count_frequency[item] = 0 \n",
    "    count_frequency[item]+=1\n",
    "count_frequency "
   ]
  },
  {
   "cell_type": "code",
   "execution_count": 37,
   "id": "70bc9034",
   "metadata": {},
   "outputs": [
    {
     "name": "stderr",
     "output_type": "stream",
     "text": [
      "C:\\Users\\Levi\\anaconda3\\lib\\site-packages\\seaborn\\_decorators.py:36: FutureWarning: Pass the following variable as a keyword arg: x. From version 0.12, the only valid positional argument will be `data`, and passing other arguments without an explicit keyword will result in an error or misinterpretation.\n",
      "  warnings.warn(\n"
     ]
    },
    {
     "data": {
      "text/plain": [
       "<AxesSubplot:xlabel='Item_Type', ylabel='count'>"
      ]
     },
     "execution_count": 37,
     "metadata": {},
     "output_type": "execute_result"
    },
    {
     "data": {
      "image/png": "[encoded data removed]",
      "text/plain": [
       "<Figure size 1440x720 with 1 Axes>"
      ]
     },
     "metadata": {
      "needs_background": "light"
     },
     "output_type": "display_data"
    }
   ],
   "source": [
    "hist_fig = plt.figure()\n",
    "hist_fig.set_figwidth(20)\n",
    "hist_fig.set_figheight(10) \n",
    "sns.countplot(data['Item_Type'], hue = data['Item_Fat_Content']) "
   ]
  },
  {
   "cell_type": "code",
   "execution_count": 38,
   "id": "1fedfbd5",
   "metadata": {},
   "outputs": [
    {
     "data": {
      "text/plain": [
       "{'Dairy': 682,\n",
       " 'Soft Drinks': 445,\n",
       " 'Meat': 425,\n",
       " 'Fruits and Vegetables': 1232,\n",
       " 'Household': 910,\n",
       " 'Baking Goods': 648,\n",
       " 'Snack Foods': 1200,\n",
       " 'Frozen Foods': 856,\n",
       " 'Breakfast': 110,\n",
       " 'Health and Hygiene': 520,\n",
       " 'Hard Drinks': 214,\n",
       " 'Canned': 649,\n",
       " 'Breads': 251,\n",
       " 'Starchy Foods': 148,\n",
       " 'Others': 169,\n",
       " 'Seafood': 64}"
      ]
     },
     "execution_count": 38,
     "metadata": {},
     "output_type": "execute_result"
    }
   ],
   "source": [
    "count_frequency"
   ]
  },
  {
   "cell_type": "code",
   "execution_count": 39,
   "id": "d8e0214e",
   "metadata": {},
   "outputs": [
    {
     "data": {
      "text/plain": [
       "Index(['Item_Weight', 'Item_Fat_Content', 'Item_Visibility', 'Item_Type',\n",
       "       'Item_MRP', 'Outlet_Identifier', 'Outlet_Establishment_Year',\n",
       "       'Outlet_Size', 'Outlet_Location_Type', 'Outlet_Type',\n",
       "       'Item_Outlet_Sales'],\n",
       "      dtype='object')"
      ]
     },
     "execution_count": 39,
     "metadata": {},
     "output_type": "execute_result"
    }
   ],
   "source": [
    "data.columns "
   ]
  },
  {
   "cell_type": "code",
   "execution_count": 40,
   "id": "b83b9fda",
   "metadata": {},
   "outputs": [
    {
     "data": {
      "text/plain": [
       "(4.555, 21.35)"
      ]
     },
     "execution_count": 40,
     "metadata": {},
     "output_type": "execute_result"
    }
   ],
   "source": [
    "data['Item_Weight'].min() , data['Item_Weight'].max() "
   ]
  },
  {
   "cell_type": "code",
   "execution_count": 41,
   "id": "61eb9935",
   "metadata": {},
   "outputs": [
    {
     "data": {
      "text/plain": [
       "0"
      ]
     },
     "execution_count": 41,
     "metadata": {},
     "output_type": "execute_result"
    }
   ],
   "source": [
    "data.duplicated().sum() "
   ]
  },
  {
   "cell_type": "code",
   "execution_count": 42,
   "id": "2d3639ce",
   "metadata": {},
   "outputs": [
    {
     "name": "stderr",
     "output_type": "stream",
     "text": [
      "C:\\Users\\Levi\\anaconda3\\lib\\site-packages\\seaborn\\_decorators.py:36: FutureWarning: Pass the following variable as a keyword arg: x. From version 0.12, the only valid positional argument will be `data`, and passing other arguments without an explicit keyword will result in an error or misinterpretation.\n",
      "  warnings.warn(\n"
     ]
    },
    {
     "data": {
      "text/plain": [
       "<AxesSubplot:xlabel='Item_Fat_Content', ylabel='count'>"
      ]
     },
     "execution_count": 42,
     "metadata": {},
     "output_type": "execute_result"
    },
    {
     "data": {
      "image/png": "[encoded data removed]",
      "text/plain": [
       "<Figure size 432x288 with 1 Axes>"
      ]
     },
     "metadata": {
      "needs_background": "light"
     },
     "output_type": "display_data"
    }
   ],
   "source": [
    "sns.countplot(data['Item_Fat_Content'])"
   ]
  },
  {
   "cell_type": "code",
   "execution_count": 43,
   "id": "4985c855",
   "metadata": {},
   "outputs": [],
   "source": [
    "data[\"Item_Fat_Content\"] = data[\"Item_Fat_Content\"].replace(\"LF\" , \"Low Fat\") ; \n",
    "data[\"Item_Fat_Content\"] = data[\"Item_Fat_Content\"].replace(\"low fat\" , \"Low Fat\") ; \n",
    "data[\"Item_Fat_Content\"] = data[\"Item_Fat_Content\"].replace(\"reg\" , \"Regular\") ;"
   ]
  },
  {
   "cell_type": "code",
   "execution_count": null,
   "id": "6de80898",
   "metadata": {},
   "outputs": [],
   "source": []
  },
  {
   "cell_type": "code",
   "execution_count": 44,
   "id": "d8c5f573",
   "metadata": {},
   "outputs": [
    {
     "name": "stderr",
     "output_type": "stream",
     "text": [
      "C:\\Users\\Levi\\anaconda3\\lib\\site-packages\\seaborn\\_decorators.py:36: FutureWarning: Pass the following variable as a keyword arg: x. From version 0.12, the only valid positional argument will be `data`, and passing other arguments without an explicit keyword will result in an error or misinterpretation.\n",
      "  warnings.warn(\n"
     ]
    },
    {
     "data": {
      "text/plain": [
       "<AxesSubplot:xlabel='Item_Fat_Content', ylabel='count'>"
      ]
     },
     "execution_count": 44,
     "metadata": {},
     "output_type": "execute_result"
    },
    {
     "data": {
      "image/png": "[encoded data removed]",
      "text/plain": [
       "<Figure size 432x288 with 1 Axes>"
      ]
     },
     "metadata": {
      "needs_background": "light"
     },
     "output_type": "display_data"
    }
   ],
   "source": [
    "sns.countplot(data[\"Item_Fat_Content\"]) "
   ]
  },
  {
   "cell_type": "code",
   "execution_count": 45,
   "id": "7483a09b",
   "metadata": {},
   "outputs": [
    {
     "data": {
      "text/plain": [
       "<AxesSubplot:ylabel='Item_Fat_Content'>"
      ]
     },
     "execution_count": 45,
     "metadata": {},
     "output_type": "execute_result"
    },
    {
     "data": {
      "image/png": "[encoded data removed]",
      "text/plain": [
       "<Figure size 432x288 with 1 Axes>"
      ]
     },
     "metadata": {},
     "output_type": "display_data"
    }
   ],
   "source": [
    "data['Item_Fat_Content'].value_counts().plot(kind = 'pie'  ,autopct = \"%.2f \") "
   ]
  },
  {
   "cell_type": "code",
   "execution_count": 46,
   "id": "ea9d781e",
   "metadata": {},
   "outputs": [
    {
     "name": "stderr",
     "output_type": "stream",
     "text": [
      "C:\\Users\\Levi\\anaconda3\\lib\\site-packages\\seaborn\\_decorators.py:36: FutureWarning: Pass the following variable as a keyword arg: x. From version 0.12, the only valid positional argument will be `data`, and passing other arguments without an explicit keyword will result in an error or misinterpretation.\n",
      "  warnings.warn(\n"
     ]
    },
    {
     "data": {
      "text/plain": [
       "<AxesSubplot:xlabel='Outlet_Location_Type', ylabel='count'>"
      ]
     },
     "execution_count": 46,
     "metadata": {},
     "output_type": "execute_result"
    },
    {
     "data": {
      "image/png": "[encoded data removed]",
      "text/plain": [
       "<Figure size 432x288 with 1 Axes>"
      ]
     },
     "metadata": {
      "needs_background": "light"
     },
     "output_type": "display_data"
    }
   ],
   "source": [
    "sns.countplot(data['Outlet_Location_Type']) "
   ]
  },
  {
   "cell_type": "code",
   "execution_count": 47,
   "id": "701e8e1a",
   "metadata": {},
   "outputs": [
    {
     "data": {
      "text/plain": [
       "count    8523.000000\n",
       "mean        0.066132\n",
       "std         0.051598\n",
       "min         0.000000\n",
       "25%         0.026989\n",
       "50%         0.053931\n",
       "75%         0.094585\n",
       "max         0.328391\n",
       "Name: Item_Visibility, dtype: float64"
      ]
     },
     "execution_count": 47,
     "metadata": {},
     "output_type": "execute_result"
    }
   ],
   "source": [
    "data['Item_Visibility'].describe()"
   ]
  },
  {
   "cell_type": "code",
   "execution_count": 48,
   "id": "debfcf08",
   "metadata": {},
   "outputs": [
    {
     "data": {
      "text/plain": [
       "count    7060.000000\n",
       "mean       12.857645\n",
       "std         4.643456\n",
       "min         4.555000\n",
       "25%         8.773750\n",
       "50%        12.600000\n",
       "75%        16.850000\n",
       "max        21.350000\n",
       "Name: Item_Weight, dtype: float64"
      ]
     },
     "execution_count": 48,
     "metadata": {},
     "output_type": "execute_result"
    }
   ],
   "source": [
    "data['Item_Weight'].describe() "
   ]
  },
  {
   "cell_type": "code",
   "execution_count": 49,
   "id": "b9ad8b16",
   "metadata": {},
   "outputs": [
    {
     "name": "stderr",
     "output_type": "stream",
     "text": [
      "C:\\Users\\Levi\\anaconda3\\lib\\site-packages\\seaborn\\_decorators.py:36: FutureWarning: Pass the following variable as a keyword arg: x. From version 0.12, the only valid positional argument will be `data`, and passing other arguments without an explicit keyword will result in an error or misinterpretation.\n",
      "  warnings.warn(\n"
     ]
    },
    {
     "data": {
      "image/png": "[encoded data removed]",
      "text/plain": [
       "<Figure size 720x360 with 1 Axes>"
      ]
     },
     "metadata": {
      "needs_background": "light"
     },
     "output_type": "display_data"
    }
   ],
   "source": [
    "fig = plt.figure() \n",
    "fig.set_figwidth(10) \n",
    "fig.set_figheight(5) \n",
    "sns.countplot(data['Outlet_Type'] , hue = data['Item_Fat_Content'] ) ; "
   ]
  },
  {
   "cell_type": "markdown",
   "id": "1df4a764",
   "metadata": {},
   "source": [
    "\n"
   ]
  },
  {
   "cell_type": "code",
   "execution_count": 50,
   "id": "29cc5d83",
   "metadata": {},
   "outputs": [
    {
     "name": "stderr",
     "output_type": "stream",
     "text": [
      "C:\\Users\\Levi\\anaconda3\\lib\\site-packages\\seaborn\\_decorators.py:36: FutureWarning: Pass the following variable as a keyword arg: x. From version 0.12, the only valid positional argument will be `data`, and passing other arguments without an explicit keyword will result in an error or misinterpretation.\n",
      "  warnings.warn(\n"
     ]
    },
    {
     "data": {
      "text/plain": [
       "<AxesSubplot:xlabel='Item_Weight'>"
      ]
     },
     "execution_count": 50,
     "metadata": {},
     "output_type": "execute_result"
    },
    {
     "data": {
      "image/png": "[encoded data removed]",
      "text/plain": [
       "<Figure size 432x288 with 1 Axes>"
      ]
     },
     "metadata": {
      "needs_background": "light"
     },
     "output_type": "display_data"
    }
   ],
   "source": [
    "sns.boxplot(data['Item_Weight'] , showmeans = True )  "
   ]
  },
  {
   "cell_type": "code",
   "execution_count": 51,
   "id": "665c2b45",
   "metadata": {},
   "outputs": [
    {
     "name": "stderr",
     "output_type": "stream",
     "text": [
      "C:\\Users\\Levi\\anaconda3\\lib\\site-packages\\seaborn\\_decorators.py:36: FutureWarning: Pass the following variable as a keyword arg: x. From version 0.12, the only valid positional argument will be `data`, and passing other arguments without an explicit keyword will result in an error or misinterpretation.\n",
      "  warnings.warn(\n"
     ]
    },
    {
     "data": {
      "text/plain": [
       "<AxesSubplot:xlabel='Item_Visibility'>"
      ]
     },
     "execution_count": 51,
     "metadata": {},
     "output_type": "execute_result"
    },
    {
     "data": {
      "image/png": "[encoded data removed]",
      "text/plain": [
       "<Figure size 432x288 with 1 Axes>"
      ]
     },
     "metadata": {
      "needs_background": "light"
     },
     "output_type": "display_data"
    }
   ],
   "source": [
    "sns.boxplot(data['Item_Visibility'] , showmeans = True )"
   ]
  },
  {
   "cell_type": "code",
   "execution_count": 52,
   "id": "dedf88a8",
   "metadata": {},
   "outputs": [
    {
     "data": {
      "text/plain": [
       "(0.0, 0.328390948)"
      ]
     },
     "execution_count": 52,
     "metadata": {},
     "output_type": "execute_result"
    }
   ],
   "source": [
    "data['Item_Visibility'].min()  , data['Item_Visibility'].max()"
   ]
  },
  {
   "cell_type": "code",
   "execution_count": 53,
   "id": "43bc9b36",
   "metadata": {},
   "outputs": [],
   "source": [
    "def remove_outliers(col):\n",
    "    q1 ,q3  = col.quantile([0.25 , 0.75]) \n",
    "    IQR =  q3 - q1 \n",
    "    lr = q1 - (1.5 * IQR) \n",
    "    ur = q3 + (1.5 * IQR) \n",
    "    return lr , ur "
   ]
  },
  {
   "cell_type": "code",
   "execution_count": 54,
   "id": "76613f2a",
   "metadata": {},
   "outputs": [],
   "source": [
    "lr , ur  = remove_outliers(data['Item_Visibility']) \n",
    "data[\"Item_Visibility\"] = np.where(data[\"Item_Visibility\"] > ur  , ur , data['Item_Visibility'] ) ; \n",
    "data[\"Item_Visibility\"] = np.where(data[\"Item_Visibility\"] < lr  , lr , data['Item_Visibility'] ) ;\n"
   ]
  },
  {
   "cell_type": "code",
   "execution_count": 55,
   "id": "78ba1f81",
   "metadata": {},
   "outputs": [
    {
     "name": "stderr",
     "output_type": "stream",
     "text": [
      "C:\\Users\\Levi\\anaconda3\\lib\\site-packages\\seaborn\\_decorators.py:36: FutureWarning: Pass the following variable as a keyword arg: x. From version 0.12, the only valid positional argument will be `data`, and passing other arguments without an explicit keyword will result in an error or misinterpretation.\n",
      "  warnings.warn(\n"
     ]
    },
    {
     "data": {
      "text/plain": [
       "<AxesSubplot:xlabel='Item_Visibility'>"
      ]
     },
     "execution_count": 55,
     "metadata": {},
     "output_type": "execute_result"
    },
    {
     "data": {
      "image/png": "[encoded data removed]",
      "text/plain": [
       "<Figure size 432x288 with 1 Axes>"
      ]
     },
     "metadata": {
      "needs_background": "light"
     },
     "output_type": "display_data"
    }
   ],
   "source": [
    "sns.boxplot(data['Item_Visibility']) "
   ]
  },
  {
   "cell_type": "code",
   "execution_count": 56,
   "id": "6c402fc5",
   "metadata": {},
   "outputs": [
    {
     "data": {
      "text/html": [
       "<div>\n",
       "<style scoped>\n",
       "    .dataframe tbody tr th:only-of-type {\n",
       "        vertical-align: middle;\n",
       "    }\n",
       "\n",
       "    .dataframe tbody tr th {\n",
       "        vertical-align: top;\n",
       "    }\n",
       "\n",
       "    .dataframe thead th {\n",
       "        text-align: right;\n",
       "    }\n",
       "</style>\n",
       "<table border=\"1\" class=\"dataframe\">\n",
       "  <thead>\n",
       "    <tr style=\"text-align: right;\">\n",
       "      <th></th>\n",
       "      <th>Item_Weight</th>\n",
       "      <th>Item_Fat_Content</th>\n",
       "      <th>Item_Visibility</th>\n",
       "      <th>Item_Type</th>\n",
       "      <th>Item_MRP</th>\n",
       "      <th>Outlet_Identifier</th>\n",
       "      <th>Outlet_Establishment_Year</th>\n",
       "      <th>Outlet_Size</th>\n",
       "      <th>Outlet_Location_Type</th>\n",
       "      <th>Outlet_Type</th>\n",
       "      <th>Item_Outlet_Sales</th>\n",
       "    </tr>\n",
       "  </thead>\n",
       "  <tbody>\n",
       "    <tr>\n",
       "      <th>0</th>\n",
       "      <td>9.30</td>\n",
       "      <td>Low Fat</td>\n",
       "      <td>0.016047</td>\n",
       "      <td>Dairy</td>\n",
       "      <td>249.8092</td>\n",
       "      <td>OUT049</td>\n",
       "      <td>1999</td>\n",
       "      <td>Medium</td>\n",
       "      <td>Tier 1</td>\n",
       "      <td>Supermarket Type1</td>\n",
       "      <td>3735.1380</td>\n",
       "    </tr>\n",
       "    <tr>\n",
       "      <th>1</th>\n",
       "      <td>5.92</td>\n",
       "      <td>Regular</td>\n",
       "      <td>0.019278</td>\n",
       "      <td>Soft Drinks</td>\n",
       "      <td>48.2692</td>\n",
       "      <td>OUT018</td>\n",
       "      <td>2009</td>\n",
       "      <td>Medium</td>\n",
       "      <td>Tier 3</td>\n",
       "      <td>Supermarket Type2</td>\n",
       "      <td>443.4228</td>\n",
       "    </tr>\n",
       "    <tr>\n",
       "      <th>2</th>\n",
       "      <td>17.50</td>\n",
       "      <td>Low Fat</td>\n",
       "      <td>0.016760</td>\n",
       "      <td>Meat</td>\n",
       "      <td>141.6180</td>\n",
       "      <td>OUT049</td>\n",
       "      <td>1999</td>\n",
       "      <td>Medium</td>\n",
       "      <td>Tier 1</td>\n",
       "      <td>Supermarket Type1</td>\n",
       "      <td>2097.2700</td>\n",
       "    </tr>\n",
       "    <tr>\n",
       "      <th>3</th>\n",
       "      <td>19.20</td>\n",
       "      <td>Regular</td>\n",
       "      <td>0.000000</td>\n",
       "      <td>Fruits and Vegetables</td>\n",
       "      <td>182.0950</td>\n",
       "      <td>OUT010</td>\n",
       "      <td>1998</td>\n",
       "      <td>NaN</td>\n",
       "      <td>Tier 3</td>\n",
       "      <td>Grocery Store</td>\n",
       "      <td>732.3800</td>\n",
       "    </tr>\n",
       "    <tr>\n",
       "      <th>4</th>\n",
       "      <td>8.93</td>\n",
       "      <td>Low Fat</td>\n",
       "      <td>0.000000</td>\n",
       "      <td>Household</td>\n",
       "      <td>53.8614</td>\n",
       "      <td>OUT013</td>\n",
       "      <td>1987</td>\n",
       "      <td>High</td>\n",
       "      <td>Tier 3</td>\n",
       "      <td>Supermarket Type1</td>\n",
       "      <td>994.7052</td>\n",
       "    </tr>\n",
       "  </tbody>\n",
       "</table>\n",
       "</div>"
      ],
      "text/plain": [
       "   Item_Weight Item_Fat_Content  Item_Visibility              Item_Type  \\\n",
       "0         9.30          Low Fat         0.016047                  Dairy   \n",
       "1         5.92          Regular         0.019278            Soft Drinks   \n",
       "2        17.50          Low Fat         0.016760                   Meat   \n",
       "3        19.20          Regular         0.000000  Fruits and Vegetables   \n",
       "4         8.93          Low Fat         0.000000              Household   \n",
       "\n",
       "   Item_MRP Outlet_Identifier  Outlet_Establishment_Year Outlet_Size  \\\n",
       "0  249.8092            OUT049                       1999      Medium   \n",
       "1   48.2692            OUT018                       2009      Medium   \n",
       "2  141.6180            OUT049                       1999      Medium   \n",
       "3  182.0950            OUT010                       1998         NaN   \n",
       "4   53.8614            OUT013                       1987        High   \n",
       "\n",
       "  Outlet_Location_Type        Outlet_Type  Item_Outlet_Sales  \n",
       "0               Tier 1  Supermarket Type1          3735.1380  \n",
       "1               Tier 3  Supermarket Type2           443.4228  \n",
       "2               Tier 1  Supermarket Type1          2097.2700  \n",
       "3               Tier 3      Grocery Store           732.3800  \n",
       "4               Tier 3  Supermarket Type1           994.7052  "
      ]
     },
     "execution_count": 56,
     "metadata": {},
     "output_type": "execute_result"
    }
   ],
   "source": [
    "data.head()  "
   ]
  },
  {
   "cell_type": "code",
   "execution_count": 57,
   "id": "aaeeadff",
   "metadata": {},
   "outputs": [
    {
     "data": {
      "text/plain": [
       "<AxesSubplot:xlabel='Outlet_Size', ylabel='Item_Outlet_Sales'>"
      ]
     },
     "execution_count": 57,
     "metadata": {},
     "output_type": "execute_result"
    },
    {
     "data": {
      "image/png": "[encoded data removed]",
      "text/plain": [
       "<Figure size 432x288 with 1 Axes>"
      ]
     },
     "metadata": {
      "needs_background": "light"
     },
     "output_type": "display_data"
    }
   ],
   "source": [
    "sns.barplot(x = data['Outlet_Size'] , y = data['Item_Outlet_Sales'] , hue = data['Item_Fat_Content']) "
   ]
  },
  {
   "cell_type": "code",
   "execution_count": 58,
   "id": "0a010bef",
   "metadata": {},
   "outputs": [
    {
     "data": {
      "text/plain": [
       "<AxesSubplot:xlabel='Item_Outlet_Sales', ylabel='Item_Visibility'>"
      ]
     },
     "execution_count": 58,
     "metadata": {},
     "output_type": "execute_result"
    },
    {
     "data": {
      "image/png": "[encoded data removed]",
      "text/plain": [
       "<Figure size 1152x864 with 1 Axes>"
      ]
     },
     "metadata": {
      "needs_background": "light"
     },
     "output_type": "display_data"
    }
   ],
   "source": [
    "fig = plt.figure() \n",
    "fig.set_figwidth(16) \n",
    "fig.set_figheight(12) \n",
    "sns.scatterplot(x =data['Item_Outlet_Sales']  , y = data['Item_Visibility']  , hue  = data['Item_Fat_Content']  , style = data['Outlet_Type'])"
   ]
  },
  {
   "cell_type": "code",
   "execution_count": 59,
   "id": "6c624b4e",
   "metadata": {},
   "outputs": [
    {
     "name": "stderr",
     "output_type": "stream",
     "text": [
      "C:\\Users\\Levi\\anaconda3\\lib\\site-packages\\seaborn\\_decorators.py:36: FutureWarning: Pass the following variable as a keyword arg: x. From version 0.12, the only valid positional argument will be `data`, and passing other arguments without an explicit keyword will result in an error or misinterpretation.\n",
      "  warnings.warn(\n"
     ]
    },
    {
     "data": {
      "text/plain": [
       "<AxesSubplot:xlabel='Outlet_Identifier', ylabel='count'>"
      ]
     },
     "execution_count": 59,
     "metadata": {},
     "output_type": "execute_result"
    },
    {
     "data": {
      "image/png": "[encoded data removed]",
      "text/plain": [
       "<Figure size 720x432 with 1 Axes>"
      ]
     },
     "metadata": {
      "needs_background": "light"
     },
     "output_type": "display_data"
    }
   ],
   "source": [
    "fig = plt.figure() \n",
    "fig.set_figwidth(10) \n",
    "fig.set_figheight(6) \n",
    "sns.countplot(data['Outlet_Identifier'], hue = data['Outlet_Type']) "
   ]
  },
  {
   "cell_type": "code",
   "execution_count": 60,
   "id": "04a2326a",
   "metadata": {},
   "outputs": [],
   "source": [
    "outlet_sales={}\n",
    "df = pd.DataFrame(data , columns = ['Outlet_Identifier' , 'Item_Outlet_Sales'  , 'Item_Fat_Content'])\n",
    "for i in range(len(df))  :\n",
    "    if df[\"Outlet_Identifier\"][i] not in outlet_sales : \n",
    "        outlet_sales[df['Outlet_Identifier'][i]] = 0 ;  \n",
    "    outlet_sales[df['Outlet_Identifier'][i]] +=df[\"Item_Outlet_Sales\"][i] ; "
   ]
  },
  {
   "cell_type": "code",
   "execution_count": 61,
   "id": "777ed52b",
   "metadata": {},
   "outputs": [],
   "source": [
    "new_dataframe = pd.DataFrame(list(outlet_sales.items()) , columns = ['store' , 'sales'])  "
   ]
  },
  {
   "cell_type": "code",
   "execution_count": 62,
   "id": "17889b27",
   "metadata": {},
   "outputs": [
    {
     "data": {
      "text/plain": [
       "<AxesSubplot:xlabel='store', ylabel='sales'>"
      ]
     },
     "execution_count": 62,
     "metadata": {},
     "output_type": "execute_result"
    },
    {
     "data": {
      "image/png": "[encoded data removed]",
      "text/plain": [
       "<Figure size 720x432 with 1 Axes>"
      ]
     },
     "metadata": {
      "needs_background": "light"
     },
     "output_type": "display_data"
    }
   ],
   "source": [
    "fig = plt.figure();\n",
    "fig.set_figwidth(10) ; \n",
    "fig.set_figheight(6) \n",
    "sns.barplot(x = new_dataframe['store'] , y = new_dataframe['sales']) "
   ]
  },
  {
   "cell_type": "code",
   "execution_count": null,
   "id": "106c72dd",
   "metadata": {},
   "outputs": [],
   "source": []
  },
  {
   "cell_type": "markdown",
   "id": "fc1a88a0",
   "metadata": {},
   "source": [
    "# Impute Weight ---- Median also try KNNImputer."
   ]
  },
  {
   "cell_type": "code",
   "execution_count": 63,
   "id": "da88842a",
   "metadata": {},
   "outputs": [
    {
     "data": {
      "text/plain": [
       "Item_Weight                  1463\n",
       "Item_Fat_Content                0\n",
       "Item_Visibility                 0\n",
       "Item_Type                       0\n",
       "Item_MRP                        0\n",
       "Outlet_Identifier               0\n",
       "Outlet_Establishment_Year       0\n",
       "Outlet_Size                  2410\n",
       "Outlet_Location_Type            0\n",
       "Outlet_Type                     0\n",
       "Item_Outlet_Sales               0\n",
       "dtype: int64"
      ]
     },
     "execution_count": 63,
     "metadata": {},
     "output_type": "execute_result"
    }
   ],
   "source": [
    "data.isnull().sum() "
   ]
  },
  {
   "cell_type": "code",
   "execution_count": 64,
   "id": "a95f8e60",
   "metadata": {},
   "outputs": [],
   "source": [
    "median = data[\"Item_Weight\"].median() "
   ]
  },
  {
   "cell_type": "code",
   "execution_count": 65,
   "id": "c9da4f2b",
   "metadata": {},
   "outputs": [],
   "source": [
    "data[\"Item_Weight\"].replace(np.nan , median , inplace = True ) "
   ]
  },
  {
   "cell_type": "code",
   "execution_count": 66,
   "id": "3bda0ab2",
   "metadata": {},
   "outputs": [],
   "source": [
    "mode = data['Outlet_Size'].mode() "
   ]
  },
  {
   "cell_type": "code",
   "execution_count": 67,
   "id": "d820c686",
   "metadata": {},
   "outputs": [],
   "source": [
    "data['Outlet_Size'].replace(np.nan , mode[0] , inplace = True ) "
   ]
  },
  {
   "cell_type": "code",
   "execution_count": 68,
   "id": "c930b6de",
   "metadata": {},
   "outputs": [
    {
     "data": {
      "text/plain": [
       "Item_Weight                  0\n",
       "Item_Fat_Content             0\n",
       "Item_Visibility              0\n",
       "Item_Type                    0\n",
       "Item_MRP                     0\n",
       "Outlet_Identifier            0\n",
       "Outlet_Establishment_Year    0\n",
       "Outlet_Size                  0\n",
       "Outlet_Location_Type         0\n",
       "Outlet_Type                  0\n",
       "Item_Outlet_Sales            0\n",
       "dtype: int64"
      ]
     },
     "execution_count": 68,
     "metadata": {},
     "output_type": "execute_result"
    }
   ],
   "source": [
    "data.isnull().sum() "
   ]
  },
  {
   "cell_type": "code",
   "execution_count": 69,
   "id": "d5d92c09",
   "metadata": {},
   "outputs": [
    {
     "data": {
      "text/html": [
       "<div>\n",
       "<style scoped>\n",
       "    .dataframe tbody tr th:only-of-type {\n",
       "        vertical-align: middle;\n",
       "    }\n",
       "\n",
       "    .dataframe tbody tr th {\n",
       "        vertical-align: top;\n",
       "    }\n",
       "\n",
       "    .dataframe thead th {\n",
       "        text-align: right;\n",
       "    }\n",
       "</style>\n",
       "<table border=\"1\" class=\"dataframe\">\n",
       "  <thead>\n",
       "    <tr style=\"text-align: right;\">\n",
       "      <th></th>\n",
       "      <th>Item_Weight</th>\n",
       "      <th>Item_Fat_Content</th>\n",
       "      <th>Item_Visibility</th>\n",
       "      <th>Item_Type</th>\n",
       "      <th>Item_MRP</th>\n",
       "      <th>Outlet_Identifier</th>\n",
       "      <th>Outlet_Establishment_Year</th>\n",
       "      <th>Outlet_Size</th>\n",
       "      <th>Outlet_Location_Type</th>\n",
       "      <th>Outlet_Type</th>\n",
       "      <th>Item_Outlet_Sales</th>\n",
       "    </tr>\n",
       "  </thead>\n",
       "  <tbody>\n",
       "    <tr>\n",
       "      <th>0</th>\n",
       "      <td>9.300</td>\n",
       "      <td>Low Fat</td>\n",
       "      <td>0.016047</td>\n",
       "      <td>Dairy</td>\n",
       "      <td>249.8092</td>\n",
       "      <td>OUT049</td>\n",
       "      <td>1999</td>\n",
       "      <td>Medium</td>\n",
       "      <td>Tier 1</td>\n",
       "      <td>Supermarket Type1</td>\n",
       "      <td>3735.1380</td>\n",
       "    </tr>\n",
       "    <tr>\n",
       "      <th>1</th>\n",
       "      <td>5.920</td>\n",
       "      <td>Regular</td>\n",
       "      <td>0.019278</td>\n",
       "      <td>Soft Drinks</td>\n",
       "      <td>48.2692</td>\n",
       "      <td>OUT018</td>\n",
       "      <td>2009</td>\n",
       "      <td>Medium</td>\n",
       "      <td>Tier 3</td>\n",
       "      <td>Supermarket Type2</td>\n",
       "      <td>443.4228</td>\n",
       "    </tr>\n",
       "    <tr>\n",
       "      <th>2</th>\n",
       "      <td>17.500</td>\n",
       "      <td>Low Fat</td>\n",
       "      <td>0.016760</td>\n",
       "      <td>Meat</td>\n",
       "      <td>141.6180</td>\n",
       "      <td>OUT049</td>\n",
       "      <td>1999</td>\n",
       "      <td>Medium</td>\n",
       "      <td>Tier 1</td>\n",
       "      <td>Supermarket Type1</td>\n",
       "      <td>2097.2700</td>\n",
       "    </tr>\n",
       "    <tr>\n",
       "      <th>3</th>\n",
       "      <td>19.200</td>\n",
       "      <td>Regular</td>\n",
       "      <td>0.000000</td>\n",
       "      <td>Fruits and Vegetables</td>\n",
       "      <td>182.0950</td>\n",
       "      <td>OUT010</td>\n",
       "      <td>1998</td>\n",
       "      <td>Medium</td>\n",
       "      <td>Tier 3</td>\n",
       "      <td>Grocery Store</td>\n",
       "      <td>732.3800</td>\n",
       "    </tr>\n",
       "    <tr>\n",
       "      <th>4</th>\n",
       "      <td>8.930</td>\n",
       "      <td>Low Fat</td>\n",
       "      <td>0.000000</td>\n",
       "      <td>Household</td>\n",
       "      <td>53.8614</td>\n",
       "      <td>OUT013</td>\n",
       "      <td>1987</td>\n",
       "      <td>High</td>\n",
       "      <td>Tier 3</td>\n",
       "      <td>Supermarket Type1</td>\n",
       "      <td>994.7052</td>\n",
       "    </tr>\n",
       "    <tr>\n",
       "      <th>...</th>\n",
       "      <td>...</td>\n",
       "      <td>...</td>\n",
       "      <td>...</td>\n",
       "      <td>...</td>\n",
       "      <td>...</td>\n",
       "      <td>...</td>\n",
       "      <td>...</td>\n",
       "      <td>...</td>\n",
       "      <td>...</td>\n",
       "      <td>...</td>\n",
       "      <td>...</td>\n",
       "    </tr>\n",
       "    <tr>\n",
       "      <th>8518</th>\n",
       "      <td>6.865</td>\n",
       "      <td>Low Fat</td>\n",
       "      <td>0.056783</td>\n",
       "      <td>Snack Foods</td>\n",
       "      <td>214.5218</td>\n",
       "      <td>OUT013</td>\n",
       "      <td>1987</td>\n",
       "      <td>High</td>\n",
       "      <td>Tier 3</td>\n",
       "      <td>Supermarket Type1</td>\n",
       "      <td>2778.3834</td>\n",
       "    </tr>\n",
       "    <tr>\n",
       "      <th>8519</th>\n",
       "      <td>8.380</td>\n",
       "      <td>Regular</td>\n",
       "      <td>0.046982</td>\n",
       "      <td>Baking Goods</td>\n",
       "      <td>108.1570</td>\n",
       "      <td>OUT045</td>\n",
       "      <td>2002</td>\n",
       "      <td>Medium</td>\n",
       "      <td>Tier 2</td>\n",
       "      <td>Supermarket Type1</td>\n",
       "      <td>549.2850</td>\n",
       "    </tr>\n",
       "    <tr>\n",
       "      <th>8520</th>\n",
       "      <td>10.600</td>\n",
       "      <td>Low Fat</td>\n",
       "      <td>0.035186</td>\n",
       "      <td>Health and Hygiene</td>\n",
       "      <td>85.1224</td>\n",
       "      <td>OUT035</td>\n",
       "      <td>2004</td>\n",
       "      <td>Small</td>\n",
       "      <td>Tier 2</td>\n",
       "      <td>Supermarket Type1</td>\n",
       "      <td>1193.1136</td>\n",
       "    </tr>\n",
       "    <tr>\n",
       "      <th>8521</th>\n",
       "      <td>7.210</td>\n",
       "      <td>Regular</td>\n",
       "      <td>0.145221</td>\n",
       "      <td>Snack Foods</td>\n",
       "      <td>103.1332</td>\n",
       "      <td>OUT018</td>\n",
       "      <td>2009</td>\n",
       "      <td>Medium</td>\n",
       "      <td>Tier 3</td>\n",
       "      <td>Supermarket Type2</td>\n",
       "      <td>1845.5976</td>\n",
       "    </tr>\n",
       "    <tr>\n",
       "      <th>8522</th>\n",
       "      <td>14.800</td>\n",
       "      <td>Low Fat</td>\n",
       "      <td>0.044878</td>\n",
       "      <td>Soft Drinks</td>\n",
       "      <td>75.4670</td>\n",
       "      <td>OUT046</td>\n",
       "      <td>1997</td>\n",
       "      <td>Small</td>\n",
       "      <td>Tier 1</td>\n",
       "      <td>Supermarket Type1</td>\n",
       "      <td>765.6700</td>\n",
       "    </tr>\n",
       "  </tbody>\n",
       "</table>\n",
       "<p>8523 rows × 11 columns</p>\n",
       "</div>"
      ],
      "text/plain": [
       "      Item_Weight Item_Fat_Content  Item_Visibility              Item_Type  \\\n",
       "0           9.300          Low Fat         0.016047                  Dairy   \n",
       "1           5.920          Regular         0.019278            Soft Drinks   \n",
       "2          17.500          Low Fat         0.016760                   Meat   \n",
       "3          19.200          Regular         0.000000  Fruits and Vegetables   \n",
       "4           8.930          Low Fat         0.000000              Household   \n",
       "...           ...              ...              ...                    ...   \n",
       "8518        6.865          Low Fat         0.056783            Snack Foods   \n",
       "8519        8.380          Regular         0.046982           Baking Goods   \n",
       "8520       10.600          Low Fat         0.035186     Health and Hygiene   \n",
       "8521        7.210          Regular         0.145221            Snack Foods   \n",
       "8522       14.800          Low Fat         0.044878            Soft Drinks   \n",
       "\n",
       "      Item_MRP Outlet_Identifier  Outlet_Establishment_Year Outlet_Size  \\\n",
       "0     249.8092            OUT049                       1999      Medium   \n",
       "1      48.2692            OUT018                       2009      Medium   \n",
       "2     141.6180            OUT049                       1999      Medium   \n",
       "3     182.0950            OUT010                       1998      Medium   \n",
       "4      53.8614            OUT013                       1987        High   \n",
       "...        ...               ...                        ...         ...   \n",
       "8518  214.5218            OUT013                       1987        High   \n",
       "8519  108.1570            OUT045                       2002      Medium   \n",
       "8520   85.1224            OUT035                       2004       Small   \n",
       "8521  103.1332            OUT018                       2009      Medium   \n",
       "8522   75.4670            OUT046                       1997       Small   \n",
       "\n",
       "     Outlet_Location_Type        Outlet_Type  Item_Outlet_Sales  \n",
       "0                  Tier 1  Supermarket Type1          3735.1380  \n",
       "1                  Tier 3  Supermarket Type2           443.4228  \n",
       "2                  Tier 1  Supermarket Type1          2097.2700  \n",
       "3                  Tier 3      Grocery Store           732.3800  \n",
       "4                  Tier 3  Supermarket Type1           994.7052  \n",
       "...                   ...                ...                ...  \n",
       "8518               Tier 3  Supermarket Type1          2778.3834  \n",
       "8519               Tier 2  Supermarket Type1           549.2850  \n",
       "8520               Tier 2  Supermarket Type1          1193.1136  \n",
       "8521               Tier 3  Supermarket Type2          1845.5976  \n",
       "8522               Tier 1  Supermarket Type1           765.6700  \n",
       "\n",
       "[8523 rows x 11 columns]"
      ]
     },
     "execution_count": 69,
     "metadata": {},
     "output_type": "execute_result"
    }
   ],
   "source": [
    "data "
   ]
  },
  {
   "cell_type": "code",
   "execution_count": 70,
   "id": "838ec435",
   "metadata": {},
   "outputs": [
    {
     "data": {
      "text/plain": [
       "array(['Medium', 'High', 'Small'], dtype=object)"
      ]
     },
     "execution_count": 70,
     "metadata": {},
     "output_type": "execute_result"
    }
   ],
   "source": [
    "data['Outlet_Size'].unique()"
   ]
  },
  {
   "cell_type": "code",
   "execution_count": 71,
   "id": "9377a849",
   "metadata": {},
   "outputs": [],
   "source": [
    "data.drop('Outlet_Identifier'  , axis = 'columns' , inplace = True)  "
   ]
  },
  {
   "cell_type": "code",
   "execution_count": 72,
   "id": "4a94de1b",
   "metadata": {},
   "outputs": [],
   "source": [
    "data.drop('Outlet_Establishment_Year'  , axis = 'columns' , inplace = True)  "
   ]
  },
  {
   "cell_type": "code",
   "execution_count": 73,
   "id": "d5a7a2c5",
   "metadata": {},
   "outputs": [
    {
     "data": {
      "text/html": [
       "<div>\n",
       "<style scoped>\n",
       "    .dataframe tbody tr th:only-of-type {\n",
       "        vertical-align: middle;\n",
       "    }\n",
       "\n",
       "    .dataframe tbody tr th {\n",
       "        vertical-align: top;\n",
       "    }\n",
       "\n",
       "    .dataframe thead th {\n",
       "        text-align: right;\n",
       "    }\n",
       "</style>\n",
       "<table border=\"1\" class=\"dataframe\">\n",
       "  <thead>\n",
       "    <tr style=\"text-align: right;\">\n",
       "      <th></th>\n",
       "      <th>Item_Weight</th>\n",
       "      <th>Item_Fat_Content</th>\n",
       "      <th>Item_Visibility</th>\n",
       "      <th>Item_Type</th>\n",
       "      <th>Item_MRP</th>\n",
       "      <th>Outlet_Size</th>\n",
       "      <th>Outlet_Location_Type</th>\n",
       "      <th>Outlet_Type</th>\n",
       "      <th>Item_Outlet_Sales</th>\n",
       "    </tr>\n",
       "  </thead>\n",
       "  <tbody>\n",
       "    <tr>\n",
       "      <th>0</th>\n",
       "      <td>9.300</td>\n",
       "      <td>Low Fat</td>\n",
       "      <td>0.016047</td>\n",
       "      <td>Dairy</td>\n",
       "      <td>249.8092</td>\n",
       "      <td>Medium</td>\n",
       "      <td>Tier 1</td>\n",
       "      <td>Supermarket Type1</td>\n",
       "      <td>3735.1380</td>\n",
       "    </tr>\n",
       "    <tr>\n",
       "      <th>1</th>\n",
       "      <td>5.920</td>\n",
       "      <td>Regular</td>\n",
       "      <td>0.019278</td>\n",
       "      <td>Soft Drinks</td>\n",
       "      <td>48.2692</td>\n",
       "      <td>Medium</td>\n",
       "      <td>Tier 3</td>\n",
       "      <td>Supermarket Type2</td>\n",
       "      <td>443.4228</td>\n",
       "    </tr>\n",
       "    <tr>\n",
       "      <th>2</th>\n",
       "      <td>17.500</td>\n",
       "      <td>Low Fat</td>\n",
       "      <td>0.016760</td>\n",
       "      <td>Meat</td>\n",
       "      <td>141.6180</td>\n",
       "      <td>Medium</td>\n",
       "      <td>Tier 1</td>\n",
       "      <td>Supermarket Type1</td>\n",
       "      <td>2097.2700</td>\n",
       "    </tr>\n",
       "    <tr>\n",
       "      <th>3</th>\n",
       "      <td>19.200</td>\n",
       "      <td>Regular</td>\n",
       "      <td>0.000000</td>\n",
       "      <td>Fruits and Vegetables</td>\n",
       "      <td>182.0950</td>\n",
       "      <td>Medium</td>\n",
       "      <td>Tier 3</td>\n",
       "      <td>Grocery Store</td>\n",
       "      <td>732.3800</td>\n",
       "    </tr>\n",
       "    <tr>\n",
       "      <th>4</th>\n",
       "      <td>8.930</td>\n",
       "      <td>Low Fat</td>\n",
       "      <td>0.000000</td>\n",
       "      <td>Household</td>\n",
       "      <td>53.8614</td>\n",
       "      <td>High</td>\n",
       "      <td>Tier 3</td>\n",
       "      <td>Supermarket Type1</td>\n",
       "      <td>994.7052</td>\n",
       "    </tr>\n",
       "    <tr>\n",
       "      <th>...</th>\n",
       "      <td>...</td>\n",
       "      <td>...</td>\n",
       "      <td>...</td>\n",
       "      <td>...</td>\n",
       "      <td>...</td>\n",
       "      <td>...</td>\n",
       "      <td>...</td>\n",
       "      <td>...</td>\n",
       "      <td>...</td>\n",
       "    </tr>\n",
       "    <tr>\n",
       "      <th>8518</th>\n",
       "      <td>6.865</td>\n",
       "      <td>Low Fat</td>\n",
       "      <td>0.056783</td>\n",
       "      <td>Snack Foods</td>\n",
       "      <td>214.5218</td>\n",
       "      <td>High</td>\n",
       "      <td>Tier 3</td>\n",
       "      <td>Supermarket Type1</td>\n",
       "      <td>2778.3834</td>\n",
       "    </tr>\n",
       "    <tr>\n",
       "      <th>8519</th>\n",
       "      <td>8.380</td>\n",
       "      <td>Regular</td>\n",
       "      <td>0.046982</td>\n",
       "      <td>Baking Goods</td>\n",
       "      <td>108.1570</td>\n",
       "      <td>Medium</td>\n",
       "      <td>Tier 2</td>\n",
       "      <td>Supermarket Type1</td>\n",
       "      <td>549.2850</td>\n",
       "    </tr>\n",
       "    <tr>\n",
       "      <th>8520</th>\n",
       "      <td>10.600</td>\n",
       "      <td>Low Fat</td>\n",
       "      <td>0.035186</td>\n",
       "      <td>Health and Hygiene</td>\n",
       "      <td>85.1224</td>\n",
       "      <td>Small</td>\n",
       "      <td>Tier 2</td>\n",
       "      <td>Supermarket Type1</td>\n",
       "      <td>1193.1136</td>\n",
       "    </tr>\n",
       "    <tr>\n",
       "      <th>8521</th>\n",
       "      <td>7.210</td>\n",
       "      <td>Regular</td>\n",
       "      <td>0.145221</td>\n",
       "      <td>Snack Foods</td>\n",
       "      <td>103.1332</td>\n",
       "      <td>Medium</td>\n",
       "      <td>Tier 3</td>\n",
       "      <td>Supermarket Type2</td>\n",
       "      <td>1845.5976</td>\n",
       "    </tr>\n",
       "    <tr>\n",
       "      <th>8522</th>\n",
       "      <td>14.800</td>\n",
       "      <td>Low Fat</td>\n",
       "      <td>0.044878</td>\n",
       "      <td>Soft Drinks</td>\n",
       "      <td>75.4670</td>\n",
       "      <td>Small</td>\n",
       "      <td>Tier 1</td>\n",
       "      <td>Supermarket Type1</td>\n",
       "      <td>765.6700</td>\n",
       "    </tr>\n",
       "  </tbody>\n",
       "</table>\n",
       "<p>8523 rows × 9 columns</p>\n",
       "</div>"
      ],
      "text/plain": [
       "      Item_Weight Item_Fat_Content  Item_Visibility              Item_Type  \\\n",
       "0           9.300          Low Fat         0.016047                  Dairy   \n",
       "1           5.920          Regular         0.019278            Soft Drinks   \n",
       "2          17.500          Low Fat         0.016760                   Meat   \n",
       "3          19.200          Regular         0.000000  Fruits and Vegetables   \n",
       "4           8.930          Low Fat         0.000000              Household   \n",
       "...           ...              ...              ...                    ...   \n",
       "8518        6.865          Low Fat         0.056783            Snack Foods   \n",
       "8519        8.380          Regular         0.046982           Baking Goods   \n",
       "8520       10.600          Low Fat         0.035186     Health and Hygiene   \n",
       "8521        7.210          Regular         0.145221            Snack Foods   \n",
       "8522       14.800          Low Fat         0.044878            Soft Drinks   \n",
       "\n",
       "      Item_MRP Outlet_Size Outlet_Location_Type        Outlet_Type  \\\n",
       "0     249.8092      Medium               Tier 1  Supermarket Type1   \n",
       "1      48.2692      Medium               Tier 3  Supermarket Type2   \n",
       "2     141.6180      Medium               Tier 1  Supermarket Type1   \n",
       "3     182.0950      Medium               Tier 3      Grocery Store   \n",
       "4      53.8614        High               Tier 3  Supermarket Type1   \n",
       "...        ...         ...                  ...                ...   \n",
       "8518  214.5218        High               Tier 3  Supermarket Type1   \n",
       "8519  108.1570      Medium               Tier 2  Supermarket Type1   \n",
       "8520   85.1224       Small               Tier 2  Supermarket Type1   \n",
       "8521  103.1332      Medium               Tier 3  Supermarket Type2   \n",
       "8522   75.4670       Small               Tier 1  Supermarket Type1   \n",
       "\n",
       "      Item_Outlet_Sales  \n",
       "0             3735.1380  \n",
       "1              443.4228  \n",
       "2             2097.2700  \n",
       "3              732.3800  \n",
       "4              994.7052  \n",
       "...                 ...  \n",
       "8518          2778.3834  \n",
       "8519           549.2850  \n",
       "8520          1193.1136  \n",
       "8521          1845.5976  \n",
       "8522           765.6700  \n",
       "\n",
       "[8523 rows x 9 columns]"
      ]
     },
     "execution_count": 73,
     "metadata": {},
     "output_type": "execute_result"
    }
   ],
   "source": [
    "data"
   ]
  },
  {
   "cell_type": "code",
   "execution_count": 74,
   "id": "b0a46a53",
   "metadata": {},
   "outputs": [
    {
     "data": {
      "text/plain": [
       "array(['Medium', 'High', 'Small'], dtype=object)"
      ]
     },
     "execution_count": 74,
     "metadata": {},
     "output_type": "execute_result"
    }
   ],
   "source": [
    "data['Outlet_Size'].unique() "
   ]
  },
  {
   "cell_type": "code",
   "execution_count": 75,
   "id": "674e307a",
   "metadata": {},
   "outputs": [
    {
     "data": {
      "text/plain": [
       "array(['Tier 1', 'Tier 3', 'Tier 2'], dtype=object)"
      ]
     },
     "execution_count": 75,
     "metadata": {},
     "output_type": "execute_result"
    }
   ],
   "source": [
    "data['Outlet_Location_Type'].unique() "
   ]
  },
  {
   "cell_type": "code",
   "execution_count": 76,
   "id": "b8fb85b7",
   "metadata": {},
   "outputs": [],
   "source": [
    "data.drop(\"Item_Type\" ,axis = \"columns\" , inplace  = True) "
   ]
  },
  {
   "cell_type": "code",
   "execution_count": 77,
   "id": "6bcf64f6",
   "metadata": {},
   "outputs": [
    {
     "data": {
      "text/html": [
       "<div>\n",
       "<style scoped>\n",
       "    .dataframe tbody tr th:only-of-type {\n",
       "        vertical-align: middle;\n",
       "    }\n",
       "\n",
       "    .dataframe tbody tr th {\n",
       "        vertical-align: top;\n",
       "    }\n",
       "\n",
       "    .dataframe thead th {\n",
       "        text-align: right;\n",
       "    }\n",
       "</style>\n",
       "<table border=\"1\" class=\"dataframe\">\n",
       "  <thead>\n",
       "    <tr style=\"text-align: right;\">\n",
       "      <th></th>\n",
       "      <th>Item_Weight</th>\n",
       "      <th>Item_Fat_Content</th>\n",
       "      <th>Item_Visibility</th>\n",
       "      <th>Item_MRP</th>\n",
       "      <th>Outlet_Size</th>\n",
       "      <th>Outlet_Location_Type</th>\n",
       "      <th>Outlet_Type</th>\n",
       "      <th>Item_Outlet_Sales</th>\n",
       "    </tr>\n",
       "  </thead>\n",
       "  <tbody>\n",
       "    <tr>\n",
       "      <th>0</th>\n",
       "      <td>9.300</td>\n",
       "      <td>Low Fat</td>\n",
       "      <td>0.016047</td>\n",
       "      <td>249.8092</td>\n",
       "      <td>Medium</td>\n",
       "      <td>Tier 1</td>\n",
       "      <td>Supermarket Type1</td>\n",
       "      <td>3735.1380</td>\n",
       "    </tr>\n",
       "    <tr>\n",
       "      <th>1</th>\n",
       "      <td>5.920</td>\n",
       "      <td>Regular</td>\n",
       "      <td>0.019278</td>\n",
       "      <td>48.2692</td>\n",
       "      <td>Medium</td>\n",
       "      <td>Tier 3</td>\n",
       "      <td>Supermarket Type2</td>\n",
       "      <td>443.4228</td>\n",
       "    </tr>\n",
       "    <tr>\n",
       "      <th>2</th>\n",
       "      <td>17.500</td>\n",
       "      <td>Low Fat</td>\n",
       "      <td>0.016760</td>\n",
       "      <td>141.6180</td>\n",
       "      <td>Medium</td>\n",
       "      <td>Tier 1</td>\n",
       "      <td>Supermarket Type1</td>\n",
       "      <td>2097.2700</td>\n",
       "    </tr>\n",
       "    <tr>\n",
       "      <th>3</th>\n",
       "      <td>19.200</td>\n",
       "      <td>Regular</td>\n",
       "      <td>0.000000</td>\n",
       "      <td>182.0950</td>\n",
       "      <td>Medium</td>\n",
       "      <td>Tier 3</td>\n",
       "      <td>Grocery Store</td>\n",
       "      <td>732.3800</td>\n",
       "    </tr>\n",
       "    <tr>\n",
       "      <th>4</th>\n",
       "      <td>8.930</td>\n",
       "      <td>Low Fat</td>\n",
       "      <td>0.000000</td>\n",
       "      <td>53.8614</td>\n",
       "      <td>High</td>\n",
       "      <td>Tier 3</td>\n",
       "      <td>Supermarket Type1</td>\n",
       "      <td>994.7052</td>\n",
       "    </tr>\n",
       "    <tr>\n",
       "      <th>...</th>\n",
       "      <td>...</td>\n",
       "      <td>...</td>\n",
       "      <td>...</td>\n",
       "      <td>...</td>\n",
       "      <td>...</td>\n",
       "      <td>...</td>\n",
       "      <td>...</td>\n",
       "      <td>...</td>\n",
       "    </tr>\n",
       "    <tr>\n",
       "      <th>8518</th>\n",
       "      <td>6.865</td>\n",
       "      <td>Low Fat</td>\n",
       "      <td>0.056783</td>\n",
       "      <td>214.5218</td>\n",
       "      <td>High</td>\n",
       "      <td>Tier 3</td>\n",
       "      <td>Supermarket Type1</td>\n",
       "      <td>2778.3834</td>\n",
       "    </tr>\n",
       "    <tr>\n",
       "      <th>8519</th>\n",
       "      <td>8.380</td>\n",
       "      <td>Regular</td>\n",
       "      <td>0.046982</td>\n",
       "      <td>108.1570</td>\n",
       "      <td>Medium</td>\n",
       "      <td>Tier 2</td>\n",
       "      <td>Supermarket Type1</td>\n",
       "      <td>549.2850</td>\n",
       "    </tr>\n",
       "    <tr>\n",
       "      <th>8520</th>\n",
       "      <td>10.600</td>\n",
       "      <td>Low Fat</td>\n",
       "      <td>0.035186</td>\n",
       "      <td>85.1224</td>\n",
       "      <td>Small</td>\n",
       "      <td>Tier 2</td>\n",
       "      <td>Supermarket Type1</td>\n",
       "      <td>1193.1136</td>\n",
       "    </tr>\n",
       "    <tr>\n",
       "      <th>8521</th>\n",
       "      <td>7.210</td>\n",
       "      <td>Regular</td>\n",
       "      <td>0.145221</td>\n",
       "      <td>103.1332</td>\n",
       "      <td>Medium</td>\n",
       "      <td>Tier 3</td>\n",
       "      <td>Supermarket Type2</td>\n",
       "      <td>1845.5976</td>\n",
       "    </tr>\n",
       "    <tr>\n",
       "      <th>8522</th>\n",
       "      <td>14.800</td>\n",
       "      <td>Low Fat</td>\n",
       "      <td>0.044878</td>\n",
       "      <td>75.4670</td>\n",
       "      <td>Small</td>\n",
       "      <td>Tier 1</td>\n",
       "      <td>Supermarket Type1</td>\n",
       "      <td>765.6700</td>\n",
       "    </tr>\n",
       "  </tbody>\n",
       "</table>\n",
       "<p>8523 rows × 8 columns</p>\n",
       "</div>"
      ],
      "text/plain": [
       "      Item_Weight Item_Fat_Content  Item_Visibility  Item_MRP Outlet_Size  \\\n",
       "0           9.300          Low Fat         0.016047  249.8092      Medium   \n",
       "1           5.920          Regular         0.019278   48.2692      Medium   \n",
       "2          17.500          Low Fat         0.016760  141.6180      Medium   \n",
       "3          19.200          Regular         0.000000  182.0950      Medium   \n",
       "4           8.930          Low Fat         0.000000   53.8614        High   \n",
       "...           ...              ...              ...       ...         ...   \n",
       "8518        6.865          Low Fat         0.056783  214.5218        High   \n",
       "8519        8.380          Regular         0.046982  108.1570      Medium   \n",
       "8520       10.600          Low Fat         0.035186   85.1224       Small   \n",
       "8521        7.210          Regular         0.145221  103.1332      Medium   \n",
       "8522       14.800          Low Fat         0.044878   75.4670       Small   \n",
       "\n",
       "     Outlet_Location_Type        Outlet_Type  Item_Outlet_Sales  \n",
       "0                  Tier 1  Supermarket Type1          3735.1380  \n",
       "1                  Tier 3  Supermarket Type2           443.4228  \n",
       "2                  Tier 1  Supermarket Type1          2097.2700  \n",
       "3                  Tier 3      Grocery Store           732.3800  \n",
       "4                  Tier 3  Supermarket Type1           994.7052  \n",
       "...                   ...                ...                ...  \n",
       "8518               Tier 3  Supermarket Type1          2778.3834  \n",
       "8519               Tier 2  Supermarket Type1           549.2850  \n",
       "8520               Tier 2  Supermarket Type1          1193.1136  \n",
       "8521               Tier 3  Supermarket Type2          1845.5976  \n",
       "8522               Tier 1  Supermarket Type1           765.6700  \n",
       "\n",
       "[8523 rows x 8 columns]"
      ]
     },
     "execution_count": 77,
     "metadata": {},
     "output_type": "execute_result"
    }
   ],
   "source": [
    "data"
   ]
  },
  {
   "cell_type": "code",
   "execution_count": 235,
   "id": "52018793",
   "metadata": {},
   "outputs": [],
   "source": [
    "from sklearn.preprocessing import StandardScaler , MinMaxScaler ,OrdinalEncoder\n",
    "from sklearn.feature_selection import SelectKBest , f_regression\n",
    "from sklearn.linear_model import LinearRegression\n",
    "from sklearn.model_selection import train_test_split\n",
    "from sklearn.linear_model import Ridge , Lasso\n",
    "from sklearn.metrics import mean_squared_error as mse , mean_absolute_error as mase , r2_score\n",
    "from sklearn.compose import ColumnTransformer\n",
    "from sklearn.impute import SimpleImputer\n",
    "from sklearn import set_config \n",
    "from sklearn.pipeline import make_pipeline\n",
    "from sklearn.tree import DecisionTreeRegressor\n",
    "from sklearn.linear_model import LinearRegression\n",
    "from sklearn.ensemble import AdaBoostRegressor,GradientBoostingRegressor,RandomForestRegressor\n",
    "from sklearn.tree import DecisionTreeRegressor\n",
    "from sklearn.neighbors import KNeighborsRegressor"
   ]
  },
  {
   "cell_type": "code",
   "execution_count": 79,
   "id": "348fd733",
   "metadata": {},
   "outputs": [],
   "source": [
    "set_config(display = 'diagram') "
   ]
  },
  {
   "cell_type": "code",
   "execution_count": 80,
   "id": "2465e631",
   "metadata": {},
   "outputs": [],
   "source": [
    "item_fat_outlet_size_outlet_location = data[['Item_Fat_Content' , 'Outlet_Size' , 'Outlet_Location_Type' , 'Outlet_Type']] "
   ]
  },
  {
   "cell_type": "code",
   "execution_count": 81,
   "id": "3b5d69f8",
   "metadata": {},
   "outputs": [],
   "source": [
    "oe = OrdinalEncoder(categories = [[\"Low Fat\" , \"Regular\"] , [\"Small\" , \"Medium\" ,\"High\"] , [\"Tier 1\" ,\"Tier 2\" ,\"Tier 3\"], ['Grocery Store','Supermarket Type1', 'Supermarket Type2',\n",
    "       'Supermarket Type3']])"
   ]
  },
  {
   "cell_type": "code",
   "execution_count": 82,
   "id": "0cb02a34",
   "metadata": {},
   "outputs": [],
   "source": [
    "transformed_oe_item_fat_outlet_size_outlet_location = oe.fit_transform(item_fat_outlet_size_outlet_location)"
   ]
  },
  {
   "cell_type": "code",
   "execution_count": 83,
   "id": "3215755d",
   "metadata": {},
   "outputs": [
    {
     "data": {
      "text/plain": [
       "array([[0., 1., 0., 1.],\n",
       "       [1., 1., 2., 2.],\n",
       "       [0., 1., 0., 1.],\n",
       "       ...,\n",
       "       [0., 0., 1., 1.],\n",
       "       [1., 1., 2., 2.],\n",
       "       [0., 0., 0., 1.]])"
      ]
     },
     "execution_count": 83,
     "metadata": {},
     "output_type": "execute_result"
    }
   ],
   "source": [
    "transformed_oe_item_fat_outlet_size_outlet_location"
   ]
  },
  {
   "cell_type": "code",
   "execution_count": 84,
   "id": "1f2a6014",
   "metadata": {},
   "outputs": [],
   "source": [
    "data.drop(['Item_Fat_Content' , 'Outlet_Size' , 'Outlet_Location_Type' , \"Outlet_Type\"] , axis =\"columns\" , inplace = True) "
   ]
  },
  {
   "cell_type": "code",
   "execution_count": 85,
   "id": "748ba97f",
   "metadata": {},
   "outputs": [],
   "source": [
    "X = data.values\n",
    "y = X[:,3:] \n",
    "X = X[:,:3]"
   ]
  },
  {
   "cell_type": "code",
   "execution_count": 86,
   "id": "e0406883",
   "metadata": {},
   "outputs": [
    {
     "data": {
      "text/plain": [
       "array([[3735.138 ],\n",
       "       [ 443.4228],\n",
       "       [2097.27  ],\n",
       "       ...,\n",
       "       [1193.1136],\n",
       "       [1845.5976],\n",
       "       [ 765.67  ]])"
      ]
     },
     "execution_count": 86,
     "metadata": {},
     "output_type": "execute_result"
    }
   ],
   "source": [
    "y"
   ]
  },
  {
   "cell_type": "code",
   "execution_count": 87,
   "id": "89207d72",
   "metadata": {},
   "outputs": [
    {
     "data": {
      "text/plain": [
       "array([[0., 1., 0., 1.],\n",
       "       [1., 1., 2., 2.],\n",
       "       [0., 1., 0., 1.],\n",
       "       ...,\n",
       "       [0., 0., 1., 1.],\n",
       "       [1., 1., 2., 2.],\n",
       "       [0., 0., 0., 1.]])"
      ]
     },
     "execution_count": 87,
     "metadata": {},
     "output_type": "execute_result"
    }
   ],
   "source": [
    "transformed_oe_item_fat_outlet_size_outlet_location"
   ]
  },
  {
   "cell_type": "code",
   "execution_count": 88,
   "id": "2a27099c",
   "metadata": {},
   "outputs": [
    {
     "data": {
      "text/plain": [
       "array([[9.30000000e+00, 1.60473010e-02, 2.49809200e+02],\n",
       "       [5.92000000e+00, 1.92782160e-02, 4.82692000e+01],\n",
       "       [1.75000000e+01, 1.67600750e-02, 1.41618000e+02],\n",
       "       ...,\n",
       "       [1.06000000e+01, 3.51862710e-02, 8.51224000e+01],\n",
       "       [7.21000000e+00, 1.45220646e-01, 1.03133200e+02],\n",
       "       [1.48000000e+01, 4.48782800e-02, 7.54670000e+01]])"
      ]
     },
     "execution_count": 88,
     "metadata": {},
     "output_type": "execute_result"
    }
   ],
   "source": [
    "X "
   ]
  },
  {
   "cell_type": "code",
   "execution_count": 89,
   "id": "c36f7374",
   "metadata": {},
   "outputs": [
    {
     "data": {
      "text/plain": [
       "(8523, 3)"
      ]
     },
     "execution_count": 89,
     "metadata": {},
     "output_type": "execute_result"
    }
   ],
   "source": [
    "X.shape "
   ]
  },
  {
   "cell_type": "code",
   "execution_count": 90,
   "id": "2b6a2eae",
   "metadata": {},
   "outputs": [
    {
     "data": {
      "text/plain": [
       "(8523, 4)"
      ]
     },
     "execution_count": 90,
     "metadata": {},
     "output_type": "execute_result"
    }
   ],
   "source": [
    "transformed_oe_item_fat_outlet_size_outlet_location.shape"
   ]
  },
  {
   "cell_type": "code",
   "execution_count": 91,
   "id": "31fb84ff",
   "metadata": {},
   "outputs": [
    {
     "data": {
      "text/plain": [
       "(8523, 1)"
      ]
     },
     "execution_count": 91,
     "metadata": {},
     "output_type": "execute_result"
    }
   ],
   "source": [
    "y.shape"
   ]
  },
  {
   "cell_type": "code",
   "execution_count": 92,
   "id": "1e1148ab",
   "metadata": {},
   "outputs": [],
   "source": [
    "X = np.hstack((X , transformed_oe_item_fat_outlet_size_outlet_location)) "
   ]
  },
  {
   "cell_type": "code",
   "execution_count": 93,
   "id": "7f83649a",
   "metadata": {},
   "outputs": [
    {
     "data": {
      "text/plain": [
       "(8523, 7)"
      ]
     },
     "execution_count": 93,
     "metadata": {},
     "output_type": "execute_result"
    }
   ],
   "source": [
    "X.shape "
   ]
  },
  {
   "cell_type": "code",
   "execution_count": 94,
   "id": "6f5b5176",
   "metadata": {},
   "outputs": [],
   "source": [
    "X_train,X_test , y_train , y_test = train_test_split(X , y ,test_size = 0.3 ,  random_state = 42) "
   ]
  },
  {
   "cell_type": "code",
   "execution_count": 95,
   "id": "40e6eff5",
   "metadata": {},
   "outputs": [],
   "source": [
    "standard_scaler  = StandardScaler() "
   ]
  },
  {
   "cell_type": "markdown",
   "id": "c30f768f",
   "metadata": {},
   "source": [
    "# Linear Regression"
   ]
  },
  {
   "cell_type": "code",
   "execution_count": 96,
   "id": "90c4255f",
   "metadata": {},
   "outputs": [],
   "source": [
    "#X_train = standard_scaler.fit_transform(X_train) \n",
    "#X_test = standard_scaler.fit_transform(X_test) \n"
   ]
  },
  {
   "cell_type": "code",
   "execution_count": 97,
   "id": "a48659b7",
   "metadata": {},
   "outputs": [],
   "source": [
    "linear_regression = LinearRegression() "
   ]
  },
  {
   "cell_type": "code",
   "execution_count": 98,
   "id": "755ed4fc",
   "metadata": {},
   "outputs": [
    {
     "data": {
      "text/html": [
       "<style>#sk-354afcfc-04a9-4462-938e-fdc236a9e66a {color: black;background-color: white;}#sk-354afcfc-04a9-4462-938e-fdc236a9e66a pre{padding: 0;}#sk-354afcfc-04a9-4462-938e-fdc236a9e66a div.sk-toggleable {background-color: white;}#sk-354afcfc-04a9-4462-938e-fdc236a9e66a label.sk-toggleable__label {cursor: pointer;display: block;width: 100%;margin-bottom: 0;padding: 0.3em;box-sizing: border-box;text-align: center;}#sk-354afcfc-04a9-4462-938e-fdc236a9e66a label.sk-toggleable__label-arrow:before {content: \"▸\";float: left;margin-right: 0.25em;color: #696969;}#sk-354afcfc-04a9-4462-938e-fdc236a9e66a label.sk-toggleable__label-arrow:hover:before {color: black;}#sk-354afcfc-04a9-4462-938e-fdc236a9e66a div.sk-estimator:hover label.sk-toggleable__label-arrow:before {color: black;}#sk-354afcfc-04a9-4462-938e-fdc236a9e66a div.sk-toggleable__content {max-height: 0;max-width: 0;overflow: hidden;text-align: left;background-color: #f0f8ff;}#sk-354afcfc-04a9-4462-938e-fdc236a9e66a div.sk-toggleable__content pre {margin: 0.2em;color: black;border-radius: 0.25em;background-color: #f0f8ff;}#sk-354afcfc-04a9-4462-938e-fdc236a9e66a input.sk-toggleable__control:checked~div.sk-toggleable__content {max-height: 200px;max-width: 100%;overflow: auto;}#sk-354afcfc-04a9-4462-938e-fdc236a9e66a input.sk-toggleable__control:checked~label.sk-toggleable__label-arrow:before {content: \"▾\";}#sk-354afcfc-04a9-4462-938e-fdc236a9e66a div.sk-estimator input.sk-toggleable__control:checked~label.sk-toggleable__label {background-color: #d4ebff;}#sk-354afcfc-04a9-4462-938e-fdc236a9e66a div.sk-label input.sk-toggleable__control:checked~label.sk-toggleable__label {background-color: #d4ebff;}#sk-354afcfc-04a9-4462-938e-fdc236a9e66a input.sk-hidden--visually {border: 0;clip: rect(1px 1px 1px 1px);clip: rect(1px, 1px, 1px, 1px);height: 1px;margin: -1px;overflow: hidden;padding: 0;position: absolute;width: 1px;}#sk-354afcfc-04a9-4462-938e-fdc236a9e66a div.sk-estimator {font-family: monospace;background-color: #f0f8ff;border: 1px dotted black;border-radius: 0.25em;box-sizing: border-box;margin-bottom: 0.5em;}#sk-354afcfc-04a9-4462-938e-fdc236a9e66a div.sk-estimator:hover {background-color: #d4ebff;}#sk-354afcfc-04a9-4462-938e-fdc236a9e66a div.sk-parallel-item::after {content: \"\";width: 100%;border-bottom: 1px solid gray;flex-grow: 1;}#sk-354afcfc-04a9-4462-938e-fdc236a9e66a div.sk-label:hover label.sk-toggleable__label {background-color: #d4ebff;}#sk-354afcfc-04a9-4462-938e-fdc236a9e66a div.sk-serial::before {content: \"\";position: absolute;border-left: 1px solid gray;box-sizing: border-box;top: 2em;bottom: 0;left: 50%;}#sk-354afcfc-04a9-4462-938e-fdc236a9e66a div.sk-serial {display: flex;flex-direction: column;align-items: center;background-color: white;padding-right: 0.2em;padding-left: 0.2em;}#sk-354afcfc-04a9-4462-938e-fdc236a9e66a div.sk-item {z-index: 1;}#sk-354afcfc-04a9-4462-938e-fdc236a9e66a div.sk-parallel {display: flex;align-items: stretch;justify-content: center;background-color: white;}#sk-354afcfc-04a9-4462-938e-fdc236a9e66a div.sk-parallel::before {content: \"\";position: absolute;border-left: 1px solid gray;box-sizing: border-box;top: 2em;bottom: 0;left: 50%;}#sk-354afcfc-04a9-4462-938e-fdc236a9e66a div.sk-parallel-item {display: flex;flex-direction: column;position: relative;background-color: white;}#sk-354afcfc-04a9-4462-938e-fdc236a9e66a div.sk-parallel-item:first-child::after {align-self: flex-end;width: 50%;}#sk-354afcfc-04a9-4462-938e-fdc236a9e66a div.sk-parallel-item:last-child::after {align-self: flex-start;width: 50%;}#sk-354afcfc-04a9-4462-938e-fdc236a9e66a div.sk-parallel-item:only-child::after {width: 0;}#sk-354afcfc-04a9-4462-938e-fdc236a9e66a div.sk-dashed-wrapped {border: 1px dashed gray;margin: 0 0.4em 0.5em 0.4em;box-sizing: border-box;padding-bottom: 0.4em;background-color: white;position: relative;}#sk-354afcfc-04a9-4462-938e-fdc236a9e66a div.sk-label label {font-family: monospace;font-weight: bold;background-color: white;display: inline-block;line-height: 1.2em;}#sk-354afcfc-04a9-4462-938e-fdc236a9e66a div.sk-label-container {position: relative;z-index: 2;text-align: center;}#sk-354afcfc-04a9-4462-938e-fdc236a9e66a div.sk-container {/* jupyter's `normalize.less` sets `[hidden] { display: none; }` but bootstrap.min.css set `[hidden] { display: none !important; }` so we also need the `!important` here to be able to override the default hidden behavior on the sphinx rendered scikit-learn.org. See: https://github.com/scikit-learn/scikit-learn/issues/21755 */display: inline-block !important;position: relative;}#sk-354afcfc-04a9-4462-938e-fdc236a9e66a div.sk-text-repr-fallback {display: none;}</style><div id=\"sk-354afcfc-04a9-4462-938e-fdc236a9e66a\" class=\"sk-top-container\"><div class=\"sk-text-repr-fallback\"><pre>LinearRegression()</pre><b>Please rerun this cell to show the HTML repr or trust the notebook.</b></div><div class=\"sk-container\" hidden><div class=\"sk-item\"><div class=\"sk-estimator sk-toggleable\"><input class=\"sk-toggleable__control sk-hidden--visually\" id=\"9fe9f5b4-1e85-471d-9056-9f9703bd059c\" type=\"checkbox\" checked><label for=\"9fe9f5b4-1e85-471d-9056-9f9703bd059c\" class=\"sk-toggleable__label sk-toggleable__label-arrow\">LinearRegression</label><div class=\"sk-toggleable__content\"><pre>LinearRegression()</pre></div></div></div></div></div>"
      ],
      "text/plain": [
       "LinearRegression()"
      ]
     },
     "execution_count": 98,
     "metadata": {},
     "output_type": "execute_result"
    }
   ],
   "source": [
    "linear_regression.fit(X_train , y_train)  "
   ]
  },
  {
   "cell_type": "code",
   "execution_count": 99,
   "id": "60fae716",
   "metadata": {},
   "outputs": [],
   "source": [
    "y_pred = linear_regression.predict(X_test)"
   ]
  },
  {
   "cell_type": "code",
   "execution_count": 100,
   "id": "df783480",
   "metadata": {},
   "outputs": [
    {
     "data": {
      "text/plain": [
       "0.5105845447219612"
      ]
     },
     "execution_count": 100,
     "metadata": {},
     "output_type": "execute_result"
    }
   ],
   "source": [
    "r2_score(y_test , y_pred)"
   ]
  },
  {
   "cell_type": "code",
   "execution_count": 101,
   "id": "01db745c",
   "metadata": {},
   "outputs": [
    {
     "data": {
      "text/plain": [
       "1370849.5224244357"
      ]
     },
     "execution_count": 101,
     "metadata": {},
     "output_type": "execute_result"
    }
   ],
   "source": [
    "mse(y_test , y_pred) "
   ]
  },
  {
   "cell_type": "code",
   "execution_count": 102,
   "id": "5bf8cc42",
   "metadata": {},
   "outputs": [
    {
     "data": {
      "text/plain": [
       "874.1167711092959"
      ]
     },
     "execution_count": 102,
     "metadata": {},
     "output_type": "execute_result"
    }
   ],
   "source": [
    "mase(y_test , y_pred) "
   ]
  },
  {
   "cell_type": "markdown",
   "id": "d066f6c9",
   "metadata": {},
   "source": [
    "# Ridge Regression L2"
   ]
  },
  {
   "cell_type": "code",
   "execution_count": 103,
   "id": "3ce9baf6",
   "metadata": {},
   "outputs": [],
   "source": [
    "ridge_regression = Ridge(alpha = 0.0001) "
   ]
  },
  {
   "cell_type": "code",
   "execution_count": 104,
   "id": "ef5f9d41",
   "metadata": {},
   "outputs": [],
   "source": [
    "ridge_regression.fit(X_train , y_train) \n",
    "y_pred = ridge_regression.predict(X_test)"
   ]
  },
  {
   "cell_type": "code",
   "execution_count": 105,
   "id": "fbf519e4",
   "metadata": {},
   "outputs": [
    {
     "data": {
      "text/plain": [
       "0.5105845660768316"
      ]
     },
     "execution_count": 105,
     "metadata": {},
     "output_type": "execute_result"
    }
   ],
   "source": [
    "r2_score(y_test , y_pred) "
   ]
  },
  {
   "cell_type": "code",
   "execution_count": 106,
   "id": "109c0700",
   "metadata": {},
   "outputs": [
    {
     "data": {
      "text/plain": [
       "1370849.4626095819"
      ]
     },
     "execution_count": 106,
     "metadata": {},
     "output_type": "execute_result"
    }
   ],
   "source": [
    "mse(y_test ,y_pred) "
   ]
  },
  {
   "cell_type": "code",
   "execution_count": 107,
   "id": "8c1643f7",
   "metadata": {},
   "outputs": [
    {
     "data": {
      "text/plain": [
       "874.1167472373958"
      ]
     },
     "execution_count": 107,
     "metadata": {},
     "output_type": "execute_result"
    }
   ],
   "source": [
    "mase(y_test , y_pred) "
   ]
  },
  {
   "cell_type": "code",
   "execution_count": 108,
   "id": "4ca6b914",
   "metadata": {},
   "outputs": [
    {
     "name": "stdout",
     "output_type": "stream",
     "text": [
      "r2 score if for alpha value 1e-05 if  0.5105845468574748\n",
      "r2 score if for alpha value 0.0001 if  0.5105845660768316\n",
      "r2 score if for alpha value 0.001 if  0.5105847582439884\n",
      "r2 score if for alpha value 0.01 if  0.5105866772773269\n",
      "r2 score if for alpha value 0.1 if  0.5106056066644533\n",
      "r2 score if for alpha value 1.0 if  0.5107714227859528\n",
      "r2 score if for alpha value 1.1 if  0.510787500546014\n",
      "r2 score if for alpha value 1.2 if  0.5108031611011374\n",
      "r2 score if for alpha value 1.5 if  0.5108477639495592\n",
      "r2 score if for alpha value 2 if  0.5109148553907179\n",
      "r2 score if for alpha value 4 if  0.5111135031851761\n",
      "r2 score if for alpha value 8 if  0.5113165878548361\n",
      "r2 score if for alpha value 10 if  0.5113680580755815\n",
      "r2 score if for alpha value 100 if  0.511284993055303\n",
      "r2 score if for alpha value 1000 if  0.49637792782410906\n"
     ]
    }
   ],
   "source": [
    "alpha = [0.00001 ,0.0001 , 0.001 ,0.01 ,0.1, 1.0 , 1.1 ,1.2 , 1.5 ,2 ,4 , 8 ,10 ,100  ,1000] ; \n",
    "for Alp in alpha : \n",
    "    rr = Ridge(alpha = Alp)\n",
    "    rr.fit(X_train , y_train)\n",
    "    y_pred = rr.predict(X_test)\n",
    "    print(f\"r2 score if for alpha value {Alp} if \"  , r2_score(y_test ,y_pred)) "
   ]
  },
  {
   "cell_type": "code",
   "execution_count": 109,
   "id": "eca1e0c6",
   "metadata": {},
   "outputs": [],
   "source": [
    "coef = [] \n",
    "for i in alpha : \n",
    "    lrr = Ridge(alpha = i )\n",
    "    lrr.fit(X_train , y_train)\n",
    "    y_pred = lrr.predict(X_test)\n",
    "    coef.append(lrr.coef_[0].tolist())  "
   ]
  },
  {
   "cell_type": "code",
   "execution_count": 110,
   "id": "1e20d750",
   "metadata": {},
   "outputs": [
    {
     "data": {
      "text/html": [
       "<div>\n",
       "<style scoped>\n",
       "    .dataframe tbody tr th:only-of-type {\n",
       "        vertical-align: middle;\n",
       "    }\n",
       "\n",
       "    .dataframe tbody tr th {\n",
       "        vertical-align: top;\n",
       "    }\n",
       "\n",
       "    .dataframe thead th {\n",
       "        text-align: right;\n",
       "    }\n",
       "</style>\n",
       "<table border=\"1\" class=\"dataframe\">\n",
       "  <thead>\n",
       "    <tr style=\"text-align: right;\">\n",
       "      <th></th>\n",
       "      <th>0</th>\n",
       "      <th>1</th>\n",
       "      <th>2</th>\n",
       "      <th>3</th>\n",
       "      <th>4</th>\n",
       "      <th>5</th>\n",
       "      <th>6</th>\n",
       "    </tr>\n",
       "    <tr>\n",
       "      <th>alpha</th>\n",
       "      <th></th>\n",
       "      <th></th>\n",
       "      <th></th>\n",
       "      <th></th>\n",
       "      <th></th>\n",
       "      <th></th>\n",
       "      <th></th>\n",
       "    </tr>\n",
       "  </thead>\n",
       "  <tbody>\n",
       "    <tr>\n",
       "      <th>0.00001</th>\n",
       "      <td>-1.432145</td>\n",
       "      <td>-1757.967951</td>\n",
       "      <td>15.799905</td>\n",
       "      <td>87.822978</td>\n",
       "      <td>365.215616</td>\n",
       "      <td>-435.814164</td>\n",
       "      <td>994.427933</td>\n",
       "    </tr>\n",
       "    <tr>\n",
       "      <th>0.00010</th>\n",
       "      <td>-1.432143</td>\n",
       "      <td>-1757.956303</td>\n",
       "      <td>15.799905</td>\n",
       "      <td>87.822913</td>\n",
       "      <td>365.215663</td>\n",
       "      <td>-435.814206</td>\n",
       "      <td>994.428037</td>\n",
       "    </tr>\n",
       "    <tr>\n",
       "      <th>0.00100</th>\n",
       "      <td>-1.432123</td>\n",
       "      <td>-1757.839837</td>\n",
       "      <td>15.799905</td>\n",
       "      <td>87.822262</td>\n",
       "      <td>365.216128</td>\n",
       "      <td>-435.814633</td>\n",
       "      <td>994.429077</td>\n",
       "    </tr>\n",
       "    <tr>\n",
       "      <th>0.01000</th>\n",
       "      <td>-1.431921</td>\n",
       "      <td>-1756.676033</td>\n",
       "      <td>15.799906</td>\n",
       "      <td>87.815765</td>\n",
       "      <td>365.220771</td>\n",
       "      <td>-435.818893</td>\n",
       "      <td>994.439468</td>\n",
       "    </tr>\n",
       "    <tr>\n",
       "      <th>0.10000</th>\n",
       "      <td>-1.429920</td>\n",
       "      <td>-1745.123085</td>\n",
       "      <td>15.799914</td>\n",
       "      <td>87.751225</td>\n",
       "      <td>365.266524</td>\n",
       "      <td>-435.860815</td>\n",
       "      <td>994.542313</td>\n",
       "    </tr>\n",
       "    <tr>\n",
       "      <th>1.00000</th>\n",
       "      <td>-1.411265</td>\n",
       "      <td>-1637.513935</td>\n",
       "      <td>15.799990</td>\n",
       "      <td>87.146430</td>\n",
       "      <td>365.660843</td>\n",
       "      <td>-436.216975</td>\n",
       "      <td>995.472351</td>\n",
       "    </tr>\n",
       "    <tr>\n",
       "      <th>1.10000</th>\n",
       "      <td>-1.409334</td>\n",
       "      <td>-1626.379646</td>\n",
       "      <td>15.799997</td>\n",
       "      <td>87.083447</td>\n",
       "      <td>365.698099</td>\n",
       "      <td>-436.250005</td>\n",
       "      <td>995.565473</td>\n",
       "    </tr>\n",
       "    <tr>\n",
       "      <th>1.20000</th>\n",
       "      <td>-1.407429</td>\n",
       "      <td>-1615.397457</td>\n",
       "      <td>15.800004</td>\n",
       "      <td>87.021243</td>\n",
       "      <td>365.734142</td>\n",
       "      <td>-436.281826</td>\n",
       "      <td>995.656706</td>\n",
       "    </tr>\n",
       "    <tr>\n",
       "      <th>1.50000</th>\n",
       "      <td>-1.401866</td>\n",
       "      <td>-1583.332939</td>\n",
       "      <td>15.800024</td>\n",
       "      <td>86.839155</td>\n",
       "      <td>365.835247</td>\n",
       "      <td>-436.370278</td>\n",
       "      <td>995.919452</td>\n",
       "    </tr>\n",
       "    <tr>\n",
       "      <th>2.00000</th>\n",
       "      <td>-1.393072</td>\n",
       "      <td>-1532.660852</td>\n",
       "      <td>15.800053</td>\n",
       "      <td>86.549873</td>\n",
       "      <td>365.981713</td>\n",
       "      <td>-436.495703</td>\n",
       "      <td>996.322982</td>\n",
       "    </tr>\n",
       "    <tr>\n",
       "      <th>4.00000</th>\n",
       "      <td>-1.362896</td>\n",
       "      <td>-1359.025293</td>\n",
       "      <td>15.800124</td>\n",
       "      <td>85.541759</td>\n",
       "      <td>366.336809</td>\n",
       "      <td>-436.767056</td>\n",
       "      <td>997.576607</td>\n",
       "    </tr>\n",
       "    <tr>\n",
       "      <th>8.00000</th>\n",
       "      <td>-1.319287</td>\n",
       "      <td>-1108.927365</td>\n",
       "      <td>15.800124</td>\n",
       "      <td>84.024230</td>\n",
       "      <td>366.279679</td>\n",
       "      <td>-436.543374</td>\n",
       "      <td>998.880202</td>\n",
       "    </tr>\n",
       "    <tr>\n",
       "      <th>10.00000</th>\n",
       "      <td>-1.302998</td>\n",
       "      <td>-1015.881885</td>\n",
       "      <td>15.800077</td>\n",
       "      <td>83.429874</td>\n",
       "      <td>366.000928</td>\n",
       "      <td>-436.181388</td>\n",
       "      <td>999.136758</td>\n",
       "    </tr>\n",
       "    <tr>\n",
       "      <th>100.00000</th>\n",
       "      <td>-1.159448</td>\n",
       "      <td>-223.648761</td>\n",
       "      <td>15.793415</td>\n",
       "      <td>74.387261</td>\n",
       "      <td>330.811958</td>\n",
       "      <td>-396.871454</td>\n",
       "      <td>970.616520</td>\n",
       "    </tr>\n",
       "    <tr>\n",
       "      <th>1000.00000</th>\n",
       "      <td>-1.258364</td>\n",
       "      <td>-34.466753</td>\n",
       "      <td>15.743847</td>\n",
       "      <td>44.174700</td>\n",
       "      <td>151.856713</td>\n",
       "      <td>-169.176087</td>\n",
       "      <td>725.903688</td>\n",
       "    </tr>\n",
       "  </tbody>\n",
       "</table>\n",
       "</div>"
      ],
      "text/plain": [
       "                   0            1          2          3           4  \\\n",
       "alpha                                                                 \n",
       "0.00001    -1.432145 -1757.967951  15.799905  87.822978  365.215616   \n",
       "0.00010    -1.432143 -1757.956303  15.799905  87.822913  365.215663   \n",
       "0.00100    -1.432123 -1757.839837  15.799905  87.822262  365.216128   \n",
       "0.01000    -1.431921 -1756.676033  15.799906  87.815765  365.220771   \n",
       "0.10000    -1.429920 -1745.123085  15.799914  87.751225  365.266524   \n",
       "1.00000    -1.411265 -1637.513935  15.799990  87.146430  365.660843   \n",
       "1.10000    -1.409334 -1626.379646  15.799997  87.083447  365.698099   \n",
       "1.20000    -1.407429 -1615.397457  15.800004  87.021243  365.734142   \n",
       "1.50000    -1.401866 -1583.332939  15.800024  86.839155  365.835247   \n",
       "2.00000    -1.393072 -1532.660852  15.800053  86.549873  365.981713   \n",
       "4.00000    -1.362896 -1359.025293  15.800124  85.541759  366.336809   \n",
       "8.00000    -1.319287 -1108.927365  15.800124  84.024230  366.279679   \n",
       "10.00000   -1.302998 -1015.881885  15.800077  83.429874  366.000928   \n",
       "100.00000  -1.159448  -223.648761  15.793415  74.387261  330.811958   \n",
       "1000.00000 -1.258364   -34.466753  15.743847  44.174700  151.856713   \n",
       "\n",
       "                     5           6  \n",
       "alpha                               \n",
       "0.00001    -435.814164  994.427933  \n",
       "0.00010    -435.814206  994.428037  \n",
       "0.00100    -435.814633  994.429077  \n",
       "0.01000    -435.818893  994.439468  \n",
       "0.10000    -435.860815  994.542313  \n",
       "1.00000    -436.216975  995.472351  \n",
       "1.10000    -436.250005  995.565473  \n",
       "1.20000    -436.281826  995.656706  \n",
       "1.50000    -436.370278  995.919452  \n",
       "2.00000    -436.495703  996.322982  \n",
       "4.00000    -436.767056  997.576607  \n",
       "8.00000    -436.543374  998.880202  \n",
       "10.00000   -436.181388  999.136758  \n",
       "100.00000  -396.871454  970.616520  \n",
       "1000.00000 -169.176087  725.903688  "
      ]
     },
     "execution_count": 110,
     "metadata": {},
     "output_type": "execute_result"
    }
   ],
   "source": [
    "input_array = np.array(coef)\n",
    "dataframe = pd.DataFrame(input_array)\n",
    "dataframe['alpha'] = alpha \n",
    "dataframe.set_index('alpha') "
   ]
  },
  {
   "cell_type": "code",
   "execution_count": null,
   "id": "168364ca",
   "metadata": {},
   "outputs": [],
   "source": []
  },
  {
   "cell_type": "markdown",
   "id": "f76cf924",
   "metadata": {},
   "source": [
    "# Lasso Regressin L1"
   ]
  },
  {
   "cell_type": "code",
   "execution_count": 111,
   "id": "bdf15aa9",
   "metadata": {},
   "outputs": [
    {
     "data": {
      "text/plain": [
       "0.5105845535206666"
      ]
     },
     "execution_count": 111,
     "metadata": {},
     "output_type": "execute_result"
    }
   ],
   "source": [
    "lreg = Lasso(alpha = 0.00001) \n",
    "lreg.fit(X_train , y_train) \n",
    "y_pred = lreg.predict(X_test)\n",
    "r2_score(y_test , y_pred) "
   ]
  },
  {
   "cell_type": "code",
   "execution_count": 112,
   "id": "15ecdf96",
   "metadata": {},
   "outputs": [
    {
     "name": "stdout",
     "output_type": "stream",
     "text": [
      "r2 score if for alpha value 1e-05 if  0.5105845535206666\n",
      "r2 score if for alpha value 0.0001 if  0.5105846327048111\n",
      "r2 score if for alpha value 0.001 if  0.510585424372137\n",
      "r2 score if for alpha value 0.01 if  0.5105933257427813\n",
      "r2 score if for alpha value 0.1 if  0.5106708296702035\n",
      "r2 score if for alpha value 1.0 if  0.5112950899024067\n",
      "r2 score if for alpha value 1.1 if  0.5113474524949582\n",
      "r2 score if for alpha value 1.2 if  0.5113964310722635\n",
      "r2 score if for alpha value 1.5 if  0.5115226382453675\n",
      "r2 score if for alpha value 2 if  0.5116660105743834\n",
      "r2 score if for alpha value 4 if  0.5113934961676327\n",
      "r2 score if for alpha value 8 if  0.5117408779419393\n",
      "r2 score if for alpha value 10 if  0.5118353568766358\n",
      "r2 score if for alpha value 100 if  0.4867149568388234\n",
      "r2 score if for alpha value 1000 if  0.323796398658432\n"
     ]
    }
   ],
   "source": [
    "alpha = [0.00001 ,0.0001 , 0.001 ,0.01 ,0.1, 1.0 , 1.1 ,1.2 , 1.5 ,2 ,4 , 8 ,10 ,100  ,1000] ; \n",
    "for Alp in alpha : \n",
    "    lrr = Lasso(alpha = Alp)\n",
    "    lrr.fit(X_train , y_train)\n",
    "    y_pred = lrr.predict(X_test)\n",
    "    print(f\"r2 score if for alpha value {Alp} if \"  , r2_score(y_test ,y_pred)) "
   ]
  },
  {
   "cell_type": "code",
   "execution_count": 113,
   "id": "eaf59074",
   "metadata": {},
   "outputs": [],
   "source": [
    "coef = [] \n",
    "for i in alpha : \n",
    "    lrr = Lasso(alpha = i )\n",
    "    lrr.fit(X_train , y_train)\n",
    "    y_pred = lrr.predict(X_test)\n",
    "    coef.append(lrr.coef_.tolist())    "
   ]
  },
  {
   "cell_type": "code",
   "execution_count": 114,
   "id": "d09a2fa5",
   "metadata": {},
   "outputs": [
    {
     "data": {
      "text/plain": [
       "(15, 7)"
      ]
     },
     "execution_count": 114,
     "metadata": {},
     "output_type": "execute_result"
    }
   ],
   "source": [
    "input_array1 = np.array(coef) \n",
    "input_array1.shape"
   ]
  },
  {
   "cell_type": "code",
   "execution_count": 115,
   "id": "80a38ea1",
   "metadata": {},
   "outputs": [
    {
     "data": {
      "text/html": [
       "<div>\n",
       "<style scoped>\n",
       "    .dataframe tbody tr th:only-of-type {\n",
       "        vertical-align: middle;\n",
       "    }\n",
       "\n",
       "    .dataframe tbody tr th {\n",
       "        vertical-align: top;\n",
       "    }\n",
       "\n",
       "    .dataframe thead th {\n",
       "        text-align: right;\n",
       "    }\n",
       "</style>\n",
       "<table border=\"1\" class=\"dataframe\">\n",
       "  <thead>\n",
       "    <tr style=\"text-align: right;\">\n",
       "      <th></th>\n",
       "      <th>0</th>\n",
       "      <th>1</th>\n",
       "      <th>2</th>\n",
       "      <th>3</th>\n",
       "      <th>4</th>\n",
       "      <th>5</th>\n",
       "      <th>6</th>\n",
       "    </tr>\n",
       "    <tr>\n",
       "      <th>alpha</th>\n",
       "      <th></th>\n",
       "      <th></th>\n",
       "      <th></th>\n",
       "      <th></th>\n",
       "      <th></th>\n",
       "      <th></th>\n",
       "      <th></th>\n",
       "    </tr>\n",
       "  </thead>\n",
       "  <tbody>\n",
       "    <tr>\n",
       "      <th>0.00001</th>\n",
       "      <td>-1.432144</td>\n",
       "      <td>-1757.964910</td>\n",
       "      <td>15.799905</td>\n",
       "      <td>87.822919</td>\n",
       "      <td>365.215573</td>\n",
       "      <td>-435.814128</td>\n",
       "      <td>994.427940</td>\n",
       "    </tr>\n",
       "    <tr>\n",
       "      <th>0.00010</th>\n",
       "      <td>-1.432132</td>\n",
       "      <td>-1757.925896</td>\n",
       "      <td>15.799905</td>\n",
       "      <td>87.822331</td>\n",
       "      <td>365.215233</td>\n",
       "      <td>-435.813854</td>\n",
       "      <td>994.428100</td>\n",
       "    </tr>\n",
       "    <tr>\n",
       "      <th>0.00100</th>\n",
       "      <td>-1.432014</td>\n",
       "      <td>-1757.535746</td>\n",
       "      <td>15.799904</td>\n",
       "      <td>87.816444</td>\n",
       "      <td>365.211831</td>\n",
       "      <td>-435.811115</td>\n",
       "      <td>994.429702</td>\n",
       "    </tr>\n",
       "    <tr>\n",
       "      <th>0.01000</th>\n",
       "      <td>-1.430829</td>\n",
       "      <td>-1753.634224</td>\n",
       "      <td>15.799899</td>\n",
       "      <td>87.757575</td>\n",
       "      <td>365.177823</td>\n",
       "      <td>-435.783730</td>\n",
       "      <td>994.445724</td>\n",
       "    </tr>\n",
       "    <tr>\n",
       "      <th>0.10000</th>\n",
       "      <td>-1.418981</td>\n",
       "      <td>-1714.618711</td>\n",
       "      <td>15.799846</td>\n",
       "      <td>87.168886</td>\n",
       "      <td>364.837894</td>\n",
       "      <td>-435.509977</td>\n",
       "      <td>994.605970</td>\n",
       "    </tr>\n",
       "    <tr>\n",
       "      <th>1.00000</th>\n",
       "      <td>-1.300506</td>\n",
       "      <td>-1324.460285</td>\n",
       "      <td>15.799318</td>\n",
       "      <td>81.281934</td>\n",
       "      <td>361.440318</td>\n",
       "      <td>-432.773480</td>\n",
       "      <td>996.208704</td>\n",
       "    </tr>\n",
       "    <tr>\n",
       "      <th>1.10000</th>\n",
       "      <td>-1.287359</td>\n",
       "      <td>-1281.099165</td>\n",
       "      <td>15.799260</td>\n",
       "      <td>80.627652</td>\n",
       "      <td>361.068102</td>\n",
       "      <td>-432.472642</td>\n",
       "      <td>996.387624</td>\n",
       "    </tr>\n",
       "    <tr>\n",
       "      <th>1.20000</th>\n",
       "      <td>-1.274213</td>\n",
       "      <td>-1237.738045</td>\n",
       "      <td>15.799202</td>\n",
       "      <td>79.973370</td>\n",
       "      <td>360.695886</td>\n",
       "      <td>-432.171805</td>\n",
       "      <td>996.566543</td>\n",
       "    </tr>\n",
       "    <tr>\n",
       "      <th>1.50000</th>\n",
       "      <td>-1.234864</td>\n",
       "      <td>-1107.600869</td>\n",
       "      <td>15.799033</td>\n",
       "      <td>78.009594</td>\n",
       "      <td>359.607203</td>\n",
       "      <td>-431.286294</td>\n",
       "      <td>997.107727</td>\n",
       "    </tr>\n",
       "    <tr>\n",
       "      <th>2.00000</th>\n",
       "      <td>-1.169131</td>\n",
       "      <td>-890.795436</td>\n",
       "      <td>15.798743</td>\n",
       "      <td>74.738188</td>\n",
       "      <td>357.746035</td>\n",
       "      <td>-429.782052</td>\n",
       "      <td>998.002309</td>\n",
       "    </tr>\n",
       "    <tr>\n",
       "      <th>4.00000</th>\n",
       "      <td>-0.906197</td>\n",
       "      <td>-23.573702</td>\n",
       "      <td>15.797586</td>\n",
       "      <td>61.652563</td>\n",
       "      <td>350.301362</td>\n",
       "      <td>-423.765086</td>\n",
       "      <td>1001.580637</td>\n",
       "    </tr>\n",
       "    <tr>\n",
       "      <th>8.00000</th>\n",
       "      <td>-0.674875</td>\n",
       "      <td>-0.000000</td>\n",
       "      <td>15.792746</td>\n",
       "      <td>44.159074</td>\n",
       "      <td>321.812796</td>\n",
       "      <td>-398.186862</td>\n",
       "      <td>987.558771</td>\n",
       "    </tr>\n",
       "    <tr>\n",
       "      <th>10.00000</th>\n",
       "      <td>-0.561376</td>\n",
       "      <td>-0.000000</td>\n",
       "      <td>15.790314</td>\n",
       "      <td>35.471327</td>\n",
       "      <td>307.505134</td>\n",
       "      <td>-385.322001</td>\n",
       "      <td>980.405743</td>\n",
       "    </tr>\n",
       "    <tr>\n",
       "      <th>100.00000</th>\n",
       "      <td>-0.000000</td>\n",
       "      <td>-0.000000</td>\n",
       "      <td>15.720066</td>\n",
       "      <td>0.000000</td>\n",
       "      <td>0.000000</td>\n",
       "      <td>-0.000000</td>\n",
       "      <td>702.238963</td>\n",
       "    </tr>\n",
       "    <tr>\n",
       "      <th>1000.00000</th>\n",
       "      <td>-0.000000</td>\n",
       "      <td>-0.000000</td>\n",
       "      <td>15.302841</td>\n",
       "      <td>0.000000</td>\n",
       "      <td>0.000000</td>\n",
       "      <td>0.000000</td>\n",
       "      <td>0.000000</td>\n",
       "    </tr>\n",
       "  </tbody>\n",
       "</table>\n",
       "</div>"
      ],
      "text/plain": [
       "                   0            1          2          3           4  \\\n",
       "alpha                                                                 \n",
       "0.00001    -1.432144 -1757.964910  15.799905  87.822919  365.215573   \n",
       "0.00010    -1.432132 -1757.925896  15.799905  87.822331  365.215233   \n",
       "0.00100    -1.432014 -1757.535746  15.799904  87.816444  365.211831   \n",
       "0.01000    -1.430829 -1753.634224  15.799899  87.757575  365.177823   \n",
       "0.10000    -1.418981 -1714.618711  15.799846  87.168886  364.837894   \n",
       "1.00000    -1.300506 -1324.460285  15.799318  81.281934  361.440318   \n",
       "1.10000    -1.287359 -1281.099165  15.799260  80.627652  361.068102   \n",
       "1.20000    -1.274213 -1237.738045  15.799202  79.973370  360.695886   \n",
       "1.50000    -1.234864 -1107.600869  15.799033  78.009594  359.607203   \n",
       "2.00000    -1.169131  -890.795436  15.798743  74.738188  357.746035   \n",
       "4.00000    -0.906197   -23.573702  15.797586  61.652563  350.301362   \n",
       "8.00000    -0.674875    -0.000000  15.792746  44.159074  321.812796   \n",
       "10.00000   -0.561376    -0.000000  15.790314  35.471327  307.505134   \n",
       "100.00000  -0.000000    -0.000000  15.720066   0.000000    0.000000   \n",
       "1000.00000 -0.000000    -0.000000  15.302841   0.000000    0.000000   \n",
       "\n",
       "                     5            6  \n",
       "alpha                                \n",
       "0.00001    -435.814128   994.427940  \n",
       "0.00010    -435.813854   994.428100  \n",
       "0.00100    -435.811115   994.429702  \n",
       "0.01000    -435.783730   994.445724  \n",
       "0.10000    -435.509977   994.605970  \n",
       "1.00000    -432.773480   996.208704  \n",
       "1.10000    -432.472642   996.387624  \n",
       "1.20000    -432.171805   996.566543  \n",
       "1.50000    -431.286294   997.107727  \n",
       "2.00000    -429.782052   998.002309  \n",
       "4.00000    -423.765086  1001.580637  \n",
       "8.00000    -398.186862   987.558771  \n",
       "10.00000   -385.322001   980.405743  \n",
       "100.00000    -0.000000   702.238963  \n",
       "1000.00000    0.000000     0.000000  "
      ]
     },
     "execution_count": 115,
     "metadata": {},
     "output_type": "execute_result"
    }
   ],
   "source": [
    "dataframe = pd.DataFrame(input_array1) \n",
    "dataframe['alpha'] = alpha\n",
    "dataframe.set_index('alpha') "
   ]
  },
  {
   "cell_type": "markdown",
   "id": "791fc589",
   "metadata": {},
   "source": [
    "# Importing train dataset  "
   ]
  },
  {
   "cell_type": "code",
   "execution_count": 116,
   "id": "6e2839c3",
   "metadata": {},
   "outputs": [],
   "source": [
    "data = pd.read_csv(\"Train.csv\") ; \n",
    "data.drop(columns = ['Item_Identifier'  , 'Outlet_Identifier' , 'Outlet_Establishment_Year' , 'Item_Type'] , inplace = True)   "
   ]
  },
  {
   "cell_type": "code",
   "execution_count": 117,
   "id": "08071052",
   "metadata": {},
   "outputs": [
    {
     "data": {
      "text/html": [
       "<div>\n",
       "<style scoped>\n",
       "    .dataframe tbody tr th:only-of-type {\n",
       "        vertical-align: middle;\n",
       "    }\n",
       "\n",
       "    .dataframe tbody tr th {\n",
       "        vertical-align: top;\n",
       "    }\n",
       "\n",
       "    .dataframe thead th {\n",
       "        text-align: right;\n",
       "    }\n",
       "</style>\n",
       "<table border=\"1\" class=\"dataframe\">\n",
       "  <thead>\n",
       "    <tr style=\"text-align: right;\">\n",
       "      <th></th>\n",
       "      <th>Item_Weight</th>\n",
       "      <th>Item_Fat_Content</th>\n",
       "      <th>Item_Visibility</th>\n",
       "      <th>Item_MRP</th>\n",
       "      <th>Outlet_Size</th>\n",
       "      <th>Outlet_Location_Type</th>\n",
       "      <th>Outlet_Type</th>\n",
       "      <th>Item_Outlet_Sales</th>\n",
       "    </tr>\n",
       "  </thead>\n",
       "  <tbody>\n",
       "    <tr>\n",
       "      <th>0</th>\n",
       "      <td>9.30</td>\n",
       "      <td>Low Fat</td>\n",
       "      <td>0.016047</td>\n",
       "      <td>249.8092</td>\n",
       "      <td>Medium</td>\n",
       "      <td>Tier 1</td>\n",
       "      <td>Supermarket Type1</td>\n",
       "      <td>3735.1380</td>\n",
       "    </tr>\n",
       "    <tr>\n",
       "      <th>1</th>\n",
       "      <td>5.92</td>\n",
       "      <td>Regular</td>\n",
       "      <td>0.019278</td>\n",
       "      <td>48.2692</td>\n",
       "      <td>Medium</td>\n",
       "      <td>Tier 3</td>\n",
       "      <td>Supermarket Type2</td>\n",
       "      <td>443.4228</td>\n",
       "    </tr>\n",
       "    <tr>\n",
       "      <th>2</th>\n",
       "      <td>17.50</td>\n",
       "      <td>Low Fat</td>\n",
       "      <td>0.016760</td>\n",
       "      <td>141.6180</td>\n",
       "      <td>Medium</td>\n",
       "      <td>Tier 1</td>\n",
       "      <td>Supermarket Type1</td>\n",
       "      <td>2097.2700</td>\n",
       "    </tr>\n",
       "    <tr>\n",
       "      <th>3</th>\n",
       "      <td>19.20</td>\n",
       "      <td>Regular</td>\n",
       "      <td>0.000000</td>\n",
       "      <td>182.0950</td>\n",
       "      <td>NaN</td>\n",
       "      <td>Tier 3</td>\n",
       "      <td>Grocery Store</td>\n",
       "      <td>732.3800</td>\n",
       "    </tr>\n",
       "    <tr>\n",
       "      <th>4</th>\n",
       "      <td>8.93</td>\n",
       "      <td>Low Fat</td>\n",
       "      <td>0.000000</td>\n",
       "      <td>53.8614</td>\n",
       "      <td>High</td>\n",
       "      <td>Tier 3</td>\n",
       "      <td>Supermarket Type1</td>\n",
       "      <td>994.7052</td>\n",
       "    </tr>\n",
       "  </tbody>\n",
       "</table>\n",
       "</div>"
      ],
      "text/plain": [
       "   Item_Weight Item_Fat_Content  Item_Visibility  Item_MRP Outlet_Size  \\\n",
       "0         9.30          Low Fat         0.016047  249.8092      Medium   \n",
       "1         5.92          Regular         0.019278   48.2692      Medium   \n",
       "2        17.50          Low Fat         0.016760  141.6180      Medium   \n",
       "3        19.20          Regular         0.000000  182.0950         NaN   \n",
       "4         8.93          Low Fat         0.000000   53.8614        High   \n",
       "\n",
       "  Outlet_Location_Type        Outlet_Type  Item_Outlet_Sales  \n",
       "0               Tier 1  Supermarket Type1          3735.1380  \n",
       "1               Tier 3  Supermarket Type2           443.4228  \n",
       "2               Tier 1  Supermarket Type1          2097.2700  \n",
       "3               Tier 3      Grocery Store           732.3800  \n",
       "4               Tier 3  Supermarket Type1           994.7052  "
      ]
     },
     "execution_count": 117,
     "metadata": {},
     "output_type": "execute_result"
    }
   ],
   "source": [
    "data.head()"
   ]
  },
  {
   "cell_type": "code",
   "execution_count": null,
   "id": "e33108e3",
   "metadata": {},
   "outputs": [],
   "source": []
  },
  {
   "cell_type": "code",
   "execution_count": 118,
   "id": "ee5637ab",
   "metadata": {},
   "outputs": [
    {
     "name": "stdout",
     "output_type": "stream",
     "text": [
      "<class 'pandas.core.frame.DataFrame'>\n",
      "RangeIndex: 8523 entries, 0 to 8522\n",
      "Data columns (total 8 columns):\n",
      " #   Column                Non-Null Count  Dtype  \n",
      "---  ------                --------------  -----  \n",
      " 0   Item_Weight           7060 non-null   float64\n",
      " 1   Item_Fat_Content      8523 non-null   object \n",
      " 2   Item_Visibility       8523 non-null   float64\n",
      " 3   Item_MRP              8523 non-null   float64\n",
      " 4   Outlet_Size           6113 non-null   object \n",
      " 5   Outlet_Location_Type  8523 non-null   object \n",
      " 6   Outlet_Type           8523 non-null   object \n",
      " 7   Item_Outlet_Sales     8523 non-null   float64\n",
      "dtypes: float64(4), object(4)\n",
      "memory usage: 532.8+ KB\n"
     ]
    }
   ],
   "source": [
    "data.info()"
   ]
  },
  {
   "cell_type": "code",
   "execution_count": 119,
   "id": "a8d4dadc",
   "metadata": {},
   "outputs": [
    {
     "data": {
      "text/plain": [
       "Item_Weight             1463\n",
       "Item_Fat_Content           0\n",
       "Item_Visibility            0\n",
       "Item_MRP                   0\n",
       "Outlet_Size             2410\n",
       "Outlet_Location_Type       0\n",
       "Outlet_Type                0\n",
       "Item_Outlet_Sales          0\n",
       "dtype: int64"
      ]
     },
     "execution_count": 119,
     "metadata": {},
     "output_type": "execute_result"
    }
   ],
   "source": [
    "data.isnull().sum()"
   ]
  },
  {
   "cell_type": "code",
   "execution_count": 120,
   "id": "cea94b00",
   "metadata": {},
   "outputs": [],
   "source": [
    "data['Item_Weight'].replace(np.nan , data['Item_Weight'].median() , inplace =  True )  \n",
    "data['Outlet_Size'].replace(np.nan , data['Outlet_Size'].mode()[0] , inplace  = True) "
   ]
  },
  {
   "cell_type": "code",
   "execution_count": null,
   "id": "d34c3b49",
   "metadata": {},
   "outputs": [],
   "source": []
  },
  {
   "cell_type": "code",
   "execution_count": 121,
   "id": "34b49552",
   "metadata": {},
   "outputs": [
    {
     "data": {
      "text/plain": [
       "Item_Weight             0\n",
       "Item_Fat_Content        0\n",
       "Item_Visibility         0\n",
       "Item_MRP                0\n",
       "Outlet_Size             0\n",
       "Outlet_Location_Type    0\n",
       "Outlet_Type             0\n",
       "Item_Outlet_Sales       0\n",
       "dtype: int64"
      ]
     },
     "execution_count": 121,
     "metadata": {},
     "output_type": "execute_result"
    }
   ],
   "source": [
    "data.isnull().sum() "
   ]
  },
  {
   "cell_type": "code",
   "execution_count": 122,
   "id": "cdf38d6a",
   "metadata": {},
   "outputs": [
    {
     "data": {
      "text/plain": [
       "(8523, 8)"
      ]
     },
     "execution_count": 122,
     "metadata": {},
     "output_type": "execute_result"
    }
   ],
   "source": [
    "data.shape"
   ]
  },
  {
   "cell_type": "code",
   "execution_count": null,
   "id": "3fa74659",
   "metadata": {},
   "outputs": [],
   "source": []
  },
  {
   "cell_type": "code",
   "execution_count": 123,
   "id": "30342bca",
   "metadata": {},
   "outputs": [],
   "source": [
    "def remove_outliers(col):\n",
    "    q1 ,q3  = col.quantile([0.25 , 0.75]) \n",
    "    IQR =  q3 - q1 \n",
    "    lr = q1 - (1.5 * IQR) \n",
    "    ur = q3 + (1.5 * IQR) \n",
    "    return lr , ur "
   ]
  },
  {
   "cell_type": "code",
   "execution_count": 124,
   "id": "1d04c068",
   "metadata": {},
   "outputs": [],
   "source": [
    "lr , ur  = remove_outliers(data['Item_Visibility']) \n",
    "data[\"Item_Visibility\"] = np.where(data[\"Item_Visibility\"] > ur  , ur , data['Item_Visibility'] ) ; \n",
    "data[\"Item_Visibility\"] = np.where(data[\"Item_Visibility\"] < lr  , lr , data['Item_Visibility'] ) ;"
   ]
  },
  {
   "cell_type": "code",
   "execution_count": 125,
   "id": "a06232d0",
   "metadata": {},
   "outputs": [],
   "source": [
    "data[\"Item_Fat_Content\"] = data[\"Item_Fat_Content\"].replace(\"LF\" , \"Low Fat\") ; \n",
    "data[\"Item_Fat_Content\"] = data[\"Item_Fat_Content\"].replace(\"low fat\" , \"Low Fat\") ; \n",
    "data[\"Item_Fat_Content\"] = data[\"Item_Fat_Content\"].replace(\"reg\" , \"Regular\") ;"
   ]
  },
  {
   "cell_type": "code",
   "execution_count": 126,
   "id": "768d9a1e",
   "metadata": {},
   "outputs": [],
   "source": [
    "X = data.values\n",
    "y = X[:,7:]\n",
    "X = X[:,:7]"
   ]
  },
  {
   "cell_type": "code",
   "execution_count": 127,
   "id": "1399290e",
   "metadata": {},
   "outputs": [],
   "source": [
    "tranf1 = ColumnTransformer([\n",
    "    ('impute_item_weight' , SimpleImputer(), [0]),\n",
    "    ('impute_outlet_size' , SimpleImputer(strategy = 'most_frequent') , [4]), \n",
    "] , remainder = 'passthrough')"
   ]
  },
  {
   "cell_type": "code",
   "execution_count": 128,
   "id": "f5a7a233",
   "metadata": {},
   "outputs": [],
   "source": [
    "tranf2 = ColumnTransformer([\n",
    "    ('item_fat_content_ordinal' , OrdinalEncoder(categories = [['Low Fat' , 'Regular']]) , [2] ),\n",
    "    ('outlet_size' , OrdinalEncoder(categories =[[\"Small\" , \"Medium\" ,\"High\"]]) , [1]) , \n",
    "    ('outlet_location_type' , OrdinalEncoder(categories = [[\"Tier 1\" ,\"Tier 2\" ,\"Tier 3\"]]) , [5]),\n",
    "    ('outlet_Type' , OrdinalEncoder(categories = [['Grocery Store','Supermarket Type1', 'Supermarket Type2','Supermarket Type3']]),[6])\n",
    "] ,remainder = 'passthrough') "
   ]
  },
  {
   "cell_type": "code",
   "execution_count": 129,
   "id": "d21cad61",
   "metadata": {},
   "outputs": [],
   "source": [
    "tranf3 = ColumnTransformer([\n",
    "    ('scale' , StandardScaler() ,slice(0,8))\n",
    "])"
   ]
  },
  {
   "cell_type": "code",
   "execution_count": 135,
   "id": "bfe8f54d",
   "metadata": {},
   "outputs": [],
   "source": [
    "tranf4 = ColumnTransformer([\n",
    "    'selectKBest' ,SelectKBest(score_func  =f_regression , k = 5) \n",
    "])"
   ]
  },
  {
   "cell_type": "code",
   "execution_count": 136,
   "id": "dfab6034",
   "metadata": {},
   "outputs": [],
   "source": [
    "tranf5 = LinearRegression() "
   ]
  },
  {
   "cell_type": "code",
   "execution_count": 137,
   "id": "d7f073db",
   "metadata": {},
   "outputs": [],
   "source": [
    "X_train,X_test , y_train , y_test = train_test_split(X , y ,test_size = 0.3 ,  random_state = 42)"
   ]
  },
  {
   "cell_type": "code",
   "execution_count": 138,
   "id": "4de022e1",
   "metadata": {},
   "outputs": [],
   "source": [
    "pipeline = make_pipeline(tranf1 ,tranf2 ,tranf3, tranf5 ) "
   ]
  },
  {
   "cell_type": "code",
   "execution_count": 139,
   "id": "331f8912",
   "metadata": {},
   "outputs": [
    {
     "data": {
      "text/html": [
       "<style>#sk-5f804bc2-6270-4e80-b785-1e90124eeccf {color: black;background-color: white;}#sk-5f804bc2-6270-4e80-b785-1e90124eeccf pre{padding: 0;}#sk-5f804bc2-6270-4e80-b785-1e90124eeccf div.sk-toggleable {background-color: white;}#sk-5f804bc2-6270-4e80-b785-1e90124eeccf label.sk-toggleable__label {cursor: pointer;display: block;width: 100%;margin-bottom: 0;padding: 0.3em;box-sizing: border-box;text-align: center;}#sk-5f804bc2-6270-4e80-b785-1e90124eeccf label.sk-toggleable__label-arrow:before {content: \"▸\";float: left;margin-right: 0.25em;color: #696969;}#sk-5f804bc2-6270-4e80-b785-1e90124eeccf label.sk-toggleable__label-arrow:hover:before {color: black;}#sk-5f804bc2-6270-4e80-b785-1e90124eeccf div.sk-estimator:hover label.sk-toggleable__label-arrow:before {color: black;}#sk-5f804bc2-6270-4e80-b785-1e90124eeccf div.sk-toggleable__content {max-height: 0;max-width: 0;overflow: hidden;text-align: left;background-color: #f0f8ff;}#sk-5f804bc2-6270-4e80-b785-1e90124eeccf div.sk-toggleable__content pre {margin: 0.2em;color: black;border-radius: 0.25em;background-color: #f0f8ff;}#sk-5f804bc2-6270-4e80-b785-1e90124eeccf input.sk-toggleable__control:checked~div.sk-toggleable__content {max-height: 200px;max-width: 100%;overflow: auto;}#sk-5f804bc2-6270-4e80-b785-1e90124eeccf input.sk-toggleable__control:checked~label.sk-toggleable__label-arrow:before {content: \"▾\";}#sk-5f804bc2-6270-4e80-b785-1e90124eeccf div.sk-estimator input.sk-toggleable__control:checked~label.sk-toggleable__label {background-color: #d4ebff;}#sk-5f804bc2-6270-4e80-b785-1e90124eeccf div.sk-label input.sk-toggleable__control:checked~label.sk-toggleable__label {background-color: #d4ebff;}#sk-5f804bc2-6270-4e80-b785-1e90124eeccf input.sk-hidden--visually {border: 0;clip: rect(1px 1px 1px 1px);clip: rect(1px, 1px, 1px, 1px);height: 1px;margin: -1px;overflow: hidden;padding: 0;position: absolute;width: 1px;}#sk-5f804bc2-6270-4e80-b785-1e90124eeccf div.sk-estimator {font-family: monospace;background-color: #f0f8ff;border: 1px dotted black;border-radius: 0.25em;box-sizing: border-box;margin-bottom: 0.5em;}#sk-5f804bc2-6270-4e80-b785-1e90124eeccf div.sk-estimator:hover {background-color: #d4ebff;}#sk-5f804bc2-6270-4e80-b785-1e90124eeccf div.sk-parallel-item::after {content: \"\";width: 100%;border-bottom: 1px solid gray;flex-grow: 1;}#sk-5f804bc2-6270-4e80-b785-1e90124eeccf div.sk-label:hover label.sk-toggleable__label {background-color: #d4ebff;}#sk-5f804bc2-6270-4e80-b785-1e90124eeccf div.sk-serial::before {content: \"\";position: absolute;border-left: 1px solid gray;box-sizing: border-box;top: 2em;bottom: 0;left: 50%;}#sk-5f804bc2-6270-4e80-b785-1e90124eeccf div.sk-serial {display: flex;flex-direction: column;align-items: center;background-color: white;padding-right: 0.2em;padding-left: 0.2em;}#sk-5f804bc2-6270-4e80-b785-1e90124eeccf div.sk-item {z-index: 1;}#sk-5f804bc2-6270-4e80-b785-1e90124eeccf div.sk-parallel {display: flex;align-items: stretch;justify-content: center;background-color: white;}#sk-5f804bc2-6270-4e80-b785-1e90124eeccf div.sk-parallel::before {content: \"\";position: absolute;border-left: 1px solid gray;box-sizing: border-box;top: 2em;bottom: 0;left: 50%;}#sk-5f804bc2-6270-4e80-b785-1e90124eeccf div.sk-parallel-item {display: flex;flex-direction: column;position: relative;background-color: white;}#sk-5f804bc2-6270-4e80-b785-1e90124eeccf div.sk-parallel-item:first-child::after {align-self: flex-end;width: 50%;}#sk-5f804bc2-6270-4e80-b785-1e90124eeccf div.sk-parallel-item:last-child::after {align-self: flex-start;width: 50%;}#sk-5f804bc2-6270-4e80-b785-1e90124eeccf div.sk-parallel-item:only-child::after {width: 0;}#sk-5f804bc2-6270-4e80-b785-1e90124eeccf div.sk-dashed-wrapped {border: 1px dashed gray;margin: 0 0.4em 0.5em 0.4em;box-sizing: border-box;padding-bottom: 0.4em;background-color: white;position: relative;}#sk-5f804bc2-6270-4e80-b785-1e90124eeccf div.sk-label label {font-family: monospace;font-weight: bold;background-color: white;display: inline-block;line-height: 1.2em;}#sk-5f804bc2-6270-4e80-b785-1e90124eeccf div.sk-label-container {position: relative;z-index: 2;text-align: center;}#sk-5f804bc2-6270-4e80-b785-1e90124eeccf div.sk-container {/* jupyter's `normalize.less` sets `[hidden] { display: none; }` but bootstrap.min.css set `[hidden] { display: none !important; }` so we also need the `!important` here to be able to override the default hidden behavior on the sphinx rendered scikit-learn.org. See: https://github.com/scikit-learn/scikit-learn/issues/21755 */display: inline-block !important;position: relative;}#sk-5f804bc2-6270-4e80-b785-1e90124eeccf div.sk-text-repr-fallback {display: none;}</style><div id=\"sk-5f804bc2-6270-4e80-b785-1e90124eeccf\" class=\"sk-top-container\"><div class=\"sk-text-repr-fallback\"><pre>Pipeline(steps=[(&#x27;columntransformer-1&#x27;,\n",
       "                 ColumnTransformer(remainder=&#x27;passthrough&#x27;,\n",
       "                                   transformers=[(&#x27;impute_item_weight&#x27;,\n",
       "                                                  SimpleImputer(), [0]),\n",
       "                                                 (&#x27;impute_outlet_size&#x27;,\n",
       "                                                  SimpleImputer(strategy=&#x27;most_frequent&#x27;),\n",
       "                                                  [4])])),\n",
       "                (&#x27;columntransformer-2&#x27;,\n",
       "                 ColumnTransformer(remainder=&#x27;passthrough&#x27;,\n",
       "                                   transformers=[(&#x27;item_fat_content_ordinal&#x27;,\n",
       "                                                  OrdinalEncoder(categories=[[&#x27;Low &#x27;\n",
       "                                                                              &#x27;F...\n",
       "                                                 (&#x27;outlet_location_type&#x27;,\n",
       "                                                  OrdinalEncoder(categories=[[&#x27;Tier &#x27;\n",
       "                                                                              &#x27;1&#x27;,\n",
       "                                                                              &#x27;Tier &#x27;\n",
       "                                                                              &#x27;2&#x27;,\n",
       "                                                                              &#x27;Tier &#x27;\n",
       "                                                                              &#x27;3&#x27;]]),\n",
       "                                                  [5]),\n",
       "                                                 (&#x27;outlet_Type&#x27;,\n",
       "                                                  OrdinalEncoder(categories=[[&#x27;Grocery &#x27;\n",
       "                                                                              &#x27;Store&#x27;,\n",
       "                                                                              &#x27;Supermarket &#x27;\n",
       "                                                                              &#x27;Type1&#x27;,\n",
       "                                                                              &#x27;Supermarket &#x27;\n",
       "                                                                              &#x27;Type2&#x27;,\n",
       "                                                                              &#x27;Supermarket &#x27;\n",
       "                                                                              &#x27;Type3&#x27;]]),\n",
       "                                                  [6])])),\n",
       "                (&#x27;columntransformer-3&#x27;,\n",
       "                 ColumnTransformer(transformers=[(&#x27;scale&#x27;, StandardScaler(),\n",
       "                                                  slice(0, 8, None))])),\n",
       "                (&#x27;linearregression&#x27;, LinearRegression())])</pre><b>Please rerun this cell to show the HTML repr or trust the notebook.</b></div><div class=\"sk-container\" hidden><div class=\"sk-item sk-dashed-wrapped\"><div class=\"sk-label-container\"><div class=\"sk-label sk-toggleable\"><input class=\"sk-toggleable__control sk-hidden--visually\" id=\"d5845873-8840-47f9-8cb9-8343844a924a\" type=\"checkbox\" ><label for=\"d5845873-8840-47f9-8cb9-8343844a924a\" class=\"sk-toggleable__label sk-toggleable__label-arrow\">Pipeline</label><div class=\"sk-toggleable__content\"><pre>Pipeline(steps=[(&#x27;columntransformer-1&#x27;,\n",
       "                 ColumnTransformer(remainder=&#x27;passthrough&#x27;,\n",
       "                                   transformers=[(&#x27;impute_item_weight&#x27;,\n",
       "                                                  SimpleImputer(), [0]),\n",
       "                                                 (&#x27;impute_outlet_size&#x27;,\n",
       "                                                  SimpleImputer(strategy=&#x27;most_frequent&#x27;),\n",
       "                                                  [4])])),\n",
       "                (&#x27;columntransformer-2&#x27;,\n",
       "                 ColumnTransformer(remainder=&#x27;passthrough&#x27;,\n",
       "                                   transformers=[(&#x27;item_fat_content_ordinal&#x27;,\n",
       "                                                  OrdinalEncoder(categories=[[&#x27;Low &#x27;\n",
       "                                                                              &#x27;F...\n",
       "                                                 (&#x27;outlet_location_type&#x27;,\n",
       "                                                  OrdinalEncoder(categories=[[&#x27;Tier &#x27;\n",
       "                                                                              &#x27;1&#x27;,\n",
       "                                                                              &#x27;Tier &#x27;\n",
       "                                                                              &#x27;2&#x27;,\n",
       "                                                                              &#x27;Tier &#x27;\n",
       "                                                                              &#x27;3&#x27;]]),\n",
       "                                                  [5]),\n",
       "                                                 (&#x27;outlet_Type&#x27;,\n",
       "                                                  OrdinalEncoder(categories=[[&#x27;Grocery &#x27;\n",
       "                                                                              &#x27;Store&#x27;,\n",
       "                                                                              &#x27;Supermarket &#x27;\n",
       "                                                                              &#x27;Type1&#x27;,\n",
       "                                                                              &#x27;Supermarket &#x27;\n",
       "                                                                              &#x27;Type2&#x27;,\n",
       "                                                                              &#x27;Supermarket &#x27;\n",
       "                                                                              &#x27;Type3&#x27;]]),\n",
       "                                                  [6])])),\n",
       "                (&#x27;columntransformer-3&#x27;,\n",
       "                 ColumnTransformer(transformers=[(&#x27;scale&#x27;, StandardScaler(),\n",
       "                                                  slice(0, 8, None))])),\n",
       "                (&#x27;linearregression&#x27;, LinearRegression())])</pre></div></div></div><div class=\"sk-serial\"><div class=\"sk-item sk-dashed-wrapped\"><div class=\"sk-label-container\"><div class=\"sk-label sk-toggleable\"><input class=\"sk-toggleable__control sk-hidden--visually\" id=\"6bfac0f8-134e-453c-9be7-2db9ebcb2e33\" type=\"checkbox\" ><label for=\"6bfac0f8-134e-453c-9be7-2db9ebcb2e33\" class=\"sk-toggleable__label sk-toggleable__label-arrow\">columntransformer-1: ColumnTransformer</label><div class=\"sk-toggleable__content\"><pre>ColumnTransformer(remainder=&#x27;passthrough&#x27;,\n",
       "                  transformers=[(&#x27;impute_item_weight&#x27;, SimpleImputer(), [0]),\n",
       "                                (&#x27;impute_outlet_size&#x27;,\n",
       "                                 SimpleImputer(strategy=&#x27;most_frequent&#x27;),\n",
       "                                 [4])])</pre></div></div></div><div class=\"sk-parallel\"><div class=\"sk-parallel-item\"><div class=\"sk-item\"><div class=\"sk-label-container\"><div class=\"sk-label sk-toggleable\"><input class=\"sk-toggleable__control sk-hidden--visually\" id=\"ba328a39-bd8b-4ff8-ab9d-66552576309e\" type=\"checkbox\" ><label for=\"ba328a39-bd8b-4ff8-ab9d-66552576309e\" class=\"sk-toggleable__label sk-toggleable__label-arrow\">impute_item_weight</label><div class=\"sk-toggleable__content\"><pre>[0]</pre></div></div></div><div class=\"sk-serial\"><div class=\"sk-item\"><div class=\"sk-estimator sk-toggleable\"><input class=\"sk-toggleable__control sk-hidden--visually\" id=\"d770dd3b-1142-4a4e-9bb5-9885c641cf8a\" type=\"checkbox\" ><label for=\"d770dd3b-1142-4a4e-9bb5-9885c641cf8a\" class=\"sk-toggleable__label sk-toggleable__label-arrow\">SimpleImputer</label><div class=\"sk-toggleable__content\"><pre>SimpleImputer()</pre></div></div></div></div></div></div><div class=\"sk-parallel-item\"><div class=\"sk-item\"><div class=\"sk-label-container\"><div class=\"sk-label sk-toggleable\"><input class=\"sk-toggleable__control sk-hidden--visually\" id=\"e3b12506-225e-4d4f-b2bd-58228afc490a\" type=\"checkbox\" ><label for=\"e3b12506-225e-4d4f-b2bd-58228afc490a\" class=\"sk-toggleable__label sk-toggleable__label-arrow\">impute_outlet_size</label><div class=\"sk-toggleable__content\"><pre>[4]</pre></div></div></div><div class=\"sk-serial\"><div class=\"sk-item\"><div class=\"sk-estimator sk-toggleable\"><input class=\"sk-toggleable__control sk-hidden--visually\" id=\"30b129df-9da5-4aab-aede-87b46574f50d\" type=\"checkbox\" ><label for=\"30b129df-9da5-4aab-aede-87b46574f50d\" class=\"sk-toggleable__label sk-toggleable__label-arrow\">SimpleImputer</label><div class=\"sk-toggleable__content\"><pre>SimpleImputer(strategy=&#x27;most_frequent&#x27;)</pre></div></div></div></div></div></div><div class=\"sk-parallel-item\"><div class=\"sk-item\"><div class=\"sk-label-container\"><div class=\"sk-label sk-toggleable\"><input class=\"sk-toggleable__control sk-hidden--visually\" id=\"8c4d65e1-f744-4a50-85e8-2a8d912e67ee\" type=\"checkbox\" ><label for=\"8c4d65e1-f744-4a50-85e8-2a8d912e67ee\" class=\"sk-toggleable__label sk-toggleable__label-arrow\">remainder</label><div class=\"sk-toggleable__content\"><pre>[1, 2, 3, 5, 6]</pre></div></div></div><div class=\"sk-serial\"><div class=\"sk-item\"><div class=\"sk-estimator sk-toggleable\"><input class=\"sk-toggleable__control sk-hidden--visually\" id=\"0e24426b-766e-46ee-beff-27e3266d72b4\" type=\"checkbox\" ><label for=\"0e24426b-766e-46ee-beff-27e3266d72b4\" class=\"sk-toggleable__label sk-toggleable__label-arrow\">passthrough</label><div class=\"sk-toggleable__content\"><pre>passthrough</pre></div></div></div></div></div></div></div></div><div class=\"sk-item sk-dashed-wrapped\"><div class=\"sk-label-container\"><div class=\"sk-label sk-toggleable\"><input class=\"sk-toggleable__control sk-hidden--visually\" id=\"5f4229ec-79f6-4454-a489-5e6baf892216\" type=\"checkbox\" ><label for=\"5f4229ec-79f6-4454-a489-5e6baf892216\" class=\"sk-toggleable__label sk-toggleable__label-arrow\">columntransformer-2: ColumnTransformer</label><div class=\"sk-toggleable__content\"><pre>ColumnTransformer(remainder=&#x27;passthrough&#x27;,\n",
       "                  transformers=[(&#x27;item_fat_content_ordinal&#x27;,\n",
       "                                 OrdinalEncoder(categories=[[&#x27;Low Fat&#x27;,\n",
       "                                                             &#x27;Regular&#x27;]]),\n",
       "                                 [2]),\n",
       "                                (&#x27;outlet_size&#x27;,\n",
       "                                 OrdinalEncoder(categories=[[&#x27;Small&#x27;, &#x27;Medium&#x27;,\n",
       "                                                             &#x27;High&#x27;]]),\n",
       "                                 [1]),\n",
       "                                (&#x27;outlet_location_type&#x27;,\n",
       "                                 OrdinalEncoder(categories=[[&#x27;Tier 1&#x27;, &#x27;Tier 2&#x27;,\n",
       "                                                             &#x27;Tier 3&#x27;]]),\n",
       "                                 [5]),\n",
       "                                (&#x27;outlet_Type&#x27;,\n",
       "                                 OrdinalEncoder(categories=[[&#x27;Grocery Store&#x27;,\n",
       "                                                             &#x27;Supermarket &#x27;\n",
       "                                                             &#x27;Type1&#x27;,\n",
       "                                                             &#x27;Supermarket &#x27;\n",
       "                                                             &#x27;Type2&#x27;,\n",
       "                                                             &#x27;Supermarket &#x27;\n",
       "                                                             &#x27;Type3&#x27;]]),\n",
       "                                 [6])])</pre></div></div></div><div class=\"sk-parallel\"><div class=\"sk-parallel-item\"><div class=\"sk-item\"><div class=\"sk-label-container\"><div class=\"sk-label sk-toggleable\"><input class=\"sk-toggleable__control sk-hidden--visually\" id=\"7651650c-b637-44aa-92b2-41bd15d3f36a\" type=\"checkbox\" ><label for=\"7651650c-b637-44aa-92b2-41bd15d3f36a\" class=\"sk-toggleable__label sk-toggleable__label-arrow\">item_fat_content_ordinal</label><div class=\"sk-toggleable__content\"><pre>[2]</pre></div></div></div><div class=\"sk-serial\"><div class=\"sk-item\"><div class=\"sk-estimator sk-toggleable\"><input class=\"sk-toggleable__control sk-hidden--visually\" id=\"e292f47e-9209-43d0-b193-01deafcfb99d\" type=\"checkbox\" ><label for=\"e292f47e-9209-43d0-b193-01deafcfb99d\" class=\"sk-toggleable__label sk-toggleable__label-arrow\">OrdinalEncoder</label><div class=\"sk-toggleable__content\"><pre>OrdinalEncoder(categories=[[&#x27;Low Fat&#x27;, &#x27;Regular&#x27;]])</pre></div></div></div></div></div></div><div class=\"sk-parallel-item\"><div class=\"sk-item\"><div class=\"sk-label-container\"><div class=\"sk-label sk-toggleable\"><input class=\"sk-toggleable__control sk-hidden--visually\" id=\"e56b81cf-53d8-4c12-ba5f-95b48f05ee3c\" type=\"checkbox\" ><label for=\"e56b81cf-53d8-4c12-ba5f-95b48f05ee3c\" class=\"sk-toggleable__label sk-toggleable__label-arrow\">outlet_size</label><div class=\"sk-toggleable__content\"><pre>[1]</pre></div></div></div><div class=\"sk-serial\"><div class=\"sk-item\"><div class=\"sk-estimator sk-toggleable\"><input class=\"sk-toggleable__control sk-hidden--visually\" id=\"4f0c9ae3-b163-4be2-8e85-6becdbc6cffa\" type=\"checkbox\" ><label for=\"4f0c9ae3-b163-4be2-8e85-6becdbc6cffa\" class=\"sk-toggleable__label sk-toggleable__label-arrow\">OrdinalEncoder</label><div class=\"sk-toggleable__content\"><pre>OrdinalEncoder(categories=[[&#x27;Small&#x27;, &#x27;Medium&#x27;, &#x27;High&#x27;]])</pre></div></div></div></div></div></div><div class=\"sk-parallel-item\"><div class=\"sk-item\"><div class=\"sk-label-container\"><div class=\"sk-label sk-toggleable\"><input class=\"sk-toggleable__control sk-hidden--visually\" id=\"43ef3136-cc9e-4129-8523-51ea2a4fd010\" type=\"checkbox\" ><label for=\"43ef3136-cc9e-4129-8523-51ea2a4fd010\" class=\"sk-toggleable__label sk-toggleable__label-arrow\">outlet_location_type</label><div class=\"sk-toggleable__content\"><pre>[5]</pre></div></div></div><div class=\"sk-serial\"><div class=\"sk-item\"><div class=\"sk-estimator sk-toggleable\"><input class=\"sk-toggleable__control sk-hidden--visually\" id=\"1a33563e-89db-43d7-9626-70196bcc065a\" type=\"checkbox\" ><label for=\"1a33563e-89db-43d7-9626-70196bcc065a\" class=\"sk-toggleable__label sk-toggleable__label-arrow\">OrdinalEncoder</label><div class=\"sk-toggleable__content\"><pre>OrdinalEncoder(categories=[[&#x27;Tier 1&#x27;, &#x27;Tier 2&#x27;, &#x27;Tier 3&#x27;]])</pre></div></div></div></div></div></div><div class=\"sk-parallel-item\"><div class=\"sk-item\"><div class=\"sk-label-container\"><div class=\"sk-label sk-toggleable\"><input class=\"sk-toggleable__control sk-hidden--visually\" id=\"62c16e9d-b55a-4a0a-9f26-02cd41bdb805\" type=\"checkbox\" ><label for=\"62c16e9d-b55a-4a0a-9f26-02cd41bdb805\" class=\"sk-toggleable__label sk-toggleable__label-arrow\">outlet_Type</label><div class=\"sk-toggleable__content\"><pre>[6]</pre></div></div></div><div class=\"sk-serial\"><div class=\"sk-item\"><div class=\"sk-estimator sk-toggleable\"><input class=\"sk-toggleable__control sk-hidden--visually\" id=\"6393b7cb-675a-4d3d-8b3f-afabb2f2f47a\" type=\"checkbox\" ><label for=\"6393b7cb-675a-4d3d-8b3f-afabb2f2f47a\" class=\"sk-toggleable__label sk-toggleable__label-arrow\">OrdinalEncoder</label><div class=\"sk-toggleable__content\"><pre>OrdinalEncoder(categories=[[&#x27;Grocery Store&#x27;, &#x27;Supermarket Type1&#x27;,\n",
       "                            &#x27;Supermarket Type2&#x27;, &#x27;Supermarket Type3&#x27;]])</pre></div></div></div></div></div></div><div class=\"sk-parallel-item\"><div class=\"sk-item\"><div class=\"sk-label-container\"><div class=\"sk-label sk-toggleable\"><input class=\"sk-toggleable__control sk-hidden--visually\" id=\"ee054ce0-b8d7-4b9a-b07f-a474050f7471\" type=\"checkbox\" ><label for=\"ee054ce0-b8d7-4b9a-b07f-a474050f7471\" class=\"sk-toggleable__label sk-toggleable__label-arrow\">remainder</label><div class=\"sk-toggleable__content\"><pre>[0, 3, 4]</pre></div></div></div><div class=\"sk-serial\"><div class=\"sk-item\"><div class=\"sk-estimator sk-toggleable\"><input class=\"sk-toggleable__control sk-hidden--visually\" id=\"0f3924a7-f4fd-42d5-8ce5-9a15e0e762a6\" type=\"checkbox\" ><label for=\"0f3924a7-f4fd-42d5-8ce5-9a15e0e762a6\" class=\"sk-toggleable__label sk-toggleable__label-arrow\">passthrough</label><div class=\"sk-toggleable__content\"><pre>passthrough</pre></div></div></div></div></div></div></div></div><div class=\"sk-item sk-dashed-wrapped\"><div class=\"sk-label-container\"><div class=\"sk-label sk-toggleable\"><input class=\"sk-toggleable__control sk-hidden--visually\" id=\"3fe6d504-98cd-47fa-a9b5-200af83ba9db\" type=\"checkbox\" ><label for=\"3fe6d504-98cd-47fa-a9b5-200af83ba9db\" class=\"sk-toggleable__label sk-toggleable__label-arrow\">columntransformer-3: ColumnTransformer</label><div class=\"sk-toggleable__content\"><pre>ColumnTransformer(transformers=[(&#x27;scale&#x27;, StandardScaler(), slice(0, 8, None))])</pre></div></div></div><div class=\"sk-parallel\"><div class=\"sk-parallel-item\"><div class=\"sk-item\"><div class=\"sk-label-container\"><div class=\"sk-label sk-toggleable\"><input class=\"sk-toggleable__control sk-hidden--visually\" id=\"916e285c-da67-4485-b6c1-6456c65b1b7f\" type=\"checkbox\" ><label for=\"916e285c-da67-4485-b6c1-6456c65b1b7f\" class=\"sk-toggleable__label sk-toggleable__label-arrow\">scale</label><div class=\"sk-toggleable__content\"><pre>slice(0, 8, None)</pre></div></div></div><div class=\"sk-serial\"><div class=\"sk-item\"><div class=\"sk-estimator sk-toggleable\"><input class=\"sk-toggleable__control sk-hidden--visually\" id=\"edfa5f75-f9c2-43ae-ab91-319f788aaa41\" type=\"checkbox\" ><label for=\"edfa5f75-f9c2-43ae-ab91-319f788aaa41\" class=\"sk-toggleable__label sk-toggleable__label-arrow\">StandardScaler</label><div class=\"sk-toggleable__content\"><pre>StandardScaler()</pre></div></div></div></div></div></div></div></div><div class=\"sk-item\"><div class=\"sk-estimator sk-toggleable\"><input class=\"sk-toggleable__control sk-hidden--visually\" id=\"4bfaa2ad-53cc-4d66-8360-943aca3cb6c3\" type=\"checkbox\" ><label for=\"4bfaa2ad-53cc-4d66-8360-943aca3cb6c3\" class=\"sk-toggleable__label sk-toggleable__label-arrow\">LinearRegression</label><div class=\"sk-toggleable__content\"><pre>LinearRegression()</pre></div></div></div></div></div></div></div>"
      ],
      "text/plain": [
       "Pipeline(steps=[('columntransformer-1',\n",
       "                 ColumnTransformer(remainder='passthrough',\n",
       "                                   transformers=[('impute_item_weight',\n",
       "                                                  SimpleImputer(), [0]),\n",
       "                                                 ('impute_outlet_size',\n",
       "                                                  SimpleImputer(strategy='most_frequent'),\n",
       "                                                  [4])])),\n",
       "                ('columntransformer-2',\n",
       "                 ColumnTransformer(remainder='passthrough',\n",
       "                                   transformers=[('item_fat_content_ordinal',\n",
       "                                                  OrdinalEncoder(categories=[['Low '\n",
       "                                                                              'F...\n",
       "                                                 ('outlet_location_type',\n",
       "                                                  OrdinalEncoder(categories=[['Tier '\n",
       "                                                                              '1',\n",
       "                                                                              'Tier '\n",
       "                                                                              '2',\n",
       "                                                                              'Tier '\n",
       "                                                                              '3']]),\n",
       "                                                  [5]),\n",
       "                                                 ('outlet_Type',\n",
       "                                                  OrdinalEncoder(categories=[['Grocery '\n",
       "                                                                              'Store',\n",
       "                                                                              'Supermarket '\n",
       "                                                                              'Type1',\n",
       "                                                                              'Supermarket '\n",
       "                                                                              'Type2',\n",
       "                                                                              'Supermarket '\n",
       "                                                                              'Type3']]),\n",
       "                                                  [6])])),\n",
       "                ('columntransformer-3',\n",
       "                 ColumnTransformer(transformers=[('scale', StandardScaler(),\n",
       "                                                  slice(0, 8, None))])),\n",
       "                ('linearregression', LinearRegression())])"
      ]
     },
     "execution_count": 139,
     "metadata": {},
     "output_type": "execute_result"
    }
   ],
   "source": [
    "pipeline.fit(X_train ,y_train)  "
   ]
  },
  {
   "cell_type": "code",
   "execution_count": 140,
   "id": "cfb0a66b",
   "metadata": {},
   "outputs": [],
   "source": [
    "y_pred = pipeline.predict(X_test) "
   ]
  },
  {
   "cell_type": "code",
   "execution_count": 141,
   "id": "0f42b086",
   "metadata": {},
   "outputs": [
    {
     "data": {
      "text/plain": [
       "0.5105845447219609"
      ]
     },
     "execution_count": 141,
     "metadata": {},
     "output_type": "execute_result"
    }
   ],
   "source": [
    "linear_regression_r2_score = r2_score(y_test , y_pred) \n",
    "linear_regression_r2_score"
   ]
  },
  {
   "cell_type": "code",
   "execution_count": 142,
   "id": "f13b6f9b",
   "metadata": {},
   "outputs": [],
   "source": [
    "tranf5  = Ridge(alpha = 8) "
   ]
  },
  {
   "cell_type": "code",
   "execution_count": 143,
   "id": "4d7e473d",
   "metadata": {},
   "outputs": [],
   "source": [
    "pipeline = make_pipeline(tranf1 , tranf2 , tranf3 , tranf5) "
   ]
  },
  {
   "cell_type": "code",
   "execution_count": 144,
   "id": "ccae4a25",
   "metadata": {},
   "outputs": [
    {
     "data": {
      "text/html": [
       "<style>#sk-4316d045-5ed5-459c-9619-81cbe1191506 {color: black;background-color: white;}#sk-4316d045-5ed5-459c-9619-81cbe1191506 pre{padding: 0;}#sk-4316d045-5ed5-459c-9619-81cbe1191506 div.sk-toggleable {background-color: white;}#sk-4316d045-5ed5-459c-9619-81cbe1191506 label.sk-toggleable__label {cursor: pointer;display: block;width: 100%;margin-bottom: 0;padding: 0.3em;box-sizing: border-box;text-align: center;}#sk-4316d045-5ed5-459c-9619-81cbe1191506 label.sk-toggleable__label-arrow:before {content: \"▸\";float: left;margin-right: 0.25em;color: #696969;}#sk-4316d045-5ed5-459c-9619-81cbe1191506 label.sk-toggleable__label-arrow:hover:before {color: black;}#sk-4316d045-5ed5-459c-9619-81cbe1191506 div.sk-estimator:hover label.sk-toggleable__label-arrow:before {color: black;}#sk-4316d045-5ed5-459c-9619-81cbe1191506 div.sk-toggleable__content {max-height: 0;max-width: 0;overflow: hidden;text-align: left;background-color: #f0f8ff;}#sk-4316d045-5ed5-459c-9619-81cbe1191506 div.sk-toggleable__content pre {margin: 0.2em;color: black;border-radius: 0.25em;background-color: #f0f8ff;}#sk-4316d045-5ed5-459c-9619-81cbe1191506 input.sk-toggleable__control:checked~div.sk-toggleable__content {max-height: 200px;max-width: 100%;overflow: auto;}#sk-4316d045-5ed5-459c-9619-81cbe1191506 input.sk-toggleable__control:checked~label.sk-toggleable__label-arrow:before {content: \"▾\";}#sk-4316d045-5ed5-459c-9619-81cbe1191506 div.sk-estimator input.sk-toggleable__control:checked~label.sk-toggleable__label {background-color: #d4ebff;}#sk-4316d045-5ed5-459c-9619-81cbe1191506 div.sk-label input.sk-toggleable__control:checked~label.sk-toggleable__label {background-color: #d4ebff;}#sk-4316d045-5ed5-459c-9619-81cbe1191506 input.sk-hidden--visually {border: 0;clip: rect(1px 1px 1px 1px);clip: rect(1px, 1px, 1px, 1px);height: 1px;margin: -1px;overflow: hidden;padding: 0;position: absolute;width: 1px;}#sk-4316d045-5ed5-459c-9619-81cbe1191506 div.sk-estimator {font-family: monospace;background-color: #f0f8ff;border: 1px dotted black;border-radius: 0.25em;box-sizing: border-box;margin-bottom: 0.5em;}#sk-4316d045-5ed5-459c-9619-81cbe1191506 div.sk-estimator:hover {background-color: #d4ebff;}#sk-4316d045-5ed5-459c-9619-81cbe1191506 div.sk-parallel-item::after {content: \"\";width: 100%;border-bottom: 1px solid gray;flex-grow: 1;}#sk-4316d045-5ed5-459c-9619-81cbe1191506 div.sk-label:hover label.sk-toggleable__label {background-color: #d4ebff;}#sk-4316d045-5ed5-459c-9619-81cbe1191506 div.sk-serial::before {content: \"\";position: absolute;border-left: 1px solid gray;box-sizing: border-box;top: 2em;bottom: 0;left: 50%;}#sk-4316d045-5ed5-459c-9619-81cbe1191506 div.sk-serial {display: flex;flex-direction: column;align-items: center;background-color: white;padding-right: 0.2em;padding-left: 0.2em;}#sk-4316d045-5ed5-459c-9619-81cbe1191506 div.sk-item {z-index: 1;}#sk-4316d045-5ed5-459c-9619-81cbe1191506 div.sk-parallel {display: flex;align-items: stretch;justify-content: center;background-color: white;}#sk-4316d045-5ed5-459c-9619-81cbe1191506 div.sk-parallel::before {content: \"\";position: absolute;border-left: 1px solid gray;box-sizing: border-box;top: 2em;bottom: 0;left: 50%;}#sk-4316d045-5ed5-459c-9619-81cbe1191506 div.sk-parallel-item {display: flex;flex-direction: column;position: relative;background-color: white;}#sk-4316d045-5ed5-459c-9619-81cbe1191506 div.sk-parallel-item:first-child::after {align-self: flex-end;width: 50%;}#sk-4316d045-5ed5-459c-9619-81cbe1191506 div.sk-parallel-item:last-child::after {align-self: flex-start;width: 50%;}#sk-4316d045-5ed5-459c-9619-81cbe1191506 div.sk-parallel-item:only-child::after {width: 0;}#sk-4316d045-5ed5-459c-9619-81cbe1191506 div.sk-dashed-wrapped {border: 1px dashed gray;margin: 0 0.4em 0.5em 0.4em;box-sizing: border-box;padding-bottom: 0.4em;background-color: white;position: relative;}#sk-4316d045-5ed5-459c-9619-81cbe1191506 div.sk-label label {font-family: monospace;font-weight: bold;background-color: white;display: inline-block;line-height: 1.2em;}#sk-4316d045-5ed5-459c-9619-81cbe1191506 div.sk-label-container {position: relative;z-index: 2;text-align: center;}#sk-4316d045-5ed5-459c-9619-81cbe1191506 div.sk-container {/* jupyter's `normalize.less` sets `[hidden] { display: none; }` but bootstrap.min.css set `[hidden] { display: none !important; }` so we also need the `!important` here to be able to override the default hidden behavior on the sphinx rendered scikit-learn.org. See: https://github.com/scikit-learn/scikit-learn/issues/21755 */display: inline-block !important;position: relative;}#sk-4316d045-5ed5-459c-9619-81cbe1191506 div.sk-text-repr-fallback {display: none;}</style><div id=\"sk-4316d045-5ed5-459c-9619-81cbe1191506\" class=\"sk-top-container\"><div class=\"sk-text-repr-fallback\"><pre>Pipeline(steps=[(&#x27;columntransformer-1&#x27;,\n",
       "                 ColumnTransformer(remainder=&#x27;passthrough&#x27;,\n",
       "                                   transformers=[(&#x27;impute_item_weight&#x27;,\n",
       "                                                  SimpleImputer(), [0]),\n",
       "                                                 (&#x27;impute_outlet_size&#x27;,\n",
       "                                                  SimpleImputer(strategy=&#x27;most_frequent&#x27;),\n",
       "                                                  [4])])),\n",
       "                (&#x27;columntransformer-2&#x27;,\n",
       "                 ColumnTransformer(remainder=&#x27;passthrough&#x27;,\n",
       "                                   transformers=[(&#x27;item_fat_content_ordinal&#x27;,\n",
       "                                                  OrdinalEncoder(categories=[[&#x27;Low &#x27;\n",
       "                                                                              &#x27;F...\n",
       "                                                 (&#x27;outlet_location_type&#x27;,\n",
       "                                                  OrdinalEncoder(categories=[[&#x27;Tier &#x27;\n",
       "                                                                              &#x27;1&#x27;,\n",
       "                                                                              &#x27;Tier &#x27;\n",
       "                                                                              &#x27;2&#x27;,\n",
       "                                                                              &#x27;Tier &#x27;\n",
       "                                                                              &#x27;3&#x27;]]),\n",
       "                                                  [5]),\n",
       "                                                 (&#x27;outlet_Type&#x27;,\n",
       "                                                  OrdinalEncoder(categories=[[&#x27;Grocery &#x27;\n",
       "                                                                              &#x27;Store&#x27;,\n",
       "                                                                              &#x27;Supermarket &#x27;\n",
       "                                                                              &#x27;Type1&#x27;,\n",
       "                                                                              &#x27;Supermarket &#x27;\n",
       "                                                                              &#x27;Type2&#x27;,\n",
       "                                                                              &#x27;Supermarket &#x27;\n",
       "                                                                              &#x27;Type3&#x27;]]),\n",
       "                                                  [6])])),\n",
       "                (&#x27;columntransformer-3&#x27;,\n",
       "                 ColumnTransformer(transformers=[(&#x27;scale&#x27;, StandardScaler(),\n",
       "                                                  slice(0, 8, None))])),\n",
       "                (&#x27;ridge&#x27;, Ridge(alpha=8))])</pre><b>Please rerun this cell to show the HTML repr or trust the notebook.</b></div><div class=\"sk-container\" hidden><div class=\"sk-item sk-dashed-wrapped\"><div class=\"sk-label-container\"><div class=\"sk-label sk-toggleable\"><input class=\"sk-toggleable__control sk-hidden--visually\" id=\"15a5d716-c8f6-4c64-84df-3a82d370b9f3\" type=\"checkbox\" ><label for=\"15a5d716-c8f6-4c64-84df-3a82d370b9f3\" class=\"sk-toggleable__label sk-toggleable__label-arrow\">Pipeline</label><div class=\"sk-toggleable__content\"><pre>Pipeline(steps=[(&#x27;columntransformer-1&#x27;,\n",
       "                 ColumnTransformer(remainder=&#x27;passthrough&#x27;,\n",
       "                                   transformers=[(&#x27;impute_item_weight&#x27;,\n",
       "                                                  SimpleImputer(), [0]),\n",
       "                                                 (&#x27;impute_outlet_size&#x27;,\n",
       "                                                  SimpleImputer(strategy=&#x27;most_frequent&#x27;),\n",
       "                                                  [4])])),\n",
       "                (&#x27;columntransformer-2&#x27;,\n",
       "                 ColumnTransformer(remainder=&#x27;passthrough&#x27;,\n",
       "                                   transformers=[(&#x27;item_fat_content_ordinal&#x27;,\n",
       "                                                  OrdinalEncoder(categories=[[&#x27;Low &#x27;\n",
       "                                                                              &#x27;F...\n",
       "                                                 (&#x27;outlet_location_type&#x27;,\n",
       "                                                  OrdinalEncoder(categories=[[&#x27;Tier &#x27;\n",
       "                                                                              &#x27;1&#x27;,\n",
       "                                                                              &#x27;Tier &#x27;\n",
       "                                                                              &#x27;2&#x27;,\n",
       "                                                                              &#x27;Tier &#x27;\n",
       "                                                                              &#x27;3&#x27;]]),\n",
       "                                                  [5]),\n",
       "                                                 (&#x27;outlet_Type&#x27;,\n",
       "                                                  OrdinalEncoder(categories=[[&#x27;Grocery &#x27;\n",
       "                                                                              &#x27;Store&#x27;,\n",
       "                                                                              &#x27;Supermarket &#x27;\n",
       "                                                                              &#x27;Type1&#x27;,\n",
       "                                                                              &#x27;Supermarket &#x27;\n",
       "                                                                              &#x27;Type2&#x27;,\n",
       "                                                                              &#x27;Supermarket &#x27;\n",
       "                                                                              &#x27;Type3&#x27;]]),\n",
       "                                                  [6])])),\n",
       "                (&#x27;columntransformer-3&#x27;,\n",
       "                 ColumnTransformer(transformers=[(&#x27;scale&#x27;, StandardScaler(),\n",
       "                                                  slice(0, 8, None))])),\n",
       "                (&#x27;ridge&#x27;, Ridge(alpha=8))])</pre></div></div></div><div class=\"sk-serial\"><div class=\"sk-item sk-dashed-wrapped\"><div class=\"sk-label-container\"><div class=\"sk-label sk-toggleable\"><input class=\"sk-toggleable__control sk-hidden--visually\" id=\"ca62a2bd-bcd9-4d0c-8360-494ea09f49b7\" type=\"checkbox\" ><label for=\"ca62a2bd-bcd9-4d0c-8360-494ea09f49b7\" class=\"sk-toggleable__label sk-toggleable__label-arrow\">columntransformer-1: ColumnTransformer</label><div class=\"sk-toggleable__content\"><pre>ColumnTransformer(remainder=&#x27;passthrough&#x27;,\n",
       "                  transformers=[(&#x27;impute_item_weight&#x27;, SimpleImputer(), [0]),\n",
       "                                (&#x27;impute_outlet_size&#x27;,\n",
       "                                 SimpleImputer(strategy=&#x27;most_frequent&#x27;),\n",
       "                                 [4])])</pre></div></div></div><div class=\"sk-parallel\"><div class=\"sk-parallel-item\"><div class=\"sk-item\"><div class=\"sk-label-container\"><div class=\"sk-label sk-toggleable\"><input class=\"sk-toggleable__control sk-hidden--visually\" id=\"cb12c982-a4b5-4a3b-a6ea-d6605ee2e135\" type=\"checkbox\" ><label for=\"cb12c982-a4b5-4a3b-a6ea-d6605ee2e135\" class=\"sk-toggleable__label sk-toggleable__label-arrow\">impute_item_weight</label><div class=\"sk-toggleable__content\"><pre>[0]</pre></div></div></div><div class=\"sk-serial\"><div class=\"sk-item\"><div class=\"sk-estimator sk-toggleable\"><input class=\"sk-toggleable__control sk-hidden--visually\" id=\"cd0ffa70-1274-40b8-ab8c-cb40f3ccfe72\" type=\"checkbox\" ><label for=\"cd0ffa70-1274-40b8-ab8c-cb40f3ccfe72\" class=\"sk-toggleable__label sk-toggleable__label-arrow\">SimpleImputer</label><div class=\"sk-toggleable__content\"><pre>SimpleImputer()</pre></div></div></div></div></div></div><div class=\"sk-parallel-item\"><div class=\"sk-item\"><div class=\"sk-label-container\"><div class=\"sk-label sk-toggleable\"><input class=\"sk-toggleable__control sk-hidden--visually\" id=\"7468fad4-a8e9-4ad1-9fda-df4799b85314\" type=\"checkbox\" ><label for=\"7468fad4-a8e9-4ad1-9fda-df4799b85314\" class=\"sk-toggleable__label sk-toggleable__label-arrow\">impute_outlet_size</label><div class=\"sk-toggleable__content\"><pre>[4]</pre></div></div></div><div class=\"sk-serial\"><div class=\"sk-item\"><div class=\"sk-estimator sk-toggleable\"><input class=\"sk-toggleable__control sk-hidden--visually\" id=\"1fe8f48a-54c6-4755-8821-d950c4736916\" type=\"checkbox\" ><label for=\"1fe8f48a-54c6-4755-8821-d950c4736916\" class=\"sk-toggleable__label sk-toggleable__label-arrow\">SimpleImputer</label><div class=\"sk-toggleable__content\"><pre>SimpleImputer(strategy=&#x27;most_frequent&#x27;)</pre></div></div></div></div></div></div><div class=\"sk-parallel-item\"><div class=\"sk-item\"><div class=\"sk-label-container\"><div class=\"sk-label sk-toggleable\"><input class=\"sk-toggleable__control sk-hidden--visually\" id=\"bcbce48b-495d-4ad1-8383-bcaf576e16cf\" type=\"checkbox\" ><label for=\"bcbce48b-495d-4ad1-8383-bcaf576e16cf\" class=\"sk-toggleable__label sk-toggleable__label-arrow\">remainder</label><div class=\"sk-toggleable__content\"><pre>[1, 2, 3, 5, 6]</pre></div></div></div><div class=\"sk-serial\"><div class=\"sk-item\"><div class=\"sk-estimator sk-toggleable\"><input class=\"sk-toggleable__control sk-hidden--visually\" id=\"4dab25a4-6acb-4c1b-9240-df2ad2c06089\" type=\"checkbox\" ><label for=\"4dab25a4-6acb-4c1b-9240-df2ad2c06089\" class=\"sk-toggleable__label sk-toggleable__label-arrow\">passthrough</label><div class=\"sk-toggleable__content\"><pre>passthrough</pre></div></div></div></div></div></div></div></div><div class=\"sk-item sk-dashed-wrapped\"><div class=\"sk-label-container\"><div class=\"sk-label sk-toggleable\"><input class=\"sk-toggleable__control sk-hidden--visually\" id=\"a9237970-9555-4580-96b3-147fd9041a4b\" type=\"checkbox\" ><label for=\"a9237970-9555-4580-96b3-147fd9041a4b\" class=\"sk-toggleable__label sk-toggleable__label-arrow\">columntransformer-2: ColumnTransformer</label><div class=\"sk-toggleable__content\"><pre>ColumnTransformer(remainder=&#x27;passthrough&#x27;,\n",
       "                  transformers=[(&#x27;item_fat_content_ordinal&#x27;,\n",
       "                                 OrdinalEncoder(categories=[[&#x27;Low Fat&#x27;,\n",
       "                                                             &#x27;Regular&#x27;]]),\n",
       "                                 [2]),\n",
       "                                (&#x27;outlet_size&#x27;,\n",
       "                                 OrdinalEncoder(categories=[[&#x27;Small&#x27;, &#x27;Medium&#x27;,\n",
       "                                                             &#x27;High&#x27;]]),\n",
       "                                 [1]),\n",
       "                                (&#x27;outlet_location_type&#x27;,\n",
       "                                 OrdinalEncoder(categories=[[&#x27;Tier 1&#x27;, &#x27;Tier 2&#x27;,\n",
       "                                                             &#x27;Tier 3&#x27;]]),\n",
       "                                 [5]),\n",
       "                                (&#x27;outlet_Type&#x27;,\n",
       "                                 OrdinalEncoder(categories=[[&#x27;Grocery Store&#x27;,\n",
       "                                                             &#x27;Supermarket &#x27;\n",
       "                                                             &#x27;Type1&#x27;,\n",
       "                                                             &#x27;Supermarket &#x27;\n",
       "                                                             &#x27;Type2&#x27;,\n",
       "                                                             &#x27;Supermarket &#x27;\n",
       "                                                             &#x27;Type3&#x27;]]),\n",
       "                                 [6])])</pre></div></div></div><div class=\"sk-parallel\"><div class=\"sk-parallel-item\"><div class=\"sk-item\"><div class=\"sk-label-container\"><div class=\"sk-label sk-toggleable\"><input class=\"sk-toggleable__control sk-hidden--visually\" id=\"dcab93a6-c0d1-4627-b86b-78a943f61d9f\" type=\"checkbox\" ><label for=\"dcab93a6-c0d1-4627-b86b-78a943f61d9f\" class=\"sk-toggleable__label sk-toggleable__label-arrow\">item_fat_content_ordinal</label><div class=\"sk-toggleable__content\"><pre>[2]</pre></div></div></div><div class=\"sk-serial\"><div class=\"sk-item\"><div class=\"sk-estimator sk-toggleable\"><input class=\"sk-toggleable__control sk-hidden--visually\" id=\"1b394c3e-926b-4d70-96c2-57438e099a4f\" type=\"checkbox\" ><label for=\"1b394c3e-926b-4d70-96c2-57438e099a4f\" class=\"sk-toggleable__label sk-toggleable__label-arrow\">OrdinalEncoder</label><div class=\"sk-toggleable__content\"><pre>OrdinalEncoder(categories=[[&#x27;Low Fat&#x27;, &#x27;Regular&#x27;]])</pre></div></div></div></div></div></div><div class=\"sk-parallel-item\"><div class=\"sk-item\"><div class=\"sk-label-container\"><div class=\"sk-label sk-toggleable\"><input class=\"sk-toggleable__control sk-hidden--visually\" id=\"0c0efed2-05da-46f9-9e84-48cc8dc10d3b\" type=\"checkbox\" ><label for=\"0c0efed2-05da-46f9-9e84-48cc8dc10d3b\" class=\"sk-toggleable__label sk-toggleable__label-arrow\">outlet_size</label><div class=\"sk-toggleable__content\"><pre>[1]</pre></div></div></div><div class=\"sk-serial\"><div class=\"sk-item\"><div class=\"sk-estimator sk-toggleable\"><input class=\"sk-toggleable__control sk-hidden--visually\" id=\"586f3483-53e4-4f1f-ae79-cc6423fa2d18\" type=\"checkbox\" ><label for=\"586f3483-53e4-4f1f-ae79-cc6423fa2d18\" class=\"sk-toggleable__label sk-toggleable__label-arrow\">OrdinalEncoder</label><div class=\"sk-toggleable__content\"><pre>OrdinalEncoder(categories=[[&#x27;Small&#x27;, &#x27;Medium&#x27;, &#x27;High&#x27;]])</pre></div></div></div></div></div></div><div class=\"sk-parallel-item\"><div class=\"sk-item\"><div class=\"sk-label-container\"><div class=\"sk-label sk-toggleable\"><input class=\"sk-toggleable__control sk-hidden--visually\" id=\"8ec818c3-722d-4ef2-bfeb-c99ac5b698ae\" type=\"checkbox\" ><label for=\"8ec818c3-722d-4ef2-bfeb-c99ac5b698ae\" class=\"sk-toggleable__label sk-toggleable__label-arrow\">outlet_location_type</label><div class=\"sk-toggleable__content\"><pre>[5]</pre></div></div></div><div class=\"sk-serial\"><div class=\"sk-item\"><div class=\"sk-estimator sk-toggleable\"><input class=\"sk-toggleable__control sk-hidden--visually\" id=\"660a8b14-0380-4dc7-aa3b-8e2b3207995f\" type=\"checkbox\" ><label for=\"660a8b14-0380-4dc7-aa3b-8e2b3207995f\" class=\"sk-toggleable__label sk-toggleable__label-arrow\">OrdinalEncoder</label><div class=\"sk-toggleable__content\"><pre>OrdinalEncoder(categories=[[&#x27;Tier 1&#x27;, &#x27;Tier 2&#x27;, &#x27;Tier 3&#x27;]])</pre></div></div></div></div></div></div><div class=\"sk-parallel-item\"><div class=\"sk-item\"><div class=\"sk-label-container\"><div class=\"sk-label sk-toggleable\"><input class=\"sk-toggleable__control sk-hidden--visually\" id=\"7cdfeb01-2bea-4bbb-87f4-b3d1140e3b48\" type=\"checkbox\" ><label for=\"7cdfeb01-2bea-4bbb-87f4-b3d1140e3b48\" class=\"sk-toggleable__label sk-toggleable__label-arrow\">outlet_Type</label><div class=\"sk-toggleable__content\"><pre>[6]</pre></div></div></div><div class=\"sk-serial\"><div class=\"sk-item\"><div class=\"sk-estimator sk-toggleable\"><input class=\"sk-toggleable__control sk-hidden--visually\" id=\"8d098bb7-4a43-4028-91d2-a19c4ce01f7c\" type=\"checkbox\" ><label for=\"8d098bb7-4a43-4028-91d2-a19c4ce01f7c\" class=\"sk-toggleable__label sk-toggleable__label-arrow\">OrdinalEncoder</label><div class=\"sk-toggleable__content\"><pre>OrdinalEncoder(categories=[[&#x27;Grocery Store&#x27;, &#x27;Supermarket Type1&#x27;,\n",
       "                            &#x27;Supermarket Type2&#x27;, &#x27;Supermarket Type3&#x27;]])</pre></div></div></div></div></div></div><div class=\"sk-parallel-item\"><div class=\"sk-item\"><div class=\"sk-label-container\"><div class=\"sk-label sk-toggleable\"><input class=\"sk-toggleable__control sk-hidden--visually\" id=\"2ddc0153-827c-4b2f-b331-ed29a37adce7\" type=\"checkbox\" ><label for=\"2ddc0153-827c-4b2f-b331-ed29a37adce7\" class=\"sk-toggleable__label sk-toggleable__label-arrow\">remainder</label><div class=\"sk-toggleable__content\"><pre>[0, 3, 4]</pre></div></div></div><div class=\"sk-serial\"><div class=\"sk-item\"><div class=\"sk-estimator sk-toggleable\"><input class=\"sk-toggleable__control sk-hidden--visually\" id=\"56c3935d-ea5e-47f6-934d-d809d5bee988\" type=\"checkbox\" ><label for=\"56c3935d-ea5e-47f6-934d-d809d5bee988\" class=\"sk-toggleable__label sk-toggleable__label-arrow\">passthrough</label><div class=\"sk-toggleable__content\"><pre>passthrough</pre></div></div></div></div></div></div></div></div><div class=\"sk-item sk-dashed-wrapped\"><div class=\"sk-label-container\"><div class=\"sk-label sk-toggleable\"><input class=\"sk-toggleable__control sk-hidden--visually\" id=\"da98e555-cf5e-46f2-838e-04803941573e\" type=\"checkbox\" ><label for=\"da98e555-cf5e-46f2-838e-04803941573e\" class=\"sk-toggleable__label sk-toggleable__label-arrow\">columntransformer-3: ColumnTransformer</label><div class=\"sk-toggleable__content\"><pre>ColumnTransformer(transformers=[(&#x27;scale&#x27;, StandardScaler(), slice(0, 8, None))])</pre></div></div></div><div class=\"sk-parallel\"><div class=\"sk-parallel-item\"><div class=\"sk-item\"><div class=\"sk-label-container\"><div class=\"sk-label sk-toggleable\"><input class=\"sk-toggleable__control sk-hidden--visually\" id=\"e1f01f04-c730-44ce-aee1-a75a776eb047\" type=\"checkbox\" ><label for=\"e1f01f04-c730-44ce-aee1-a75a776eb047\" class=\"sk-toggleable__label sk-toggleable__label-arrow\">scale</label><div class=\"sk-toggleable__content\"><pre>slice(0, 8, None)</pre></div></div></div><div class=\"sk-serial\"><div class=\"sk-item\"><div class=\"sk-estimator sk-toggleable\"><input class=\"sk-toggleable__control sk-hidden--visually\" id=\"755bb2dd-5798-4392-b1bc-cbb7f0927b0d\" type=\"checkbox\" ><label for=\"755bb2dd-5798-4392-b1bc-cbb7f0927b0d\" class=\"sk-toggleable__label sk-toggleable__label-arrow\">StandardScaler</label><div class=\"sk-toggleable__content\"><pre>StandardScaler()</pre></div></div></div></div></div></div></div></div><div class=\"sk-item\"><div class=\"sk-estimator sk-toggleable\"><input class=\"sk-toggleable__control sk-hidden--visually\" id=\"23d7f314-bd76-4a42-8ee7-ab34c86434dd\" type=\"checkbox\" ><label for=\"23d7f314-bd76-4a42-8ee7-ab34c86434dd\" class=\"sk-toggleable__label sk-toggleable__label-arrow\">Ridge</label><div class=\"sk-toggleable__content\"><pre>Ridge(alpha=8)</pre></div></div></div></div></div></div></div>"
      ],
      "text/plain": [
       "Pipeline(steps=[('columntransformer-1',\n",
       "                 ColumnTransformer(remainder='passthrough',\n",
       "                                   transformers=[('impute_item_weight',\n",
       "                                                  SimpleImputer(), [0]),\n",
       "                                                 ('impute_outlet_size',\n",
       "                                                  SimpleImputer(strategy='most_frequent'),\n",
       "                                                  [4])])),\n",
       "                ('columntransformer-2',\n",
       "                 ColumnTransformer(remainder='passthrough',\n",
       "                                   transformers=[('item_fat_content_ordinal',\n",
       "                                                  OrdinalEncoder(categories=[['Low '\n",
       "                                                                              'F...\n",
       "                                                 ('outlet_location_type',\n",
       "                                                  OrdinalEncoder(categories=[['Tier '\n",
       "                                                                              '1',\n",
       "                                                                              'Tier '\n",
       "                                                                              '2',\n",
       "                                                                              'Tier '\n",
       "                                                                              '3']]),\n",
       "                                                  [5]),\n",
       "                                                 ('outlet_Type',\n",
       "                                                  OrdinalEncoder(categories=[['Grocery '\n",
       "                                                                              'Store',\n",
       "                                                                              'Supermarket '\n",
       "                                                                              'Type1',\n",
       "                                                                              'Supermarket '\n",
       "                                                                              'Type2',\n",
       "                                                                              'Supermarket '\n",
       "                                                                              'Type3']]),\n",
       "                                                  [6])])),\n",
       "                ('columntransformer-3',\n",
       "                 ColumnTransformer(transformers=[('scale', StandardScaler(),\n",
       "                                                  slice(0, 8, None))])),\n",
       "                ('ridge', Ridge(alpha=8))])"
      ]
     },
     "execution_count": 144,
     "metadata": {},
     "output_type": "execute_result"
    }
   ],
   "source": [
    "pipeline.fit(X_train ,y_train) "
   ]
  },
  {
   "cell_type": "code",
   "execution_count": 145,
   "id": "49d735bd",
   "metadata": {},
   "outputs": [
    {
     "data": {
      "text/plain": [
       "0.5106448283603586"
      ]
     },
     "execution_count": 145,
     "metadata": {},
     "output_type": "execute_result"
    }
   ],
   "source": [
    "y_pred = pipeline.predict(X_test)\n",
    "ridge_regression_r2_score = r2_score(y_test , y_pred)\n",
    "ridge_regression_r2_score"
   ]
  },
  {
   "cell_type": "code",
   "execution_count": 146,
   "id": "2b2efb99",
   "metadata": {},
   "outputs": [],
   "source": [
    "tranf5 = AdaBoostRegressor(n_estimators = 150 , learning_rate = 0.01)"
   ]
  },
  {
   "cell_type": "code",
   "execution_count": 147,
   "id": "75caa0e1",
   "metadata": {},
   "outputs": [
    {
     "name": "stderr",
     "output_type": "stream",
     "text": [
      "C:\\Users\\Levi\\anaconda3\\lib\\site-packages\\sklearn\\utils\\validation.py:993: DataConversionWarning: A column-vector y was passed when a 1d array was expected. Please change the shape of y to (n_samples, ), for example using ravel().\n",
      "  y = column_or_1d(y, warn=True)\n"
     ]
    },
    {
     "data": {
      "text/html": [
       "<style>#sk-aa1b34a5-6b8b-4bbb-8086-a9590ca0e526 {color: black;background-color: white;}#sk-aa1b34a5-6b8b-4bbb-8086-a9590ca0e526 pre{padding: 0;}#sk-aa1b34a5-6b8b-4bbb-8086-a9590ca0e526 div.sk-toggleable {background-color: white;}#sk-aa1b34a5-6b8b-4bbb-8086-a9590ca0e526 label.sk-toggleable__label {cursor: pointer;display: block;width: 100%;margin-bottom: 0;padding: 0.3em;box-sizing: border-box;text-align: center;}#sk-aa1b34a5-6b8b-4bbb-8086-a9590ca0e526 label.sk-toggleable__label-arrow:before {content: \"▸\";float: left;margin-right: 0.25em;color: #696969;}#sk-aa1b34a5-6b8b-4bbb-8086-a9590ca0e526 label.sk-toggleable__label-arrow:hover:before {color: black;}#sk-aa1b34a5-6b8b-4bbb-8086-a9590ca0e526 div.sk-estimator:hover label.sk-toggleable__label-arrow:before {color: black;}#sk-aa1b34a5-6b8b-4bbb-8086-a9590ca0e526 div.sk-toggleable__content {max-height: 0;max-width: 0;overflow: hidden;text-align: left;background-color: #f0f8ff;}#sk-aa1b34a5-6b8b-4bbb-8086-a9590ca0e526 div.sk-toggleable__content pre {margin: 0.2em;color: black;border-radius: 0.25em;background-color: #f0f8ff;}#sk-aa1b34a5-6b8b-4bbb-8086-a9590ca0e526 input.sk-toggleable__control:checked~div.sk-toggleable__content {max-height: 200px;max-width: 100%;overflow: auto;}#sk-aa1b34a5-6b8b-4bbb-8086-a9590ca0e526 input.sk-toggleable__control:checked~label.sk-toggleable__label-arrow:before {content: \"▾\";}#sk-aa1b34a5-6b8b-4bbb-8086-a9590ca0e526 div.sk-estimator input.sk-toggleable__control:checked~label.sk-toggleable__label {background-color: #d4ebff;}#sk-aa1b34a5-6b8b-4bbb-8086-a9590ca0e526 div.sk-label input.sk-toggleable__control:checked~label.sk-toggleable__label {background-color: #d4ebff;}#sk-aa1b34a5-6b8b-4bbb-8086-a9590ca0e526 input.sk-hidden--visually {border: 0;clip: rect(1px 1px 1px 1px);clip: rect(1px, 1px, 1px, 1px);height: 1px;margin: -1px;overflow: hidden;padding: 0;position: absolute;width: 1px;}#sk-aa1b34a5-6b8b-4bbb-8086-a9590ca0e526 div.sk-estimator {font-family: monospace;background-color: #f0f8ff;border: 1px dotted black;border-radius: 0.25em;box-sizing: border-box;margin-bottom: 0.5em;}#sk-aa1b34a5-6b8b-4bbb-8086-a9590ca0e526 div.sk-estimator:hover {background-color: #d4ebff;}#sk-aa1b34a5-6b8b-4bbb-8086-a9590ca0e526 div.sk-parallel-item::after {content: \"\";width: 100%;border-bottom: 1px solid gray;flex-grow: 1;}#sk-aa1b34a5-6b8b-4bbb-8086-a9590ca0e526 div.sk-label:hover label.sk-toggleable__label {background-color: #d4ebff;}#sk-aa1b34a5-6b8b-4bbb-8086-a9590ca0e526 div.sk-serial::before {content: \"\";position: absolute;border-left: 1px solid gray;box-sizing: border-box;top: 2em;bottom: 0;left: 50%;}#sk-aa1b34a5-6b8b-4bbb-8086-a9590ca0e526 div.sk-serial {display: flex;flex-direction: column;align-items: center;background-color: white;padding-right: 0.2em;padding-left: 0.2em;}#sk-aa1b34a5-6b8b-4bbb-8086-a9590ca0e526 div.sk-item {z-index: 1;}#sk-aa1b34a5-6b8b-4bbb-8086-a9590ca0e526 div.sk-parallel {display: flex;align-items: stretch;justify-content: center;background-color: white;}#sk-aa1b34a5-6b8b-4bbb-8086-a9590ca0e526 div.sk-parallel::before {content: \"\";position: absolute;border-left: 1px solid gray;box-sizing: border-box;top: 2em;bottom: 0;left: 50%;}#sk-aa1b34a5-6b8b-4bbb-8086-a9590ca0e526 div.sk-parallel-item {display: flex;flex-direction: column;position: relative;background-color: white;}#sk-aa1b34a5-6b8b-4bbb-8086-a9590ca0e526 div.sk-parallel-item:first-child::after {align-self: flex-end;width: 50%;}#sk-aa1b34a5-6b8b-4bbb-8086-a9590ca0e526 div.sk-parallel-item:last-child::after {align-self: flex-start;width: 50%;}#sk-aa1b34a5-6b8b-4bbb-8086-a9590ca0e526 div.sk-parallel-item:only-child::after {width: 0;}#sk-aa1b34a5-6b8b-4bbb-8086-a9590ca0e526 div.sk-dashed-wrapped {border: 1px dashed gray;margin: 0 0.4em 0.5em 0.4em;box-sizing: border-box;padding-bottom: 0.4em;background-color: white;position: relative;}#sk-aa1b34a5-6b8b-4bbb-8086-a9590ca0e526 div.sk-label label {font-family: monospace;font-weight: bold;background-color: white;display: inline-block;line-height: 1.2em;}#sk-aa1b34a5-6b8b-4bbb-8086-a9590ca0e526 div.sk-label-container {position: relative;z-index: 2;text-align: center;}#sk-aa1b34a5-6b8b-4bbb-8086-a9590ca0e526 div.sk-container {/* jupyter's `normalize.less` sets `[hidden] { display: none; }` but bootstrap.min.css set `[hidden] { display: none !important; }` so we also need the `!important` here to be able to override the default hidden behavior on the sphinx rendered scikit-learn.org. See: https://github.com/scikit-learn/scikit-learn/issues/21755 */display: inline-block !important;position: relative;}#sk-aa1b34a5-6b8b-4bbb-8086-a9590ca0e526 div.sk-text-repr-fallback {display: none;}</style><div id=\"sk-aa1b34a5-6b8b-4bbb-8086-a9590ca0e526\" class=\"sk-top-container\"><div class=\"sk-text-repr-fallback\"><pre>Pipeline(steps=[(&#x27;columntransformer-1&#x27;,\n",
       "                 ColumnTransformer(remainder=&#x27;passthrough&#x27;,\n",
       "                                   transformers=[(&#x27;impute_item_weight&#x27;,\n",
       "                                                  SimpleImputer(), [0]),\n",
       "                                                 (&#x27;impute_outlet_size&#x27;,\n",
       "                                                  SimpleImputer(strategy=&#x27;most_frequent&#x27;),\n",
       "                                                  [4])])),\n",
       "                (&#x27;columntransformer-2&#x27;,\n",
       "                 ColumnTransformer(remainder=&#x27;passthrough&#x27;,\n",
       "                                   transformers=[(&#x27;item_fat_content_ordinal&#x27;,\n",
       "                                                  OrdinalEncoder(categories=[[&#x27;Low &#x27;\n",
       "                                                                              &#x27;F...\n",
       "                                                  OrdinalEncoder(categories=[[&#x27;Tier &#x27;\n",
       "                                                                              &#x27;1&#x27;,\n",
       "                                                                              &#x27;Tier &#x27;\n",
       "                                                                              &#x27;2&#x27;,\n",
       "                                                                              &#x27;Tier &#x27;\n",
       "                                                                              &#x27;3&#x27;]]),\n",
       "                                                  [5]),\n",
       "                                                 (&#x27;outlet_Type&#x27;,\n",
       "                                                  OrdinalEncoder(categories=[[&#x27;Grocery &#x27;\n",
       "                                                                              &#x27;Store&#x27;,\n",
       "                                                                              &#x27;Supermarket &#x27;\n",
       "                                                                              &#x27;Type1&#x27;,\n",
       "                                                                              &#x27;Supermarket &#x27;\n",
       "                                                                              &#x27;Type2&#x27;,\n",
       "                                                                              &#x27;Supermarket &#x27;\n",
       "                                                                              &#x27;Type3&#x27;]]),\n",
       "                                                  [6])])),\n",
       "                (&#x27;columntransformer-3&#x27;,\n",
       "                 ColumnTransformer(transformers=[(&#x27;scale&#x27;, StandardScaler(),\n",
       "                                                  slice(0, 8, None))])),\n",
       "                (&#x27;adaboostregressor&#x27;,\n",
       "                 AdaBoostRegressor(learning_rate=0.01, n_estimators=150))])</pre><b>Please rerun this cell to show the HTML repr or trust the notebook.</b></div><div class=\"sk-container\" hidden><div class=\"sk-item sk-dashed-wrapped\"><div class=\"sk-label-container\"><div class=\"sk-label sk-toggleable\"><input class=\"sk-toggleable__control sk-hidden--visually\" id=\"70f1e728-d194-4935-889c-240407966589\" type=\"checkbox\" ><label for=\"70f1e728-d194-4935-889c-240407966589\" class=\"sk-toggleable__label sk-toggleable__label-arrow\">Pipeline</label><div class=\"sk-toggleable__content\"><pre>Pipeline(steps=[(&#x27;columntransformer-1&#x27;,\n",
       "                 ColumnTransformer(remainder=&#x27;passthrough&#x27;,\n",
       "                                   transformers=[(&#x27;impute_item_weight&#x27;,\n",
       "                                                  SimpleImputer(), [0]),\n",
       "                                                 (&#x27;impute_outlet_size&#x27;,\n",
       "                                                  SimpleImputer(strategy=&#x27;most_frequent&#x27;),\n",
       "                                                  [4])])),\n",
       "                (&#x27;columntransformer-2&#x27;,\n",
       "                 ColumnTransformer(remainder=&#x27;passthrough&#x27;,\n",
       "                                   transformers=[(&#x27;item_fat_content_ordinal&#x27;,\n",
       "                                                  OrdinalEncoder(categories=[[&#x27;Low &#x27;\n",
       "                                                                              &#x27;F...\n",
       "                                                  OrdinalEncoder(categories=[[&#x27;Tier &#x27;\n",
       "                                                                              &#x27;1&#x27;,\n",
       "                                                                              &#x27;Tier &#x27;\n",
       "                                                                              &#x27;2&#x27;,\n",
       "                                                                              &#x27;Tier &#x27;\n",
       "                                                                              &#x27;3&#x27;]]),\n",
       "                                                  [5]),\n",
       "                                                 (&#x27;outlet_Type&#x27;,\n",
       "                                                  OrdinalEncoder(categories=[[&#x27;Grocery &#x27;\n",
       "                                                                              &#x27;Store&#x27;,\n",
       "                                                                              &#x27;Supermarket &#x27;\n",
       "                                                                              &#x27;Type1&#x27;,\n",
       "                                                                              &#x27;Supermarket &#x27;\n",
       "                                                                              &#x27;Type2&#x27;,\n",
       "                                                                              &#x27;Supermarket &#x27;\n",
       "                                                                              &#x27;Type3&#x27;]]),\n",
       "                                                  [6])])),\n",
       "                (&#x27;columntransformer-3&#x27;,\n",
       "                 ColumnTransformer(transformers=[(&#x27;scale&#x27;, StandardScaler(),\n",
       "                                                  slice(0, 8, None))])),\n",
       "                (&#x27;adaboostregressor&#x27;,\n",
       "                 AdaBoostRegressor(learning_rate=0.01, n_estimators=150))])</pre></div></div></div><div class=\"sk-serial\"><div class=\"sk-item sk-dashed-wrapped\"><div class=\"sk-label-container\"><div class=\"sk-label sk-toggleable\"><input class=\"sk-toggleable__control sk-hidden--visually\" id=\"a11bfb4f-7fe5-4c63-9ac8-ead8ca0a370b\" type=\"checkbox\" ><label for=\"a11bfb4f-7fe5-4c63-9ac8-ead8ca0a370b\" class=\"sk-toggleable__label sk-toggleable__label-arrow\">columntransformer-1: ColumnTransformer</label><div class=\"sk-toggleable__content\"><pre>ColumnTransformer(remainder=&#x27;passthrough&#x27;,\n",
       "                  transformers=[(&#x27;impute_item_weight&#x27;, SimpleImputer(), [0]),\n",
       "                                (&#x27;impute_outlet_size&#x27;,\n",
       "                                 SimpleImputer(strategy=&#x27;most_frequent&#x27;),\n",
       "                                 [4])])</pre></div></div></div><div class=\"sk-parallel\"><div class=\"sk-parallel-item\"><div class=\"sk-item\"><div class=\"sk-label-container\"><div class=\"sk-label sk-toggleable\"><input class=\"sk-toggleable__control sk-hidden--visually\" id=\"101f7a3d-5dc9-4557-9995-92a85d1fff1b\" type=\"checkbox\" ><label for=\"101f7a3d-5dc9-4557-9995-92a85d1fff1b\" class=\"sk-toggleable__label sk-toggleable__label-arrow\">impute_item_weight</label><div class=\"sk-toggleable__content\"><pre>[0]</pre></div></div></div><div class=\"sk-serial\"><div class=\"sk-item\"><div class=\"sk-estimator sk-toggleable\"><input class=\"sk-toggleable__control sk-hidden--visually\" id=\"2886e736-5001-489b-8198-58db7a30aa2e\" type=\"checkbox\" ><label for=\"2886e736-5001-489b-8198-58db7a30aa2e\" class=\"sk-toggleable__label sk-toggleable__label-arrow\">SimpleImputer</label><div class=\"sk-toggleable__content\"><pre>SimpleImputer()</pre></div></div></div></div></div></div><div class=\"sk-parallel-item\"><div class=\"sk-item\"><div class=\"sk-label-container\"><div class=\"sk-label sk-toggleable\"><input class=\"sk-toggleable__control sk-hidden--visually\" id=\"c1fa4e80-a7b3-4eba-b9bc-49cb1a81fecd\" type=\"checkbox\" ><label for=\"c1fa4e80-a7b3-4eba-b9bc-49cb1a81fecd\" class=\"sk-toggleable__label sk-toggleable__label-arrow\">impute_outlet_size</label><div class=\"sk-toggleable__content\"><pre>[4]</pre></div></div></div><div class=\"sk-serial\"><div class=\"sk-item\"><div class=\"sk-estimator sk-toggleable\"><input class=\"sk-toggleable__control sk-hidden--visually\" id=\"31cd53e4-47b3-4784-86fe-4626bf7998ec\" type=\"checkbox\" ><label for=\"31cd53e4-47b3-4784-86fe-4626bf7998ec\" class=\"sk-toggleable__label sk-toggleable__label-arrow\">SimpleImputer</label><div class=\"sk-toggleable__content\"><pre>SimpleImputer(strategy=&#x27;most_frequent&#x27;)</pre></div></div></div></div></div></div><div class=\"sk-parallel-item\"><div class=\"sk-item\"><div class=\"sk-label-container\"><div class=\"sk-label sk-toggleable\"><input class=\"sk-toggleable__control sk-hidden--visually\" id=\"4660dc20-287f-4243-92db-310a2781a593\" type=\"checkbox\" ><label for=\"4660dc20-287f-4243-92db-310a2781a593\" class=\"sk-toggleable__label sk-toggleable__label-arrow\">remainder</label><div class=\"sk-toggleable__content\"><pre>[1, 2, 3, 5, 6]</pre></div></div></div><div class=\"sk-serial\"><div class=\"sk-item\"><div class=\"sk-estimator sk-toggleable\"><input class=\"sk-toggleable__control sk-hidden--visually\" id=\"4f4f8c5d-6f65-4a46-ad50-a1adcb47462f\" type=\"checkbox\" ><label for=\"4f4f8c5d-6f65-4a46-ad50-a1adcb47462f\" class=\"sk-toggleable__label sk-toggleable__label-arrow\">passthrough</label><div class=\"sk-toggleable__content\"><pre>passthrough</pre></div></div></div></div></div></div></div></div><div class=\"sk-item sk-dashed-wrapped\"><div class=\"sk-label-container\"><div class=\"sk-label sk-toggleable\"><input class=\"sk-toggleable__control sk-hidden--visually\" id=\"843b0097-b7d2-435f-a958-847a3eb883b6\" type=\"checkbox\" ><label for=\"843b0097-b7d2-435f-a958-847a3eb883b6\" class=\"sk-toggleable__label sk-toggleable__label-arrow\">columntransformer-2: ColumnTransformer</label><div class=\"sk-toggleable__content\"><pre>ColumnTransformer(remainder=&#x27;passthrough&#x27;,\n",
       "                  transformers=[(&#x27;item_fat_content_ordinal&#x27;,\n",
       "                                 OrdinalEncoder(categories=[[&#x27;Low Fat&#x27;,\n",
       "                                                             &#x27;Regular&#x27;]]),\n",
       "                                 [2]),\n",
       "                                (&#x27;outlet_size&#x27;,\n",
       "                                 OrdinalEncoder(categories=[[&#x27;Small&#x27;, &#x27;Medium&#x27;,\n",
       "                                                             &#x27;High&#x27;]]),\n",
       "                                 [1]),\n",
       "                                (&#x27;outlet_location_type&#x27;,\n",
       "                                 OrdinalEncoder(categories=[[&#x27;Tier 1&#x27;, &#x27;Tier 2&#x27;,\n",
       "                                                             &#x27;Tier 3&#x27;]]),\n",
       "                                 [5]),\n",
       "                                (&#x27;outlet_Type&#x27;,\n",
       "                                 OrdinalEncoder(categories=[[&#x27;Grocery Store&#x27;,\n",
       "                                                             &#x27;Supermarket &#x27;\n",
       "                                                             &#x27;Type1&#x27;,\n",
       "                                                             &#x27;Supermarket &#x27;\n",
       "                                                             &#x27;Type2&#x27;,\n",
       "                                                             &#x27;Supermarket &#x27;\n",
       "                                                             &#x27;Type3&#x27;]]),\n",
       "                                 [6])])</pre></div></div></div><div class=\"sk-parallel\"><div class=\"sk-parallel-item\"><div class=\"sk-item\"><div class=\"sk-label-container\"><div class=\"sk-label sk-toggleable\"><input class=\"sk-toggleable__control sk-hidden--visually\" id=\"2242ae57-a23e-4c95-88da-34cfbfaa2115\" type=\"checkbox\" ><label for=\"2242ae57-a23e-4c95-88da-34cfbfaa2115\" class=\"sk-toggleable__label sk-toggleable__label-arrow\">item_fat_content_ordinal</label><div class=\"sk-toggleable__content\"><pre>[2]</pre></div></div></div><div class=\"sk-serial\"><div class=\"sk-item\"><div class=\"sk-estimator sk-toggleable\"><input class=\"sk-toggleable__control sk-hidden--visually\" id=\"3193bd38-eada-467a-a05d-a5c020468930\" type=\"checkbox\" ><label for=\"3193bd38-eada-467a-a05d-a5c020468930\" class=\"sk-toggleable__label sk-toggleable__label-arrow\">OrdinalEncoder</label><div class=\"sk-toggleable__content\"><pre>OrdinalEncoder(categories=[[&#x27;Low Fat&#x27;, &#x27;Regular&#x27;]])</pre></div></div></div></div></div></div><div class=\"sk-parallel-item\"><div class=\"sk-item\"><div class=\"sk-label-container\"><div class=\"sk-label sk-toggleable\"><input class=\"sk-toggleable__control sk-hidden--visually\" id=\"9879d67d-8e47-4a65-ac18-8f37b95dfa39\" type=\"checkbox\" ><label for=\"9879d67d-8e47-4a65-ac18-8f37b95dfa39\" class=\"sk-toggleable__label sk-toggleable__label-arrow\">outlet_size</label><div class=\"sk-toggleable__content\"><pre>[1]</pre></div></div></div><div class=\"sk-serial\"><div class=\"sk-item\"><div class=\"sk-estimator sk-toggleable\"><input class=\"sk-toggleable__control sk-hidden--visually\" id=\"b7eda3ba-e638-4ec8-a38e-fdaee3b90d51\" type=\"checkbox\" ><label for=\"b7eda3ba-e638-4ec8-a38e-fdaee3b90d51\" class=\"sk-toggleable__label sk-toggleable__label-arrow\">OrdinalEncoder</label><div class=\"sk-toggleable__content\"><pre>OrdinalEncoder(categories=[[&#x27;Small&#x27;, &#x27;Medium&#x27;, &#x27;High&#x27;]])</pre></div></div></div></div></div></div><div class=\"sk-parallel-item\"><div class=\"sk-item\"><div class=\"sk-label-container\"><div class=\"sk-label sk-toggleable\"><input class=\"sk-toggleable__control sk-hidden--visually\" id=\"582492de-c354-43d9-aeca-2d508b5930e4\" type=\"checkbox\" ><label for=\"582492de-c354-43d9-aeca-2d508b5930e4\" class=\"sk-toggleable__label sk-toggleable__label-arrow\">outlet_location_type</label><div class=\"sk-toggleable__content\"><pre>[5]</pre></div></div></div><div class=\"sk-serial\"><div class=\"sk-item\"><div class=\"sk-estimator sk-toggleable\"><input class=\"sk-toggleable__control sk-hidden--visually\" id=\"6fda4ac3-79c9-4776-af72-f4eec36852e1\" type=\"checkbox\" ><label for=\"6fda4ac3-79c9-4776-af72-f4eec36852e1\" class=\"sk-toggleable__label sk-toggleable__label-arrow\">OrdinalEncoder</label><div class=\"sk-toggleable__content\"><pre>OrdinalEncoder(categories=[[&#x27;Tier 1&#x27;, &#x27;Tier 2&#x27;, &#x27;Tier 3&#x27;]])</pre></div></div></div></div></div></div><div class=\"sk-parallel-item\"><div class=\"sk-item\"><div class=\"sk-label-container\"><div class=\"sk-label sk-toggleable\"><input class=\"sk-toggleable__control sk-hidden--visually\" id=\"92027fbd-8923-421f-a433-cf96498ee6e2\" type=\"checkbox\" ><label for=\"92027fbd-8923-421f-a433-cf96498ee6e2\" class=\"sk-toggleable__label sk-toggleable__label-arrow\">outlet_Type</label><div class=\"sk-toggleable__content\"><pre>[6]</pre></div></div></div><div class=\"sk-serial\"><div class=\"sk-item\"><div class=\"sk-estimator sk-toggleable\"><input class=\"sk-toggleable__control sk-hidden--visually\" id=\"f28ceed3-1f18-4ccd-a688-658814f0a8d5\" type=\"checkbox\" ><label for=\"f28ceed3-1f18-4ccd-a688-658814f0a8d5\" class=\"sk-toggleable__label sk-toggleable__label-arrow\">OrdinalEncoder</label><div class=\"sk-toggleable__content\"><pre>OrdinalEncoder(categories=[[&#x27;Grocery Store&#x27;, &#x27;Supermarket Type1&#x27;,\n",
       "                            &#x27;Supermarket Type2&#x27;, &#x27;Supermarket Type3&#x27;]])</pre></div></div></div></div></div></div><div class=\"sk-parallel-item\"><div class=\"sk-item\"><div class=\"sk-label-container\"><div class=\"sk-label sk-toggleable\"><input class=\"sk-toggleable__control sk-hidden--visually\" id=\"5076534e-c60e-47e8-a369-166ed8e6afd4\" type=\"checkbox\" ><label for=\"5076534e-c60e-47e8-a369-166ed8e6afd4\" class=\"sk-toggleable__label sk-toggleable__label-arrow\">remainder</label><div class=\"sk-toggleable__content\"><pre>[0, 3, 4]</pre></div></div></div><div class=\"sk-serial\"><div class=\"sk-item\"><div class=\"sk-estimator sk-toggleable\"><input class=\"sk-toggleable__control sk-hidden--visually\" id=\"388856fa-01c1-44ca-89bf-49502fbb95b1\" type=\"checkbox\" ><label for=\"388856fa-01c1-44ca-89bf-49502fbb95b1\" class=\"sk-toggleable__label sk-toggleable__label-arrow\">passthrough</label><div class=\"sk-toggleable__content\"><pre>passthrough</pre></div></div></div></div></div></div></div></div><div class=\"sk-item sk-dashed-wrapped\"><div class=\"sk-label-container\"><div class=\"sk-label sk-toggleable\"><input class=\"sk-toggleable__control sk-hidden--visually\" id=\"2bc1899a-ba81-406f-848e-9e70ab378f00\" type=\"checkbox\" ><label for=\"2bc1899a-ba81-406f-848e-9e70ab378f00\" class=\"sk-toggleable__label sk-toggleable__label-arrow\">columntransformer-3: ColumnTransformer</label><div class=\"sk-toggleable__content\"><pre>ColumnTransformer(transformers=[(&#x27;scale&#x27;, StandardScaler(), slice(0, 8, None))])</pre></div></div></div><div class=\"sk-parallel\"><div class=\"sk-parallel-item\"><div class=\"sk-item\"><div class=\"sk-label-container\"><div class=\"sk-label sk-toggleable\"><input class=\"sk-toggleable__control sk-hidden--visually\" id=\"b1fad6b9-7ae6-4e4d-99e2-2e173c7c3bf8\" type=\"checkbox\" ><label for=\"b1fad6b9-7ae6-4e4d-99e2-2e173c7c3bf8\" class=\"sk-toggleable__label sk-toggleable__label-arrow\">scale</label><div class=\"sk-toggleable__content\"><pre>slice(0, 8, None)</pre></div></div></div><div class=\"sk-serial\"><div class=\"sk-item\"><div class=\"sk-estimator sk-toggleable\"><input class=\"sk-toggleable__control sk-hidden--visually\" id=\"22f55a06-087d-45f5-836c-d28b98a9a646\" type=\"checkbox\" ><label for=\"22f55a06-087d-45f5-836c-d28b98a9a646\" class=\"sk-toggleable__label sk-toggleable__label-arrow\">StandardScaler</label><div class=\"sk-toggleable__content\"><pre>StandardScaler()</pre></div></div></div></div></div></div></div></div><div class=\"sk-item\"><div class=\"sk-estimator sk-toggleable\"><input class=\"sk-toggleable__control sk-hidden--visually\" id=\"89956f05-c5d7-495b-b0fa-8296e84fd1ed\" type=\"checkbox\" ><label for=\"89956f05-c5d7-495b-b0fa-8296e84fd1ed\" class=\"sk-toggleable__label sk-toggleable__label-arrow\">AdaBoostRegressor</label><div class=\"sk-toggleable__content\"><pre>AdaBoostRegressor(learning_rate=0.01, n_estimators=150)</pre></div></div></div></div></div></div></div>"
      ],
      "text/plain": [
       "Pipeline(steps=[('columntransformer-1',\n",
       "                 ColumnTransformer(remainder='passthrough',\n",
       "                                   transformers=[('impute_item_weight',\n",
       "                                                  SimpleImputer(), [0]),\n",
       "                                                 ('impute_outlet_size',\n",
       "                                                  SimpleImputer(strategy='most_frequent'),\n",
       "                                                  [4])])),\n",
       "                ('columntransformer-2',\n",
       "                 ColumnTransformer(remainder='passthrough',\n",
       "                                   transformers=[('item_fat_content_ordinal',\n",
       "                                                  OrdinalEncoder(categories=[['Low '\n",
       "                                                                              'F...\n",
       "                                                  OrdinalEncoder(categories=[['Tier '\n",
       "                                                                              '1',\n",
       "                                                                              'Tier '\n",
       "                                                                              '2',\n",
       "                                                                              'Tier '\n",
       "                                                                              '3']]),\n",
       "                                                  [5]),\n",
       "                                                 ('outlet_Type',\n",
       "                                                  OrdinalEncoder(categories=[['Grocery '\n",
       "                                                                              'Store',\n",
       "                                                                              'Supermarket '\n",
       "                                                                              'Type1',\n",
       "                                                                              'Supermarket '\n",
       "                                                                              'Type2',\n",
       "                                                                              'Supermarket '\n",
       "                                                                              'Type3']]),\n",
       "                                                  [6])])),\n",
       "                ('columntransformer-3',\n",
       "                 ColumnTransformer(transformers=[('scale', StandardScaler(),\n",
       "                                                  slice(0, 8, None))])),\n",
       "                ('adaboostregressor',\n",
       "                 AdaBoostRegressor(learning_rate=0.01, n_estimators=150))])"
      ]
     },
     "execution_count": 147,
     "metadata": {},
     "output_type": "execute_result"
    }
   ],
   "source": [
    "pipeline = make_pipeline(tranf1 , tranf2 , tranf3 , tranf5) \n",
    "pipeline.fit(X_train ,y_train)"
   ]
  },
  {
   "cell_type": "code",
   "execution_count": 148,
   "id": "82d1d6c8",
   "metadata": {},
   "outputs": [
    {
     "data": {
      "text/plain": [
       "0.5485631466974867"
      ]
     },
     "execution_count": 148,
     "metadata": {},
     "output_type": "execute_result"
    }
   ],
   "source": [
    "y_pred = pipeline.predict(X_test)\n",
    "AdaBoostRegression_r2_score = r2_score(y_test , y_pred)\n",
    "AdaBoostRegression_r2_score"
   ]
  },
  {
   "cell_type": "code",
   "execution_count": 236,
   "id": "e91e99d3",
   "metadata": {},
   "outputs": [],
   "source": [
    "tranf5 = GradientBoostingRegressor(n_estimators = 300 , max_depth = 6 , learning_rate = 0.01) "
   ]
  },
  {
   "cell_type": "code",
   "execution_count": 228,
   "id": "82e33023",
   "metadata": {},
   "outputs": [],
   "source": [
    "tranf_scaling = ColumnTransformer([\n",
    "    ('scale' , StandardScaler() ,slice(0,8))\n",
    "])"
   ]
  },
  {
   "cell_type": "code",
   "execution_count": null,
   "id": "27d9b645",
   "metadata": {},
   "outputs": [],
   "source": []
  },
  {
   "cell_type": "code",
   "execution_count": 237,
   "id": "78d0370f",
   "metadata": {},
   "outputs": [],
   "source": [
    "pipeline = make_pipeline(tranf1 , tranf2 , tranf_scaling  , tranf5) "
   ]
  },
  {
   "cell_type": "code",
   "execution_count": 238,
   "id": "b729e48a",
   "metadata": {},
   "outputs": [
    {
     "name": "stderr",
     "output_type": "stream",
     "text": [
      "C:\\Users\\Levi\\anaconda3\\lib\\site-packages\\sklearn\\ensemble\\_gb.py:494: DataConversionWarning: A column-vector y was passed when a 1d array was expected. Please change the shape of y to (n_samples, ), for example using ravel().\n",
      "  y = column_or_1d(y, warn=True)\n"
     ]
    },
    {
     "data": {
      "text/html": [
       "<style>#sk-580c2a23-b068-4712-957c-b821e4f9b1db {color: black;background-color: white;}#sk-580c2a23-b068-4712-957c-b821e4f9b1db pre{padding: 0;}#sk-580c2a23-b068-4712-957c-b821e4f9b1db div.sk-toggleable {background-color: white;}#sk-580c2a23-b068-4712-957c-b821e4f9b1db label.sk-toggleable__label {cursor: pointer;display: block;width: 100%;margin-bottom: 0;padding: 0.3em;box-sizing: border-box;text-align: center;}#sk-580c2a23-b068-4712-957c-b821e4f9b1db label.sk-toggleable__label-arrow:before {content: \"▸\";float: left;margin-right: 0.25em;color: #696969;}#sk-580c2a23-b068-4712-957c-b821e4f9b1db label.sk-toggleable__label-arrow:hover:before {color: black;}#sk-580c2a23-b068-4712-957c-b821e4f9b1db div.sk-estimator:hover label.sk-toggleable__label-arrow:before {color: black;}#sk-580c2a23-b068-4712-957c-b821e4f9b1db div.sk-toggleable__content {max-height: 0;max-width: 0;overflow: hidden;text-align: left;background-color: #f0f8ff;}#sk-580c2a23-b068-4712-957c-b821e4f9b1db div.sk-toggleable__content pre {margin: 0.2em;color: black;border-radius: 0.25em;background-color: #f0f8ff;}#sk-580c2a23-b068-4712-957c-b821e4f9b1db input.sk-toggleable__control:checked~div.sk-toggleable__content {max-height: 200px;max-width: 100%;overflow: auto;}#sk-580c2a23-b068-4712-957c-b821e4f9b1db input.sk-toggleable__control:checked~label.sk-toggleable__label-arrow:before {content: \"▾\";}#sk-580c2a23-b068-4712-957c-b821e4f9b1db div.sk-estimator input.sk-toggleable__control:checked~label.sk-toggleable__label {background-color: #d4ebff;}#sk-580c2a23-b068-4712-957c-b821e4f9b1db div.sk-label input.sk-toggleable__control:checked~label.sk-toggleable__label {background-color: #d4ebff;}#sk-580c2a23-b068-4712-957c-b821e4f9b1db input.sk-hidden--visually {border: 0;clip: rect(1px 1px 1px 1px);clip: rect(1px, 1px, 1px, 1px);height: 1px;margin: -1px;overflow: hidden;padding: 0;position: absolute;width: 1px;}#sk-580c2a23-b068-4712-957c-b821e4f9b1db div.sk-estimator {font-family: monospace;background-color: #f0f8ff;border: 1px dotted black;border-radius: 0.25em;box-sizing: border-box;margin-bottom: 0.5em;}#sk-580c2a23-b068-4712-957c-b821e4f9b1db div.sk-estimator:hover {background-color: #d4ebff;}#sk-580c2a23-b068-4712-957c-b821e4f9b1db div.sk-parallel-item::after {content: \"\";width: 100%;border-bottom: 1px solid gray;flex-grow: 1;}#sk-580c2a23-b068-4712-957c-b821e4f9b1db div.sk-label:hover label.sk-toggleable__label {background-color: #d4ebff;}#sk-580c2a23-b068-4712-957c-b821e4f9b1db div.sk-serial::before {content: \"\";position: absolute;border-left: 1px solid gray;box-sizing: border-box;top: 2em;bottom: 0;left: 50%;}#sk-580c2a23-b068-4712-957c-b821e4f9b1db div.sk-serial {display: flex;flex-direction: column;align-items: center;background-color: white;padding-right: 0.2em;padding-left: 0.2em;}#sk-580c2a23-b068-4712-957c-b821e4f9b1db div.sk-item {z-index: 1;}#sk-580c2a23-b068-4712-957c-b821e4f9b1db div.sk-parallel {display: flex;align-items: stretch;justify-content: center;background-color: white;}#sk-580c2a23-b068-4712-957c-b821e4f9b1db div.sk-parallel::before {content: \"\";position: absolute;border-left: 1px solid gray;box-sizing: border-box;top: 2em;bottom: 0;left: 50%;}#sk-580c2a23-b068-4712-957c-b821e4f9b1db div.sk-parallel-item {display: flex;flex-direction: column;position: relative;background-color: white;}#sk-580c2a23-b068-4712-957c-b821e4f9b1db div.sk-parallel-item:first-child::after {align-self: flex-end;width: 50%;}#sk-580c2a23-b068-4712-957c-b821e4f9b1db div.sk-parallel-item:last-child::after {align-self: flex-start;width: 50%;}#sk-580c2a23-b068-4712-957c-b821e4f9b1db div.sk-parallel-item:only-child::after {width: 0;}#sk-580c2a23-b068-4712-957c-b821e4f9b1db div.sk-dashed-wrapped {border: 1px dashed gray;margin: 0 0.4em 0.5em 0.4em;box-sizing: border-box;padding-bottom: 0.4em;background-color: white;position: relative;}#sk-580c2a23-b068-4712-957c-b821e4f9b1db div.sk-label label {font-family: monospace;font-weight: bold;background-color: white;display: inline-block;line-height: 1.2em;}#sk-580c2a23-b068-4712-957c-b821e4f9b1db div.sk-label-container {position: relative;z-index: 2;text-align: center;}#sk-580c2a23-b068-4712-957c-b821e4f9b1db div.sk-container {/* jupyter's `normalize.less` sets `[hidden] { display: none; }` but bootstrap.min.css set `[hidden] { display: none !important; }` so we also need the `!important` here to be able to override the default hidden behavior on the sphinx rendered scikit-learn.org. See: https://github.com/scikit-learn/scikit-learn/issues/21755 */display: inline-block !important;position: relative;}#sk-580c2a23-b068-4712-957c-b821e4f9b1db div.sk-text-repr-fallback {display: none;}</style><div id=\"sk-580c2a23-b068-4712-957c-b821e4f9b1db\" class=\"sk-top-container\"><div class=\"sk-text-repr-fallback\"><pre>Pipeline(steps=[(&#x27;columntransformer-1&#x27;,\n",
       "                 ColumnTransformer(remainder=&#x27;passthrough&#x27;,\n",
       "                                   transformers=[(&#x27;impute_item_weight&#x27;,\n",
       "                                                  SimpleImputer(), [0]),\n",
       "                                                 (&#x27;impute_outlet_size&#x27;,\n",
       "                                                  SimpleImputer(strategy=&#x27;most_frequent&#x27;),\n",
       "                                                  [4])])),\n",
       "                (&#x27;columntransformer-2&#x27;,\n",
       "                 ColumnTransformer(remainder=&#x27;passthrough&#x27;,\n",
       "                                   transformers=[(&#x27;item_fat_content_ordinal&#x27;,\n",
       "                                                  OrdinalEncoder(categories=[[&#x27;Low &#x27;\n",
       "                                                                              &#x27;F...\n",
       "                                                                              &#x27;3&#x27;]]),\n",
       "                                                  [5]),\n",
       "                                                 (&#x27;outlet_Type&#x27;,\n",
       "                                                  OrdinalEncoder(categories=[[&#x27;Grocery &#x27;\n",
       "                                                                              &#x27;Store&#x27;,\n",
       "                                                                              &#x27;Supermarket &#x27;\n",
       "                                                                              &#x27;Type1&#x27;,\n",
       "                                                                              &#x27;Supermarket &#x27;\n",
       "                                                                              &#x27;Type2&#x27;,\n",
       "                                                                              &#x27;Supermarket &#x27;\n",
       "                                                                              &#x27;Type3&#x27;]]),\n",
       "                                                  [6])])),\n",
       "                (&#x27;columntransformer-3&#x27;,\n",
       "                 ColumnTransformer(transformers=[(&#x27;scale&#x27;, StandardScaler(),\n",
       "                                                  slice(0, 8, None))])),\n",
       "                (&#x27;gradientboostingregressor&#x27;,\n",
       "                 GradientBoostingRegressor(learning_rate=0.01, max_depth=6,\n",
       "                                           n_estimators=300))])</pre><b>Please rerun this cell to show the HTML repr or trust the notebook.</b></div><div class=\"sk-container\" hidden><div class=\"sk-item sk-dashed-wrapped\"><div class=\"sk-label-container\"><div class=\"sk-label sk-toggleable\"><input class=\"sk-toggleable__control sk-hidden--visually\" id=\"8504d8d0-4eec-4eac-8414-2fb73a5793ac\" type=\"checkbox\" ><label for=\"8504d8d0-4eec-4eac-8414-2fb73a5793ac\" class=\"sk-toggleable__label sk-toggleable__label-arrow\">Pipeline</label><div class=\"sk-toggleable__content\"><pre>Pipeline(steps=[(&#x27;columntransformer-1&#x27;,\n",
       "                 ColumnTransformer(remainder=&#x27;passthrough&#x27;,\n",
       "                                   transformers=[(&#x27;impute_item_weight&#x27;,\n",
       "                                                  SimpleImputer(), [0]),\n",
       "                                                 (&#x27;impute_outlet_size&#x27;,\n",
       "                                                  SimpleImputer(strategy=&#x27;most_frequent&#x27;),\n",
       "                                                  [4])])),\n",
       "                (&#x27;columntransformer-2&#x27;,\n",
       "                 ColumnTransformer(remainder=&#x27;passthrough&#x27;,\n",
       "                                   transformers=[(&#x27;item_fat_content_ordinal&#x27;,\n",
       "                                                  OrdinalEncoder(categories=[[&#x27;Low &#x27;\n",
       "                                                                              &#x27;F...\n",
       "                                                                              &#x27;3&#x27;]]),\n",
       "                                                  [5]),\n",
       "                                                 (&#x27;outlet_Type&#x27;,\n",
       "                                                  OrdinalEncoder(categories=[[&#x27;Grocery &#x27;\n",
       "                                                                              &#x27;Store&#x27;,\n",
       "                                                                              &#x27;Supermarket &#x27;\n",
       "                                                                              &#x27;Type1&#x27;,\n",
       "                                                                              &#x27;Supermarket &#x27;\n",
       "                                                                              &#x27;Type2&#x27;,\n",
       "                                                                              &#x27;Supermarket &#x27;\n",
       "                                                                              &#x27;Type3&#x27;]]),\n",
       "                                                  [6])])),\n",
       "                (&#x27;columntransformer-3&#x27;,\n",
       "                 ColumnTransformer(transformers=[(&#x27;scale&#x27;, StandardScaler(),\n",
       "                                                  slice(0, 8, None))])),\n",
       "                (&#x27;gradientboostingregressor&#x27;,\n",
       "                 GradientBoostingRegressor(learning_rate=0.01, max_depth=6,\n",
       "                                           n_estimators=300))])</pre></div></div></div><div class=\"sk-serial\"><div class=\"sk-item sk-dashed-wrapped\"><div class=\"sk-label-container\"><div class=\"sk-label sk-toggleable\"><input class=\"sk-toggleable__control sk-hidden--visually\" id=\"e2fd97d0-e718-4bd0-a56a-fe58e532252b\" type=\"checkbox\" ><label for=\"e2fd97d0-e718-4bd0-a56a-fe58e532252b\" class=\"sk-toggleable__label sk-toggleable__label-arrow\">columntransformer-1: ColumnTransformer</label><div class=\"sk-toggleable__content\"><pre>ColumnTransformer(remainder=&#x27;passthrough&#x27;,\n",
       "                  transformers=[(&#x27;impute_item_weight&#x27;, SimpleImputer(), [0]),\n",
       "                                (&#x27;impute_outlet_size&#x27;,\n",
       "                                 SimpleImputer(strategy=&#x27;most_frequent&#x27;),\n",
       "                                 [4])])</pre></div></div></div><div class=\"sk-parallel\"><div class=\"sk-parallel-item\"><div class=\"sk-item\"><div class=\"sk-label-container\"><div class=\"sk-label sk-toggleable\"><input class=\"sk-toggleable__control sk-hidden--visually\" id=\"cd5fa22a-fcaf-44f0-9abc-788a881e0e3c\" type=\"checkbox\" ><label for=\"cd5fa22a-fcaf-44f0-9abc-788a881e0e3c\" class=\"sk-toggleable__label sk-toggleable__label-arrow\">impute_item_weight</label><div class=\"sk-toggleable__content\"><pre>[0]</pre></div></div></div><div class=\"sk-serial\"><div class=\"sk-item\"><div class=\"sk-estimator sk-toggleable\"><input class=\"sk-toggleable__control sk-hidden--visually\" id=\"9e8c58bd-057e-4ff3-b2a7-ccf550230550\" type=\"checkbox\" ><label for=\"9e8c58bd-057e-4ff3-b2a7-ccf550230550\" class=\"sk-toggleable__label sk-toggleable__label-arrow\">SimpleImputer</label><div class=\"sk-toggleable__content\"><pre>SimpleImputer()</pre></div></div></div></div></div></div><div class=\"sk-parallel-item\"><div class=\"sk-item\"><div class=\"sk-label-container\"><div class=\"sk-label sk-toggleable\"><input class=\"sk-toggleable__control sk-hidden--visually\" id=\"270b3baa-caf8-47b5-9afe-d9b09fa74517\" type=\"checkbox\" ><label for=\"270b3baa-caf8-47b5-9afe-d9b09fa74517\" class=\"sk-toggleable__label sk-toggleable__label-arrow\">impute_outlet_size</label><div class=\"sk-toggleable__content\"><pre>[4]</pre></div></div></div><div class=\"sk-serial\"><div class=\"sk-item\"><div class=\"sk-estimator sk-toggleable\"><input class=\"sk-toggleable__control sk-hidden--visually\" id=\"328d84d0-63f5-4ab6-8573-4dc9c4bf8d30\" type=\"checkbox\" ><label for=\"328d84d0-63f5-4ab6-8573-4dc9c4bf8d30\" class=\"sk-toggleable__label sk-toggleable__label-arrow\">SimpleImputer</label><div class=\"sk-toggleable__content\"><pre>SimpleImputer(strategy=&#x27;most_frequent&#x27;)</pre></div></div></div></div></div></div><div class=\"sk-parallel-item\"><div class=\"sk-item\"><div class=\"sk-label-container\"><div class=\"sk-label sk-toggleable\"><input class=\"sk-toggleable__control sk-hidden--visually\" id=\"3ff20a40-6454-42e4-bbe1-05447b53612a\" type=\"checkbox\" ><label for=\"3ff20a40-6454-42e4-bbe1-05447b53612a\" class=\"sk-toggleable__label sk-toggleable__label-arrow\">remainder</label><div class=\"sk-toggleable__content\"><pre>[1, 2, 3, 5, 6]</pre></div></div></div><div class=\"sk-serial\"><div class=\"sk-item\"><div class=\"sk-estimator sk-toggleable\"><input class=\"sk-toggleable__control sk-hidden--visually\" id=\"8191df6d-86b4-48ff-9b41-2f3f6e6ff182\" type=\"checkbox\" ><label for=\"8191df6d-86b4-48ff-9b41-2f3f6e6ff182\" class=\"sk-toggleable__label sk-toggleable__label-arrow\">passthrough</label><div class=\"sk-toggleable__content\"><pre>passthrough</pre></div></div></div></div></div></div></div></div><div class=\"sk-item sk-dashed-wrapped\"><div class=\"sk-label-container\"><div class=\"sk-label sk-toggleable\"><input class=\"sk-toggleable__control sk-hidden--visually\" id=\"34f85283-eb08-40fa-b752-8922d8b12e9f\" type=\"checkbox\" ><label for=\"34f85283-eb08-40fa-b752-8922d8b12e9f\" class=\"sk-toggleable__label sk-toggleable__label-arrow\">columntransformer-2: ColumnTransformer</label><div class=\"sk-toggleable__content\"><pre>ColumnTransformer(remainder=&#x27;passthrough&#x27;,\n",
       "                  transformers=[(&#x27;item_fat_content_ordinal&#x27;,\n",
       "                                 OrdinalEncoder(categories=[[&#x27;Low Fat&#x27;,\n",
       "                                                             &#x27;Regular&#x27;]]),\n",
       "                                 [2]),\n",
       "                                (&#x27;outlet_size&#x27;,\n",
       "                                 OrdinalEncoder(categories=[[&#x27;Small&#x27;, &#x27;Medium&#x27;,\n",
       "                                                             &#x27;High&#x27;]]),\n",
       "                                 [1]),\n",
       "                                (&#x27;outlet_location_type&#x27;,\n",
       "                                 OrdinalEncoder(categories=[[&#x27;Tier 1&#x27;, &#x27;Tier 2&#x27;,\n",
       "                                                             &#x27;Tier 3&#x27;]]),\n",
       "                                 [5]),\n",
       "                                (&#x27;outlet_Type&#x27;,\n",
       "                                 OrdinalEncoder(categories=[[&#x27;Grocery Store&#x27;,\n",
       "                                                             &#x27;Supermarket &#x27;\n",
       "                                                             &#x27;Type1&#x27;,\n",
       "                                                             &#x27;Supermarket &#x27;\n",
       "                                                             &#x27;Type2&#x27;,\n",
       "                                                             &#x27;Supermarket &#x27;\n",
       "                                                             &#x27;Type3&#x27;]]),\n",
       "                                 [6])])</pre></div></div></div><div class=\"sk-parallel\"><div class=\"sk-parallel-item\"><div class=\"sk-item\"><div class=\"sk-label-container\"><div class=\"sk-label sk-toggleable\"><input class=\"sk-toggleable__control sk-hidden--visually\" id=\"ccf6de7a-84cc-4cb8-b8d8-389133367d42\" type=\"checkbox\" ><label for=\"ccf6de7a-84cc-4cb8-b8d8-389133367d42\" class=\"sk-toggleable__label sk-toggleable__label-arrow\">item_fat_content_ordinal</label><div class=\"sk-toggleable__content\"><pre>[2]</pre></div></div></div><div class=\"sk-serial\"><div class=\"sk-item\"><div class=\"sk-estimator sk-toggleable\"><input class=\"sk-toggleable__control sk-hidden--visually\" id=\"99a5ec95-438a-45d3-81f2-c67dc691cab7\" type=\"checkbox\" ><label for=\"99a5ec95-438a-45d3-81f2-c67dc691cab7\" class=\"sk-toggleable__label sk-toggleable__label-arrow\">OrdinalEncoder</label><div class=\"sk-toggleable__content\"><pre>OrdinalEncoder(categories=[[&#x27;Low Fat&#x27;, &#x27;Regular&#x27;]])</pre></div></div></div></div></div></div><div class=\"sk-parallel-item\"><div class=\"sk-item\"><div class=\"sk-label-container\"><div class=\"sk-label sk-toggleable\"><input class=\"sk-toggleable__control sk-hidden--visually\" id=\"b8080035-c071-4e29-bd00-be1dd2e9ab55\" type=\"checkbox\" ><label for=\"b8080035-c071-4e29-bd00-be1dd2e9ab55\" class=\"sk-toggleable__label sk-toggleable__label-arrow\">outlet_size</label><div class=\"sk-toggleable__content\"><pre>[1]</pre></div></div></div><div class=\"sk-serial\"><div class=\"sk-item\"><div class=\"sk-estimator sk-toggleable\"><input class=\"sk-toggleable__control sk-hidden--visually\" id=\"3b9f21d3-0ca2-4326-a384-a2e77c9db7f7\" type=\"checkbox\" ><label for=\"3b9f21d3-0ca2-4326-a384-a2e77c9db7f7\" class=\"sk-toggleable__label sk-toggleable__label-arrow\">OrdinalEncoder</label><div class=\"sk-toggleable__content\"><pre>OrdinalEncoder(categories=[[&#x27;Small&#x27;, &#x27;Medium&#x27;, &#x27;High&#x27;]])</pre></div></div></div></div></div></div><div class=\"sk-parallel-item\"><div class=\"sk-item\"><div class=\"sk-label-container\"><div class=\"sk-label sk-toggleable\"><input class=\"sk-toggleable__control sk-hidden--visually\" id=\"b722061a-405a-43cd-a8dd-5c00b6ac5434\" type=\"checkbox\" ><label for=\"b722061a-405a-43cd-a8dd-5c00b6ac5434\" class=\"sk-toggleable__label sk-toggleable__label-arrow\">outlet_location_type</label><div class=\"sk-toggleable__content\"><pre>[5]</pre></div></div></div><div class=\"sk-serial\"><div class=\"sk-item\"><div class=\"sk-estimator sk-toggleable\"><input class=\"sk-toggleable__control sk-hidden--visually\" id=\"f8379f57-dad1-4413-8a2e-fa494a44ea5f\" type=\"checkbox\" ><label for=\"f8379f57-dad1-4413-8a2e-fa494a44ea5f\" class=\"sk-toggleable__label sk-toggleable__label-arrow\">OrdinalEncoder</label><div class=\"sk-toggleable__content\"><pre>OrdinalEncoder(categories=[[&#x27;Tier 1&#x27;, &#x27;Tier 2&#x27;, &#x27;Tier 3&#x27;]])</pre></div></div></div></div></div></div><div class=\"sk-parallel-item\"><div class=\"sk-item\"><div class=\"sk-label-container\"><div class=\"sk-label sk-toggleable\"><input class=\"sk-toggleable__control sk-hidden--visually\" id=\"119abeb2-d69d-4f22-b509-ba41db4f2822\" type=\"checkbox\" ><label for=\"119abeb2-d69d-4f22-b509-ba41db4f2822\" class=\"sk-toggleable__label sk-toggleable__label-arrow\">outlet_Type</label><div class=\"sk-toggleable__content\"><pre>[6]</pre></div></div></div><div class=\"sk-serial\"><div class=\"sk-item\"><div class=\"sk-estimator sk-toggleable\"><input class=\"sk-toggleable__control sk-hidden--visually\" id=\"0cf11c35-a42e-4661-a399-94ca4851e7ca\" type=\"checkbox\" ><label for=\"0cf11c35-a42e-4661-a399-94ca4851e7ca\" class=\"sk-toggleable__label sk-toggleable__label-arrow\">OrdinalEncoder</label><div class=\"sk-toggleable__content\"><pre>OrdinalEncoder(categories=[[&#x27;Grocery Store&#x27;, &#x27;Supermarket Type1&#x27;,\n",
       "                            &#x27;Supermarket Type2&#x27;, &#x27;Supermarket Type3&#x27;]])</pre></div></div></div></div></div></div><div class=\"sk-parallel-item\"><div class=\"sk-item\"><div class=\"sk-label-container\"><div class=\"sk-label sk-toggleable\"><input class=\"sk-toggleable__control sk-hidden--visually\" id=\"9e275ed8-4bae-426e-b9cb-7e0ca45b682b\" type=\"checkbox\" ><label for=\"9e275ed8-4bae-426e-b9cb-7e0ca45b682b\" class=\"sk-toggleable__label sk-toggleable__label-arrow\">remainder</label><div class=\"sk-toggleable__content\"><pre>[0, 3, 4]</pre></div></div></div><div class=\"sk-serial\"><div class=\"sk-item\"><div class=\"sk-estimator sk-toggleable\"><input class=\"sk-toggleable__control sk-hidden--visually\" id=\"16e3f8a3-ce72-45c8-ab92-e2e997e3933d\" type=\"checkbox\" ><label for=\"16e3f8a3-ce72-45c8-ab92-e2e997e3933d\" class=\"sk-toggleable__label sk-toggleable__label-arrow\">passthrough</label><div class=\"sk-toggleable__content\"><pre>passthrough</pre></div></div></div></div></div></div></div></div><div class=\"sk-item sk-dashed-wrapped\"><div class=\"sk-label-container\"><div class=\"sk-label sk-toggleable\"><input class=\"sk-toggleable__control sk-hidden--visually\" id=\"f8348711-2582-42ca-8925-463413132c43\" type=\"checkbox\" ><label for=\"f8348711-2582-42ca-8925-463413132c43\" class=\"sk-toggleable__label sk-toggleable__label-arrow\">columntransformer-3: ColumnTransformer</label><div class=\"sk-toggleable__content\"><pre>ColumnTransformer(transformers=[(&#x27;scale&#x27;, StandardScaler(), slice(0, 8, None))])</pre></div></div></div><div class=\"sk-parallel\"><div class=\"sk-parallel-item\"><div class=\"sk-item\"><div class=\"sk-label-container\"><div class=\"sk-label sk-toggleable\"><input class=\"sk-toggleable__control sk-hidden--visually\" id=\"2d7f36bd-533a-45a5-ab15-081929804970\" type=\"checkbox\" ><label for=\"2d7f36bd-533a-45a5-ab15-081929804970\" class=\"sk-toggleable__label sk-toggleable__label-arrow\">scale</label><div class=\"sk-toggleable__content\"><pre>slice(0, 8, None)</pre></div></div></div><div class=\"sk-serial\"><div class=\"sk-item\"><div class=\"sk-estimator sk-toggleable\"><input class=\"sk-toggleable__control sk-hidden--visually\" id=\"1c161aa5-cd6a-46bf-bf15-e6c8375c9697\" type=\"checkbox\" ><label for=\"1c161aa5-cd6a-46bf-bf15-e6c8375c9697\" class=\"sk-toggleable__label sk-toggleable__label-arrow\">StandardScaler</label><div class=\"sk-toggleable__content\"><pre>StandardScaler()</pre></div></div></div></div></div></div></div></div><div class=\"sk-item\"><div class=\"sk-estimator sk-toggleable\"><input class=\"sk-toggleable__control sk-hidden--visually\" id=\"228ce8cf-3082-4802-a0b9-2e50b532c105\" type=\"checkbox\" ><label for=\"228ce8cf-3082-4802-a0b9-2e50b532c105\" class=\"sk-toggleable__label sk-toggleable__label-arrow\">GradientBoostingRegressor</label><div class=\"sk-toggleable__content\"><pre>GradientBoostingRegressor(learning_rate=0.01, max_depth=6, n_estimators=300)</pre></div></div></div></div></div></div></div>"
      ],
      "text/plain": [
       "Pipeline(steps=[('columntransformer-1',\n",
       "                 ColumnTransformer(remainder='passthrough',\n",
       "                                   transformers=[('impute_item_weight',\n",
       "                                                  SimpleImputer(), [0]),\n",
       "                                                 ('impute_outlet_size',\n",
       "                                                  SimpleImputer(strategy='most_frequent'),\n",
       "                                                  [4])])),\n",
       "                ('columntransformer-2',\n",
       "                 ColumnTransformer(remainder='passthrough',\n",
       "                                   transformers=[('item_fat_content_ordinal',\n",
       "                                                  OrdinalEncoder(categories=[['Low '\n",
       "                                                                              'F...\n",
       "                                                                              '3']]),\n",
       "                                                  [5]),\n",
       "                                                 ('outlet_Type',\n",
       "                                                  OrdinalEncoder(categories=[['Grocery '\n",
       "                                                                              'Store',\n",
       "                                                                              'Supermarket '\n",
       "                                                                              'Type1',\n",
       "                                                                              'Supermarket '\n",
       "                                                                              'Type2',\n",
       "                                                                              'Supermarket '\n",
       "                                                                              'Type3']]),\n",
       "                                                  [6])])),\n",
       "                ('columntransformer-3',\n",
       "                 ColumnTransformer(transformers=[('scale', StandardScaler(),\n",
       "                                                  slice(0, 8, None))])),\n",
       "                ('gradientboostingregressor',\n",
       "                 GradientBoostingRegressor(learning_rate=0.01, max_depth=6,\n",
       "                                           n_estimators=300))])"
      ]
     },
     "execution_count": 238,
     "metadata": {},
     "output_type": "execute_result"
    }
   ],
   "source": [
    "pipeline.fit(X_train , y_train)"
   ]
  },
  {
   "cell_type": "code",
   "execution_count": 239,
   "id": "d7f038d0",
   "metadata": {},
   "outputs": [
    {
     "data": {
      "text/plain": [
       "0.5963511206443635"
      ]
     },
     "execution_count": 239,
     "metadata": {},
     "output_type": "execute_result"
    }
   ],
   "source": [
    "y_pred = pipeline.predict(X_test) \n",
    "GradientBoostingRegressor = r2_score(y_test , y_pred) \n",
    "GradientBoostingRegressor"
   ]
  },
  {
   "cell_type": "code",
   "execution_count": 240,
   "id": "567c1463",
   "metadata": {},
   "outputs": [],
   "source": [
    "tranf5 = RandomForestRegressor(n_estimators = 300 , max_depth = 6 )"
   ]
  },
  {
   "cell_type": "code",
   "execution_count": 241,
   "id": "09b27ec7",
   "metadata": {},
   "outputs": [],
   "source": [
    "pipeline = make_pipeline(tranf1 , tranf2 , tranf_scaling  , tranf5) "
   ]
  },
  {
   "cell_type": "code",
   "execution_count": 242,
   "id": "70607032",
   "metadata": {},
   "outputs": [
    {
     "name": "stderr",
     "output_type": "stream",
     "text": [
      "C:\\Users\\Levi\\anaconda3\\lib\\site-packages\\sklearn\\pipeline.py:394: DataConversionWarning: A column-vector y was passed when a 1d array was expected. Please change the shape of y to (n_samples,), for example using ravel().\n",
      "  self._final_estimator.fit(Xt, y, **fit_params_last_step)\n"
     ]
    },
    {
     "data": {
      "text/plain": [
       "0.598787662720969"
      ]
     },
     "execution_count": 242,
     "metadata": {},
     "output_type": "execute_result"
    }
   ],
   "source": [
    "pipeline.fit(X_train , y_train) \n",
    "y_pred = pipeline.predict(X_test) \n",
    "RandomForestRegressorr2_score  =r2_score(y_test , y_pred) \n",
    "RandomForestRegressorr2_score"
   ]
  },
  {
   "cell_type": "code",
   "execution_count": null,
   "id": "1ba920f2",
   "metadata": {},
   "outputs": [],
   "source": []
  },
  {
   "cell_type": "code",
   "execution_count": 243,
   "id": "7e276a50",
   "metadata": {},
   "outputs": [
    {
     "data": {
      "text/plain": [
       "0.5105845447219609"
      ]
     },
     "execution_count": 243,
     "metadata": {},
     "output_type": "execute_result"
    }
   ],
   "source": [
    "linear_regression_r2_score"
   ]
  },
  {
   "cell_type": "code",
   "execution_count": 244,
   "id": "8aec8b6d",
   "metadata": {},
   "outputs": [
    {
     "data": {
      "text/plain": [
       "0.5485631466974867"
      ]
     },
     "execution_count": 244,
     "metadata": {},
     "output_type": "execute_result"
    }
   ],
   "source": [
    "AdaBoostRegression_r2_score"
   ]
  },
  {
   "cell_type": "code",
   "execution_count": 245,
   "id": "9ff15eaa",
   "metadata": {},
   "outputs": [
    {
     "data": {
      "text/plain": [
       "0.5963511206443635"
      ]
     },
     "execution_count": 245,
     "metadata": {},
     "output_type": "execute_result"
    }
   ],
   "source": [
    "GradientBoostingRegressor"
   ]
  },
  {
   "cell_type": "code",
   "execution_count": 247,
   "id": "64e9cb11",
   "metadata": {},
   "outputs": [
    {
     "data": {
      "text/plain": [
       "0.598787662720969"
      ]
     },
     "execution_count": 247,
     "metadata": {},
     "output_type": "execute_result"
    }
   ],
   "source": [
    "RandomForestRegressorr2_score"
   ]
  },
  {
   "cell_type": "code",
   "execution_count": 246,
   "id": "48714fe6",
   "metadata": {},
   "outputs": [
    {
     "data": {
      "text/plain": [
       "0.5106448283603586"
      ]
     },
     "execution_count": 246,
     "metadata": {},
     "output_type": "execute_result"
    }
   ],
   "source": [
    "ridge_regression_r2_score"
   ]
  },
  {
   "cell_type": "markdown",
   "id": "c2558db5",
   "metadata": {},
   "source": [
    "# Exporting the Model"
   ]
  },
  {
   "cell_type": "code",
   "execution_count": 250,
   "id": "076f47db",
   "metadata": {},
   "outputs": [],
   "source": [
    "import pickle"
   ]
  },
  {
   "cell_type": "code",
   "execution_count": 251,
   "id": "81a19787",
   "metadata": {},
   "outputs": [],
   "source": [
    "pickle.dump(pipeline, open('model.pkl', 'wb'))"
   ]
  },
  {
   "cell_type": "code",
   "execution_count": 252,
   "id": "d7d88126",
   "metadata": {},
   "outputs": [],
   "source": [
    "model = pickle.load(open('model.pkl', 'rb')) "
   ]
  },
  {
   "cell_type": "code",
   "execution_count": null,
   "id": "b29eca22",
   "metadata": {},
   "outputs": [],
   "source": []
  },
  {
   "cell_type": "code",
   "execution_count": null,
   "id": "de33a0ec",
   "metadata": {},
   "outputs": [],
   "source": []
  },
  {
   "cell_type": "code",
   "execution_count": 253,
   "id": "2b09d5f2",
   "metadata": {},
   "outputs": [
    {
     "name": "stderr",
     "output_type": "stream",
     "text": [
      "C:\\Users\\Levi\\anaconda3\\lib\\site-packages\\sklearn\\pipeline.py:394: DataConversionWarning: A column-vector y was passed when a 1d array was expected. Please change the shape of y to (n_samples,), for example using ravel().\n",
      "  self._final_estimator.fit(Xt, y, **fit_params_last_step)\n"
     ]
    },
    {
     "data": {
      "text/html": [
       "<style>#sk-0adfae67-4dc3-42d4-8e48-ed4387b9b237 {color: black;background-color: white;}#sk-0adfae67-4dc3-42d4-8e48-ed4387b9b237 pre{padding: 0;}#sk-0adfae67-4dc3-42d4-8e48-ed4387b9b237 div.sk-toggleable {background-color: white;}#sk-0adfae67-4dc3-42d4-8e48-ed4387b9b237 label.sk-toggleable__label {cursor: pointer;display: block;width: 100%;margin-bottom: 0;padding: 0.3em;box-sizing: border-box;text-align: center;}#sk-0adfae67-4dc3-42d4-8e48-ed4387b9b237 label.sk-toggleable__label-arrow:before {content: \"▸\";float: left;margin-right: 0.25em;color: #696969;}#sk-0adfae67-4dc3-42d4-8e48-ed4387b9b237 label.sk-toggleable__label-arrow:hover:before {color: black;}#sk-0adfae67-4dc3-42d4-8e48-ed4387b9b237 div.sk-estimator:hover label.sk-toggleable__label-arrow:before {color: black;}#sk-0adfae67-4dc3-42d4-8e48-ed4387b9b237 div.sk-toggleable__content {max-height: 0;max-width: 0;overflow: hidden;text-align: left;background-color: #f0f8ff;}#sk-0adfae67-4dc3-42d4-8e48-ed4387b9b237 div.sk-toggleable__content pre {margin: 0.2em;color: black;border-radius: 0.25em;background-color: #f0f8ff;}#sk-0adfae67-4dc3-42d4-8e48-ed4387b9b237 input.sk-toggleable__control:checked~div.sk-toggleable__content {max-height: 200px;max-width: 100%;overflow: auto;}#sk-0adfae67-4dc3-42d4-8e48-ed4387b9b237 input.sk-toggleable__control:checked~label.sk-toggleable__label-arrow:before {content: \"▾\";}#sk-0adfae67-4dc3-42d4-8e48-ed4387b9b237 div.sk-estimator input.sk-toggleable__control:checked~label.sk-toggleable__label {background-color: #d4ebff;}#sk-0adfae67-4dc3-42d4-8e48-ed4387b9b237 div.sk-label input.sk-toggleable__control:checked~label.sk-toggleable__label {background-color: #d4ebff;}#sk-0adfae67-4dc3-42d4-8e48-ed4387b9b237 input.sk-hidden--visually {border: 0;clip: rect(1px 1px 1px 1px);clip: rect(1px, 1px, 1px, 1px);height: 1px;margin: -1px;overflow: hidden;padding: 0;position: absolute;width: 1px;}#sk-0adfae67-4dc3-42d4-8e48-ed4387b9b237 div.sk-estimator {font-family: monospace;background-color: #f0f8ff;border: 1px dotted black;border-radius: 0.25em;box-sizing: border-box;margin-bottom: 0.5em;}#sk-0adfae67-4dc3-42d4-8e48-ed4387b9b237 div.sk-estimator:hover {background-color: #d4ebff;}#sk-0adfae67-4dc3-42d4-8e48-ed4387b9b237 div.sk-parallel-item::after {content: \"\";width: 100%;border-bottom: 1px solid gray;flex-grow: 1;}#sk-0adfae67-4dc3-42d4-8e48-ed4387b9b237 div.sk-label:hover label.sk-toggleable__label {background-color: #d4ebff;}#sk-0adfae67-4dc3-42d4-8e48-ed4387b9b237 div.sk-serial::before {content: \"\";position: absolute;border-left: 1px solid gray;box-sizing: border-box;top: 2em;bottom: 0;left: 50%;}#sk-0adfae67-4dc3-42d4-8e48-ed4387b9b237 div.sk-serial {display: flex;flex-direction: column;align-items: center;background-color: white;padding-right: 0.2em;padding-left: 0.2em;}#sk-0adfae67-4dc3-42d4-8e48-ed4387b9b237 div.sk-item {z-index: 1;}#sk-0adfae67-4dc3-42d4-8e48-ed4387b9b237 div.sk-parallel {display: flex;align-items: stretch;justify-content: center;background-color: white;}#sk-0adfae67-4dc3-42d4-8e48-ed4387b9b237 div.sk-parallel::before {content: \"\";position: absolute;border-left: 1px solid gray;box-sizing: border-box;top: 2em;bottom: 0;left: 50%;}#sk-0adfae67-4dc3-42d4-8e48-ed4387b9b237 div.sk-parallel-item {display: flex;flex-direction: column;position: relative;background-color: white;}#sk-0adfae67-4dc3-42d4-8e48-ed4387b9b237 div.sk-parallel-item:first-child::after {align-self: flex-end;width: 50%;}#sk-0adfae67-4dc3-42d4-8e48-ed4387b9b237 div.sk-parallel-item:last-child::after {align-self: flex-start;width: 50%;}#sk-0adfae67-4dc3-42d4-8e48-ed4387b9b237 div.sk-parallel-item:only-child::after {width: 0;}#sk-0adfae67-4dc3-42d4-8e48-ed4387b9b237 div.sk-dashed-wrapped {border: 1px dashed gray;margin: 0 0.4em 0.5em 0.4em;box-sizing: border-box;padding-bottom: 0.4em;background-color: white;position: relative;}#sk-0adfae67-4dc3-42d4-8e48-ed4387b9b237 div.sk-label label {font-family: monospace;font-weight: bold;background-color: white;display: inline-block;line-height: 1.2em;}#sk-0adfae67-4dc3-42d4-8e48-ed4387b9b237 div.sk-label-container {position: relative;z-index: 2;text-align: center;}#sk-0adfae67-4dc3-42d4-8e48-ed4387b9b237 div.sk-container {/* jupyter's `normalize.less` sets `[hidden] { display: none; }` but bootstrap.min.css set `[hidden] { display: none !important; }` so we also need the `!important` here to be able to override the default hidden behavior on the sphinx rendered scikit-learn.org. See: https://github.com/scikit-learn/scikit-learn/issues/21755 */display: inline-block !important;position: relative;}#sk-0adfae67-4dc3-42d4-8e48-ed4387b9b237 div.sk-text-repr-fallback {display: none;}</style><div id=\"sk-0adfae67-4dc3-42d4-8e48-ed4387b9b237\" class=\"sk-top-container\"><div class=\"sk-text-repr-fallback\"><pre>Pipeline(steps=[(&#x27;columntransformer-1&#x27;,\n",
       "                 ColumnTransformer(remainder=&#x27;passthrough&#x27;,\n",
       "                                   transformers=[(&#x27;impute_item_weight&#x27;,\n",
       "                                                  SimpleImputer(), [0]),\n",
       "                                                 (&#x27;impute_outlet_size&#x27;,\n",
       "                                                  SimpleImputer(strategy=&#x27;most_frequent&#x27;),\n",
       "                                                  [4])])),\n",
       "                (&#x27;columntransformer-2&#x27;,\n",
       "                 ColumnTransformer(remainder=&#x27;passthrough&#x27;,\n",
       "                                   transformers=[(&#x27;item_fat_content_ordinal&#x27;,\n",
       "                                                  OrdinalEncoder(categories=[[&#x27;Low &#x27;\n",
       "                                                                              &#x27;F...\n",
       "                                                  OrdinalEncoder(categories=[[&#x27;Tier &#x27;\n",
       "                                                                              &#x27;1&#x27;,\n",
       "                                                                              &#x27;Tier &#x27;\n",
       "                                                                              &#x27;2&#x27;,\n",
       "                                                                              &#x27;Tier &#x27;\n",
       "                                                                              &#x27;3&#x27;]]),\n",
       "                                                  [5]),\n",
       "                                                 (&#x27;outlet_Type&#x27;,\n",
       "                                                  OrdinalEncoder(categories=[[&#x27;Grocery &#x27;\n",
       "                                                                              &#x27;Store&#x27;,\n",
       "                                                                              &#x27;Supermarket &#x27;\n",
       "                                                                              &#x27;Type1&#x27;,\n",
       "                                                                              &#x27;Supermarket &#x27;\n",
       "                                                                              &#x27;Type2&#x27;,\n",
       "                                                                              &#x27;Supermarket &#x27;\n",
       "                                                                              &#x27;Type3&#x27;]]),\n",
       "                                                  [6])])),\n",
       "                (&#x27;columntransformer-3&#x27;,\n",
       "                 ColumnTransformer(transformers=[(&#x27;scale&#x27;, StandardScaler(),\n",
       "                                                  slice(0, 8, None))])),\n",
       "                (&#x27;randomforestregressor&#x27;,\n",
       "                 RandomForestRegressor(max_depth=6, n_estimators=300))])</pre><b>Please rerun this cell to show the HTML repr or trust the notebook.</b></div><div class=\"sk-container\" hidden><div class=\"sk-item sk-dashed-wrapped\"><div class=\"sk-label-container\"><div class=\"sk-label sk-toggleable\"><input class=\"sk-toggleable__control sk-hidden--visually\" id=\"856cef84-444d-47e2-893e-d77c548ce160\" type=\"checkbox\" ><label for=\"856cef84-444d-47e2-893e-d77c548ce160\" class=\"sk-toggleable__label sk-toggleable__label-arrow\">Pipeline</label><div class=\"sk-toggleable__content\"><pre>Pipeline(steps=[(&#x27;columntransformer-1&#x27;,\n",
       "                 ColumnTransformer(remainder=&#x27;passthrough&#x27;,\n",
       "                                   transformers=[(&#x27;impute_item_weight&#x27;,\n",
       "                                                  SimpleImputer(), [0]),\n",
       "                                                 (&#x27;impute_outlet_size&#x27;,\n",
       "                                                  SimpleImputer(strategy=&#x27;most_frequent&#x27;),\n",
       "                                                  [4])])),\n",
       "                (&#x27;columntransformer-2&#x27;,\n",
       "                 ColumnTransformer(remainder=&#x27;passthrough&#x27;,\n",
       "                                   transformers=[(&#x27;item_fat_content_ordinal&#x27;,\n",
       "                                                  OrdinalEncoder(categories=[[&#x27;Low &#x27;\n",
       "                                                                              &#x27;F...\n",
       "                                                  OrdinalEncoder(categories=[[&#x27;Tier &#x27;\n",
       "                                                                              &#x27;1&#x27;,\n",
       "                                                                              &#x27;Tier &#x27;\n",
       "                                                                              &#x27;2&#x27;,\n",
       "                                                                              &#x27;Tier &#x27;\n",
       "                                                                              &#x27;3&#x27;]]),\n",
       "                                                  [5]),\n",
       "                                                 (&#x27;outlet_Type&#x27;,\n",
       "                                                  OrdinalEncoder(categories=[[&#x27;Grocery &#x27;\n",
       "                                                                              &#x27;Store&#x27;,\n",
       "                                                                              &#x27;Supermarket &#x27;\n",
       "                                                                              &#x27;Type1&#x27;,\n",
       "                                                                              &#x27;Supermarket &#x27;\n",
       "                                                                              &#x27;Type2&#x27;,\n",
       "                                                                              &#x27;Supermarket &#x27;\n",
       "                                                                              &#x27;Type3&#x27;]]),\n",
       "                                                  [6])])),\n",
       "                (&#x27;columntransformer-3&#x27;,\n",
       "                 ColumnTransformer(transformers=[(&#x27;scale&#x27;, StandardScaler(),\n",
       "                                                  slice(0, 8, None))])),\n",
       "                (&#x27;randomforestregressor&#x27;,\n",
       "                 RandomForestRegressor(max_depth=6, n_estimators=300))])</pre></div></div></div><div class=\"sk-serial\"><div class=\"sk-item sk-dashed-wrapped\"><div class=\"sk-label-container\"><div class=\"sk-label sk-toggleable\"><input class=\"sk-toggleable__control sk-hidden--visually\" id=\"5e5562a4-08e6-4645-b46c-00f94821ccd2\" type=\"checkbox\" ><label for=\"5e5562a4-08e6-4645-b46c-00f94821ccd2\" class=\"sk-toggleable__label sk-toggleable__label-arrow\">columntransformer-1: ColumnTransformer</label><div class=\"sk-toggleable__content\"><pre>ColumnTransformer(remainder=&#x27;passthrough&#x27;,\n",
       "                  transformers=[(&#x27;impute_item_weight&#x27;, SimpleImputer(), [0]),\n",
       "                                (&#x27;impute_outlet_size&#x27;,\n",
       "                                 SimpleImputer(strategy=&#x27;most_frequent&#x27;),\n",
       "                                 [4])])</pre></div></div></div><div class=\"sk-parallel\"><div class=\"sk-parallel-item\"><div class=\"sk-item\"><div class=\"sk-label-container\"><div class=\"sk-label sk-toggleable\"><input class=\"sk-toggleable__control sk-hidden--visually\" id=\"c8b907ba-6ce0-42f5-a490-1c3ddce34e24\" type=\"checkbox\" ><label for=\"c8b907ba-6ce0-42f5-a490-1c3ddce34e24\" class=\"sk-toggleable__label sk-toggleable__label-arrow\">impute_item_weight</label><div class=\"sk-toggleable__content\"><pre>[0]</pre></div></div></div><div class=\"sk-serial\"><div class=\"sk-item\"><div class=\"sk-estimator sk-toggleable\"><input class=\"sk-toggleable__control sk-hidden--visually\" id=\"caa92cc3-ecd1-4530-b5bf-a12bc6638949\" type=\"checkbox\" ><label for=\"caa92cc3-ecd1-4530-b5bf-a12bc6638949\" class=\"sk-toggleable__label sk-toggleable__label-arrow\">SimpleImputer</label><div class=\"sk-toggleable__content\"><pre>SimpleImputer()</pre></div></div></div></div></div></div><div class=\"sk-parallel-item\"><div class=\"sk-item\"><div class=\"sk-label-container\"><div class=\"sk-label sk-toggleable\"><input class=\"sk-toggleable__control sk-hidden--visually\" id=\"91016585-1c27-4e6e-8b48-1826eafdc0f9\" type=\"checkbox\" ><label for=\"91016585-1c27-4e6e-8b48-1826eafdc0f9\" class=\"sk-toggleable__label sk-toggleable__label-arrow\">impute_outlet_size</label><div class=\"sk-toggleable__content\"><pre>[4]</pre></div></div></div><div class=\"sk-serial\"><div class=\"sk-item\"><div class=\"sk-estimator sk-toggleable\"><input class=\"sk-toggleable__control sk-hidden--visually\" id=\"37f39b4f-2982-41b3-bc25-261183d027f3\" type=\"checkbox\" ><label for=\"37f39b4f-2982-41b3-bc25-261183d027f3\" class=\"sk-toggleable__label sk-toggleable__label-arrow\">SimpleImputer</label><div class=\"sk-toggleable__content\"><pre>SimpleImputer(strategy=&#x27;most_frequent&#x27;)</pre></div></div></div></div></div></div><div class=\"sk-parallel-item\"><div class=\"sk-item\"><div class=\"sk-label-container\"><div class=\"sk-label sk-toggleable\"><input class=\"sk-toggleable__control sk-hidden--visually\" id=\"bb6908a3-835f-4225-b217-f361167b0bc7\" type=\"checkbox\" ><label for=\"bb6908a3-835f-4225-b217-f361167b0bc7\" class=\"sk-toggleable__label sk-toggleable__label-arrow\">remainder</label><div class=\"sk-toggleable__content\"><pre>[1, 2, 3, 5, 6]</pre></div></div></div><div class=\"sk-serial\"><div class=\"sk-item\"><div class=\"sk-estimator sk-toggleable\"><input class=\"sk-toggleable__control sk-hidden--visually\" id=\"7339a8b7-4f3f-4f59-abda-e97527fd5005\" type=\"checkbox\" ><label for=\"7339a8b7-4f3f-4f59-abda-e97527fd5005\" class=\"sk-toggleable__label sk-toggleable__label-arrow\">passthrough</label><div class=\"sk-toggleable__content\"><pre>passthrough</pre></div></div></div></div></div></div></div></div><div class=\"sk-item sk-dashed-wrapped\"><div class=\"sk-label-container\"><div class=\"sk-label sk-toggleable\"><input class=\"sk-toggleable__control sk-hidden--visually\" id=\"740b94e8-74f9-4cad-959a-52de6416542f\" type=\"checkbox\" ><label for=\"740b94e8-74f9-4cad-959a-52de6416542f\" class=\"sk-toggleable__label sk-toggleable__label-arrow\">columntransformer-2: ColumnTransformer</label><div class=\"sk-toggleable__content\"><pre>ColumnTransformer(remainder=&#x27;passthrough&#x27;,\n",
       "                  transformers=[(&#x27;item_fat_content_ordinal&#x27;,\n",
       "                                 OrdinalEncoder(categories=[[&#x27;Low Fat&#x27;,\n",
       "                                                             &#x27;Regular&#x27;]]),\n",
       "                                 [2]),\n",
       "                                (&#x27;outlet_size&#x27;,\n",
       "                                 OrdinalEncoder(categories=[[&#x27;Small&#x27;, &#x27;Medium&#x27;,\n",
       "                                                             &#x27;High&#x27;]]),\n",
       "                                 [1]),\n",
       "                                (&#x27;outlet_location_type&#x27;,\n",
       "                                 OrdinalEncoder(categories=[[&#x27;Tier 1&#x27;, &#x27;Tier 2&#x27;,\n",
       "                                                             &#x27;Tier 3&#x27;]]),\n",
       "                                 [5]),\n",
       "                                (&#x27;outlet_Type&#x27;,\n",
       "                                 OrdinalEncoder(categories=[[&#x27;Grocery Store&#x27;,\n",
       "                                                             &#x27;Supermarket &#x27;\n",
       "                                                             &#x27;Type1&#x27;,\n",
       "                                                             &#x27;Supermarket &#x27;\n",
       "                                                             &#x27;Type2&#x27;,\n",
       "                                                             &#x27;Supermarket &#x27;\n",
       "                                                             &#x27;Type3&#x27;]]),\n",
       "                                 [6])])</pre></div></div></div><div class=\"sk-parallel\"><div class=\"sk-parallel-item\"><div class=\"sk-item\"><div class=\"sk-label-container\"><div class=\"sk-label sk-toggleable\"><input class=\"sk-toggleable__control sk-hidden--visually\" id=\"f7d6343f-2072-477e-a40a-08c4968d180a\" type=\"checkbox\" ><label for=\"f7d6343f-2072-477e-a40a-08c4968d180a\" class=\"sk-toggleable__label sk-toggleable__label-arrow\">item_fat_content_ordinal</label><div class=\"sk-toggleable__content\"><pre>[2]</pre></div></div></div><div class=\"sk-serial\"><div class=\"sk-item\"><div class=\"sk-estimator sk-toggleable\"><input class=\"sk-toggleable__control sk-hidden--visually\" id=\"8dc18fd6-5ccc-4347-83a7-2b4aa03b845f\" type=\"checkbox\" ><label for=\"8dc18fd6-5ccc-4347-83a7-2b4aa03b845f\" class=\"sk-toggleable__label sk-toggleable__label-arrow\">OrdinalEncoder</label><div class=\"sk-toggleable__content\"><pre>OrdinalEncoder(categories=[[&#x27;Low Fat&#x27;, &#x27;Regular&#x27;]])</pre></div></div></div></div></div></div><div class=\"sk-parallel-item\"><div class=\"sk-item\"><div class=\"sk-label-container\"><div class=\"sk-label sk-toggleable\"><input class=\"sk-toggleable__control sk-hidden--visually\" id=\"3d9c7f1f-672d-4fc7-b941-88281064d334\" type=\"checkbox\" ><label for=\"3d9c7f1f-672d-4fc7-b941-88281064d334\" class=\"sk-toggleable__label sk-toggleable__label-arrow\">outlet_size</label><div class=\"sk-toggleable__content\"><pre>[1]</pre></div></div></div><div class=\"sk-serial\"><div class=\"sk-item\"><div class=\"sk-estimator sk-toggleable\"><input class=\"sk-toggleable__control sk-hidden--visually\" id=\"dcac609f-0078-483a-aded-2f40126cc1f0\" type=\"checkbox\" ><label for=\"dcac609f-0078-483a-aded-2f40126cc1f0\" class=\"sk-toggleable__label sk-toggleable__label-arrow\">OrdinalEncoder</label><div class=\"sk-toggleable__content\"><pre>OrdinalEncoder(categories=[[&#x27;Small&#x27;, &#x27;Medium&#x27;, &#x27;High&#x27;]])</pre></div></div></div></div></div></div><div class=\"sk-parallel-item\"><div class=\"sk-item\"><div class=\"sk-label-container\"><div class=\"sk-label sk-toggleable\"><input class=\"sk-toggleable__control sk-hidden--visually\" id=\"d44e722c-2b6f-4265-af9e-77dfeb19ce0c\" type=\"checkbox\" ><label for=\"d44e722c-2b6f-4265-af9e-77dfeb19ce0c\" class=\"sk-toggleable__label sk-toggleable__label-arrow\">outlet_location_type</label><div class=\"sk-toggleable__content\"><pre>[5]</pre></div></div></div><div class=\"sk-serial\"><div class=\"sk-item\"><div class=\"sk-estimator sk-toggleable\"><input class=\"sk-toggleable__control sk-hidden--visually\" id=\"cc27ff02-3b14-4ae1-b9c5-85dd77cc41ba\" type=\"checkbox\" ><label for=\"cc27ff02-3b14-4ae1-b9c5-85dd77cc41ba\" class=\"sk-toggleable__label sk-toggleable__label-arrow\">OrdinalEncoder</label><div class=\"sk-toggleable__content\"><pre>OrdinalEncoder(categories=[[&#x27;Tier 1&#x27;, &#x27;Tier 2&#x27;, &#x27;Tier 3&#x27;]])</pre></div></div></div></div></div></div><div class=\"sk-parallel-item\"><div class=\"sk-item\"><div class=\"sk-label-container\"><div class=\"sk-label sk-toggleable\"><input class=\"sk-toggleable__control sk-hidden--visually\" id=\"a26a4a58-5b89-4545-8a18-c6412c93952d\" type=\"checkbox\" ><label for=\"a26a4a58-5b89-4545-8a18-c6412c93952d\" class=\"sk-toggleable__label sk-toggleable__label-arrow\">outlet_Type</label><div class=\"sk-toggleable__content\"><pre>[6]</pre></div></div></div><div class=\"sk-serial\"><div class=\"sk-item\"><div class=\"sk-estimator sk-toggleable\"><input class=\"sk-toggleable__control sk-hidden--visually\" id=\"0ef63084-5820-4b52-9396-5ebae2a445fa\" type=\"checkbox\" ><label for=\"0ef63084-5820-4b52-9396-5ebae2a445fa\" class=\"sk-toggleable__label sk-toggleable__label-arrow\">OrdinalEncoder</label><div class=\"sk-toggleable__content\"><pre>OrdinalEncoder(categories=[[&#x27;Grocery Store&#x27;, &#x27;Supermarket Type1&#x27;,\n",
       "                            &#x27;Supermarket Type2&#x27;, &#x27;Supermarket Type3&#x27;]])</pre></div></div></div></div></div></div><div class=\"sk-parallel-item\"><div class=\"sk-item\"><div class=\"sk-label-container\"><div class=\"sk-label sk-toggleable\"><input class=\"sk-toggleable__control sk-hidden--visually\" id=\"2d04419b-2fce-434d-bb63-8b0b103e06e5\" type=\"checkbox\" ><label for=\"2d04419b-2fce-434d-bb63-8b0b103e06e5\" class=\"sk-toggleable__label sk-toggleable__label-arrow\">remainder</label><div class=\"sk-toggleable__content\"><pre>[0, 3, 4]</pre></div></div></div><div class=\"sk-serial\"><div class=\"sk-item\"><div class=\"sk-estimator sk-toggleable\"><input class=\"sk-toggleable__control sk-hidden--visually\" id=\"02618c73-b937-4344-b6f4-71694689d306\" type=\"checkbox\" ><label for=\"02618c73-b937-4344-b6f4-71694689d306\" class=\"sk-toggleable__label sk-toggleable__label-arrow\">passthrough</label><div class=\"sk-toggleable__content\"><pre>passthrough</pre></div></div></div></div></div></div></div></div><div class=\"sk-item sk-dashed-wrapped\"><div class=\"sk-label-container\"><div class=\"sk-label sk-toggleable\"><input class=\"sk-toggleable__control sk-hidden--visually\" id=\"715753a4-f336-41a8-b85e-84ecb3766401\" type=\"checkbox\" ><label for=\"715753a4-f336-41a8-b85e-84ecb3766401\" class=\"sk-toggleable__label sk-toggleable__label-arrow\">columntransformer-3: ColumnTransformer</label><div class=\"sk-toggleable__content\"><pre>ColumnTransformer(transformers=[(&#x27;scale&#x27;, StandardScaler(), slice(0, 8, None))])</pre></div></div></div><div class=\"sk-parallel\"><div class=\"sk-parallel-item\"><div class=\"sk-item\"><div class=\"sk-label-container\"><div class=\"sk-label sk-toggleable\"><input class=\"sk-toggleable__control sk-hidden--visually\" id=\"502b9897-9201-46e5-bca8-e5a36114b1a5\" type=\"checkbox\" ><label for=\"502b9897-9201-46e5-bca8-e5a36114b1a5\" class=\"sk-toggleable__label sk-toggleable__label-arrow\">scale</label><div class=\"sk-toggleable__content\"><pre>slice(0, 8, None)</pre></div></div></div><div class=\"sk-serial\"><div class=\"sk-item\"><div class=\"sk-estimator sk-toggleable\"><input class=\"sk-toggleable__control sk-hidden--visually\" id=\"f9e235ac-17ec-4f0f-bc6a-3fa42d513747\" type=\"checkbox\" ><label for=\"f9e235ac-17ec-4f0f-bc6a-3fa42d513747\" class=\"sk-toggleable__label sk-toggleable__label-arrow\">StandardScaler</label><div class=\"sk-toggleable__content\"><pre>StandardScaler()</pre></div></div></div></div></div></div></div></div><div class=\"sk-item\"><div class=\"sk-estimator sk-toggleable\"><input class=\"sk-toggleable__control sk-hidden--visually\" id=\"4df2e96a-1b21-497d-b227-272927485f36\" type=\"checkbox\" ><label for=\"4df2e96a-1b21-497d-b227-272927485f36\" class=\"sk-toggleable__label sk-toggleable__label-arrow\">RandomForestRegressor</label><div class=\"sk-toggleable__content\"><pre>RandomForestRegressor(max_depth=6, n_estimators=300)</pre></div></div></div></div></div></div></div>"
      ],
      "text/plain": [
       "Pipeline(steps=[('columntransformer-1',\n",
       "                 ColumnTransformer(remainder='passthrough',\n",
       "                                   transformers=[('impute_item_weight',\n",
       "                                                  SimpleImputer(), [0]),\n",
       "                                                 ('impute_outlet_size',\n",
       "                                                  SimpleImputer(strategy='most_frequent'),\n",
       "                                                  [4])])),\n",
       "                ('columntransformer-2',\n",
       "                 ColumnTransformer(remainder='passthrough',\n",
       "                                   transformers=[('item_fat_content_ordinal',\n",
       "                                                  OrdinalEncoder(categories=[['Low '\n",
       "                                                                              'F...\n",
       "                                                  OrdinalEncoder(categories=[['Tier '\n",
       "                                                                              '1',\n",
       "                                                                              'Tier '\n",
       "                                                                              '2',\n",
       "                                                                              'Tier '\n",
       "                                                                              '3']]),\n",
       "                                                  [5]),\n",
       "                                                 ('outlet_Type',\n",
       "                                                  OrdinalEncoder(categories=[['Grocery '\n",
       "                                                                              'Store',\n",
       "                                                                              'Supermarket '\n",
       "                                                                              'Type1',\n",
       "                                                                              'Supermarket '\n",
       "                                                                              'Type2',\n",
       "                                                                              'Supermarket '\n",
       "                                                                              'Type3']]),\n",
       "                                                  [6])])),\n",
       "                ('columntransformer-3',\n",
       "                 ColumnTransformer(transformers=[('scale', StandardScaler(),\n",
       "                                                  slice(0, 8, None))])),\n",
       "                ('randomforestregressor',\n",
       "                 RandomForestRegressor(max_depth=6, n_estimators=300))])"
      ]
     },
     "execution_count": 253,
     "metadata": {},
     "output_type": "execute_result"
    }
   ],
   "source": [
    "model.fit(X_train , y_train) "
   ]
  },
  {
   "cell_type": "code",
   "execution_count": 254,
   "id": "6c5a5784",
   "metadata": {},
   "outputs": [
    {
     "data": {
      "text/plain": [
       "0.5989374127934313"
      ]
     },
     "execution_count": 254,
     "metadata": {},
     "output_type": "execute_result"
    }
   ],
   "source": [
    "y_pred = model.predict(X_test)\n",
    "r2_score(y_test , y_pred) "
   ]
  },
  {
   "cell_type": "code",
   "execution_count": null,
   "id": "64986ae4",
   "metadata": {},
   "outputs": [],
   "source": []
  }
 ],
 "metadata": {
  "kernelspec": {
   "display_name": "Python 3 (ipykernel)",
   "language": "python",
   "name": "python3"
  },
  "language_info": {
   "codemirror_mode": {
    "name": "ipython",
    "version": 3
   },
   "file_extension": ".py",
   "mimetype": "text/x-python",
   "name": "python",
   "nbconvert_exporter": "python",
   "pygments_lexer": "ipython3",
   "version": "3.9.12"
  }
 },
 "nbformat": 4,
 "nbformat_minor": 5
}
