{
 "cells": [
  {
   "cell_type": "markdown",
   "metadata": {},
   "source": [
    "# Problem Statement \n",
    "\n",
    "In order to forecast the sales of each product at a specific store, BigMart Sales Prediction aims to comprehend the characteristics of products and how they interact with factors unique to each store.\n",
    "\n",
    "### Goal : \n",
    "\n",
    "- enhance inventory management\n",
    "- increase sales \n",
    "- marketing decision"
   ]
  },
  {
   "cell_type": "markdown",
   "metadata": {},
   "source": [
    "# Hypothesis Generation \n",
    "\n",
    "\n",
    "- consumer behaviour : \n",
    "    - age , income and family size\n",
    "    - loyalty programs\n",
    "    - maketing campaigns\n",
    "    - online reviews\n",
    "\n",
    "- product :\n",
    "    - higher brand recognition ( higher sales )\n",
    "    - near expiration date ( lower sales )\n",
    "    - new product launches ( lowers sales compared to old known products )\n",
    "\n",
    "- market (store) conditions : \n",
    "    - location ( traffic , income levels )\n",
    "    - better placement , displays\n",
    "    - shorter wait times \n",
    "\n",
    "- macro :\n",
    "    - competitors prices \n",
    "    - inflation"
   ]
  },
  {
   "cell_type": "markdown",
   "metadata": {},
   "source": [
    "## Data Cleaning\n"
   ]
  },
  {
   "cell_type": "code",
   "execution_count": null,
   "metadata": {},
   "outputs": [],
   "source": [
    "# loading the data \n",
    "import pandas as pd\n",
    "\n",
    "data = pd.read_csv('data/Train.csv')"
   ]
  },
  {
   "cell_type": "code",
   "execution_count": null,
   "metadata": {},
   "outputs": [],
   "source": [
    "# discovering the data\n",
    "\n",
    "data.head()\n",
    "data.describe()\n",
    "data.info()"
   ]
  },
  {
   "cell_type": "code",
   "execution_count": null,
   "metadata": {},
   "outputs": [],
   "source": [
    "# checking for missing values\n",
    "data.isnull().sum()\n",
    "# there are missing values in 'Item_Weight' and 'Outlet_Size' columns\n",
    "# we will fill the missing values in 'Item_Weight' with the mean of the column\n",
    "# and the missing values in 'Outlet_Size' with the mode of the column\n",
    "data['Item_Weight'].fillna(data['Item_Weight'].mean(), inplace=True)\n",
    "data['Outlet_Size'].fillna(data['Outlet_Size'].mode()[0], inplace=True)"
   ]
  },
  {
   "cell_type": "code",
   "execution_count": null,
   "metadata": {},
   "outputs": [],
   "source": [
    "# feature engineering \n"
   ]
  }
 ],
 "metadata": {
  "kernelspec": {
   "display_name": "BigMart",
   "language": "python",
   "name": "python3"
  },
  "language_info": {
   "codemirror_mode": {
    "name": "ipython",
    "version": 3
   },
   "file_extension": ".py",
   "mimetype": "text/x-python",
   "name": "python",
   "nbconvert_exporter": "python",
   "pygments_lexer": "ipython3",
   "version": "3.10.12"
  }
 },
 "nbformat": 4,
 "nbformat_minor": 2
}
